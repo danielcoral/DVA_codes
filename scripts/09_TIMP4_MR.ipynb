{
 "cells": [
  {
   "cell_type": "markdown",
   "id": "37e14eef-5898-4042-96ac-40c9f1f4a697",
   "metadata": {},
   "source": [
    "# TIMP4 MR"
   ]
  },
  {
   "cell_type": "code",
   "execution_count": 1,
   "id": "ad087105-87b0-420e-933c-a6cc6ba57a0f",
   "metadata": {},
   "outputs": [],
   "source": [
    "library(readr)\n",
    "library(dplyr, warn.conflicts = FALSE)\n",
    "library(tidyr, warn.conflicts = FALSE)\n",
    "library(purrr)\n",
    "library(ggplot2)"
   ]
  },
  {
   "cell_type": "markdown",
   "id": "f87c161f-118b-462e-8c1a-4168122dac1a",
   "metadata": {},
   "source": [
    "Gene region of TIMP4 in hg19:"
   ]
  },
  {
   "cell_type": "code",
   "execution_count": 2,
   "id": "abf9e6e0-253e-402f-b0a2-5721f336e431",
   "metadata": {},
   "outputs": [
    {
     "data": {
      "text/html": [
       "<table class=\"dataframe\">\n",
       "<caption>A data.frame: 6 × 25</caption>\n",
       "<thead>\n",
       "\t<tr><th></th><th scope=col>seqid</th><th scope=col>source</th><th scope=col>type</th><th scope=col>start</th><th scope=col>end</th><th scope=col>score</th><th scope=col>strand</th><th scope=col>phase</th><th scope=col>gene_id</th><th scope=col>transcript_id</th><th scope=col>⋯</th><th scope=col>transcript_name</th><th scope=col>level</th><th scope=col>havana_gene</th><th scope=col>tag</th><th scope=col>havana_transcript</th><th scope=col>exon_number</th><th scope=col>exon_id</th><th scope=col>ont</th><th scope=col>protein_id</th><th scope=col>ccdsid</th></tr>\n",
       "\t<tr><th></th><th scope=col>&lt;fct&gt;</th><th scope=col>&lt;fct&gt;</th><th scope=col>&lt;fct&gt;</th><th scope=col>&lt;int&gt;</th><th scope=col>&lt;int&gt;</th><th scope=col>&lt;dbl&gt;</th><th scope=col>&lt;chr&gt;</th><th scope=col>&lt;int&gt;</th><th scope=col>&lt;chr&gt;</th><th scope=col>&lt;chr&gt;</th><th scope=col>⋯</th><th scope=col>&lt;chr&gt;</th><th scope=col>&lt;chr&gt;</th><th scope=col>&lt;chr&gt;</th><th scope=col>&lt;chr&gt;</th><th scope=col>&lt;chr&gt;</th><th scope=col>&lt;chr&gt;</th><th scope=col>&lt;chr&gt;</th><th scope=col>&lt;chr&gt;</th><th scope=col>&lt;chr&gt;</th><th scope=col>&lt;chr&gt;</th></tr>\n",
       "</thead>\n",
       "<tbody>\n",
       "\t<tr><th scope=row>1</th><td>chr1</td><td>HAVANA </td><td>gene      </td><td>11869</td><td>14412</td><td>NA</td><td>+</td><td>NA</td><td>ENSG00000223972.4</td><td>ENSG00000223972.4</td><td>⋯</td><td>DDX11L1    </td><td>2</td><td>OTTHUMG00000000961.2</td><td>NA   </td><td>NA                  </td><td>NA</td><td>NA               </td><td>NA</td><td>NA</td><td>NA</td></tr>\n",
       "\t<tr><th scope=row>2</th><td>chr1</td><td>HAVANA </td><td>transcript</td><td>11869</td><td>14409</td><td>NA</td><td>+</td><td>NA</td><td>ENSG00000223972.4</td><td>ENST00000456328.2</td><td>⋯</td><td>DDX11L1-002</td><td>2</td><td>OTTHUMG00000000961.2</td><td>basic</td><td>OTTHUMT00000362751.1</td><td>NA</td><td>NA               </td><td>NA</td><td>NA</td><td>NA</td></tr>\n",
       "\t<tr><th scope=row>3</th><td>chr1</td><td>HAVANA </td><td>exon      </td><td>11869</td><td>12227</td><td>NA</td><td>+</td><td>NA</td><td>ENSG00000223972.4</td><td>ENST00000456328.2</td><td>⋯</td><td>DDX11L1-002</td><td>2</td><td>OTTHUMG00000000961.2</td><td>basic</td><td>OTTHUMT00000362751.1</td><td>1 </td><td>ENSE00002234944.1</td><td>NA</td><td>NA</td><td>NA</td></tr>\n",
       "\t<tr><th scope=row>4</th><td>chr1</td><td>HAVANA </td><td>exon      </td><td>12613</td><td>12721</td><td>NA</td><td>+</td><td>NA</td><td>ENSG00000223972.4</td><td>ENST00000456328.2</td><td>⋯</td><td>DDX11L1-002</td><td>2</td><td>OTTHUMG00000000961.2</td><td>basic</td><td>OTTHUMT00000362751.1</td><td>2 </td><td>ENSE00003582793.1</td><td>NA</td><td>NA</td><td>NA</td></tr>\n",
       "\t<tr><th scope=row>5</th><td>chr1</td><td>HAVANA </td><td>exon      </td><td>13221</td><td>14409</td><td>NA</td><td>+</td><td>NA</td><td>ENSG00000223972.4</td><td>ENST00000456328.2</td><td>⋯</td><td>DDX11L1-002</td><td>2</td><td>OTTHUMG00000000961.2</td><td>basic</td><td>OTTHUMT00000362751.1</td><td>3 </td><td>ENSE00002312635.1</td><td>NA</td><td>NA</td><td>NA</td></tr>\n",
       "\t<tr><th scope=row>6</th><td>chr1</td><td>ENSEMBL</td><td>transcript</td><td>11872</td><td>14412</td><td>NA</td><td>+</td><td>NA</td><td>ENSG00000223972.4</td><td>ENST00000515242.2</td><td>⋯</td><td>DDX11L1-201</td><td>3</td><td>OTTHUMG00000000961.2</td><td>NA   </td><td>NA                  </td><td>NA</td><td>NA               </td><td>NA</td><td>NA</td><td>NA</td></tr>\n",
       "</tbody>\n",
       "</table>\n"
      ],
      "text/latex": [
       "A data.frame: 6 × 25\n",
       "\\begin{tabular}{r|lllllllllllllllllllll}\n",
       "  & seqid & source & type & start & end & score & strand & phase & gene\\_id & transcript\\_id & ⋯ & transcript\\_name & level & havana\\_gene & tag & havana\\_transcript & exon\\_number & exon\\_id & ont & protein\\_id & ccdsid\\\\\n",
       "  & <fct> & <fct> & <fct> & <int> & <int> & <dbl> & <chr> & <int> & <chr> & <chr> & ⋯ & <chr> & <chr> & <chr> & <chr> & <chr> & <chr> & <chr> & <chr> & <chr> & <chr>\\\\\n",
       "\\hline\n",
       "\t1 & chr1 & HAVANA  & gene       & 11869 & 14412 & NA & + & NA & ENSG00000223972.4 & ENSG00000223972.4 & ⋯ & DDX11L1     & 2 & OTTHUMG00000000961.2 & NA    & NA                   & NA & NA                & NA & NA & NA\\\\\n",
       "\t2 & chr1 & HAVANA  & transcript & 11869 & 14409 & NA & + & NA & ENSG00000223972.4 & ENST00000456328.2 & ⋯ & DDX11L1-002 & 2 & OTTHUMG00000000961.2 & basic & OTTHUMT00000362751.1 & NA & NA                & NA & NA & NA\\\\\n",
       "\t3 & chr1 & HAVANA  & exon       & 11869 & 12227 & NA & + & NA & ENSG00000223972.4 & ENST00000456328.2 & ⋯ & DDX11L1-002 & 2 & OTTHUMG00000000961.2 & basic & OTTHUMT00000362751.1 & 1  & ENSE00002234944.1 & NA & NA & NA\\\\\n",
       "\t4 & chr1 & HAVANA  & exon       & 12613 & 12721 & NA & + & NA & ENSG00000223972.4 & ENST00000456328.2 & ⋯ & DDX11L1-002 & 2 & OTTHUMG00000000961.2 & basic & OTTHUMT00000362751.1 & 2  & ENSE00003582793.1 & NA & NA & NA\\\\\n",
       "\t5 & chr1 & HAVANA  & exon       & 13221 & 14409 & NA & + & NA & ENSG00000223972.4 & ENST00000456328.2 & ⋯ & DDX11L1-002 & 2 & OTTHUMG00000000961.2 & basic & OTTHUMT00000362751.1 & 3  & ENSE00002312635.1 & NA & NA & NA\\\\\n",
       "\t6 & chr1 & ENSEMBL & transcript & 11872 & 14412 & NA & + & NA & ENSG00000223972.4 & ENST00000515242.2 & ⋯ & DDX11L1-201 & 3 & OTTHUMG00000000961.2 & NA    & NA                   & NA & NA                & NA & NA & NA\\\\\n",
       "\\end{tabular}\n"
      ],
      "text/markdown": [
       "\n",
       "A data.frame: 6 × 25\n",
       "\n",
       "| <!--/--> | seqid &lt;fct&gt; | source &lt;fct&gt; | type &lt;fct&gt; | start &lt;int&gt; | end &lt;int&gt; | score &lt;dbl&gt; | strand &lt;chr&gt; | phase &lt;int&gt; | gene_id &lt;chr&gt; | transcript_id &lt;chr&gt; | ⋯ ⋯ | transcript_name &lt;chr&gt; | level &lt;chr&gt; | havana_gene &lt;chr&gt; | tag &lt;chr&gt; | havana_transcript &lt;chr&gt; | exon_number &lt;chr&gt; | exon_id &lt;chr&gt; | ont &lt;chr&gt; | protein_id &lt;chr&gt; | ccdsid &lt;chr&gt; |\n",
       "|---|---|---|---|---|---|---|---|---|---|---|---|---|---|---|---|---|---|---|---|---|---|\n",
       "| 1 | chr1 | HAVANA  | gene       | 11869 | 14412 | NA | + | NA | ENSG00000223972.4 | ENSG00000223972.4 | ⋯ | DDX11L1     | 2 | OTTHUMG00000000961.2 | NA    | NA                   | NA | NA                | NA | NA | NA |\n",
       "| 2 | chr1 | HAVANA  | transcript | 11869 | 14409 | NA | + | NA | ENSG00000223972.4 | ENST00000456328.2 | ⋯ | DDX11L1-002 | 2 | OTTHUMG00000000961.2 | basic | OTTHUMT00000362751.1 | NA | NA                | NA | NA | NA |\n",
       "| 3 | chr1 | HAVANA  | exon       | 11869 | 12227 | NA | + | NA | ENSG00000223972.4 | ENST00000456328.2 | ⋯ | DDX11L1-002 | 2 | OTTHUMG00000000961.2 | basic | OTTHUMT00000362751.1 | 1  | ENSE00002234944.1 | NA | NA | NA |\n",
       "| 4 | chr1 | HAVANA  | exon       | 12613 | 12721 | NA | + | NA | ENSG00000223972.4 | ENST00000456328.2 | ⋯ | DDX11L1-002 | 2 | OTTHUMG00000000961.2 | basic | OTTHUMT00000362751.1 | 2  | ENSE00003582793.1 | NA | NA | NA |\n",
       "| 5 | chr1 | HAVANA  | exon       | 13221 | 14409 | NA | + | NA | ENSG00000223972.4 | ENST00000456328.2 | ⋯ | DDX11L1-002 | 2 | OTTHUMG00000000961.2 | basic | OTTHUMT00000362751.1 | 3  | ENSE00002312635.1 | NA | NA | NA |\n",
       "| 6 | chr1 | ENSEMBL | transcript | 11872 | 14412 | NA | + | NA | ENSG00000223972.4 | ENST00000515242.2 | ⋯ | DDX11L1-201 | 3 | OTTHUMG00000000961.2 | NA    | NA                   | NA | NA                | NA | NA | NA |\n",
       "\n"
      ],
      "text/plain": [
       "  seqid source  type       start end   score strand phase gene_id          \n",
       "1 chr1  HAVANA  gene       11869 14412 NA    +      NA    ENSG00000223972.4\n",
       "2 chr1  HAVANA  transcript 11869 14409 NA    +      NA    ENSG00000223972.4\n",
       "3 chr1  HAVANA  exon       11869 12227 NA    +      NA    ENSG00000223972.4\n",
       "4 chr1  HAVANA  exon       12613 12721 NA    +      NA    ENSG00000223972.4\n",
       "5 chr1  HAVANA  exon       13221 14409 NA    +      NA    ENSG00000223972.4\n",
       "6 chr1  ENSEMBL transcript 11872 14412 NA    +      NA    ENSG00000223972.4\n",
       "  transcript_id     <U+22EF>   transcript_name level havana_gene          tag  \n",
       "1 ENSG00000223972.4 <U+22EF> DDX11L1         2     OTTHUMG00000000961.2 NA   \n",
       "2 ENST00000456328.2 <U+22EF> DDX11L1-002     2     OTTHUMG00000000961.2 basic\n",
       "3 ENST00000456328.2 <U+22EF> DDX11L1-002     2     OTTHUMG00000000961.2 basic\n",
       "4 ENST00000456328.2 <U+22EF> DDX11L1-002     2     OTTHUMG00000000961.2 basic\n",
       "5 ENST00000456328.2 <U+22EF> DDX11L1-002     2     OTTHUMG00000000961.2 basic\n",
       "6 ENST00000515242.2 <U+22EF> DDX11L1-201     3     OTTHUMG00000000961.2 NA   \n",
       "  havana_transcript    exon_number exon_id           ont protein_id ccdsid\n",
       "1 NA                   NA          NA                NA  NA         NA    \n",
       "2 OTTHUMT00000362751.1 NA          NA                NA  NA         NA    \n",
       "3 OTTHUMT00000362751.1 1           ENSE00002234944.1 NA  NA         NA    \n",
       "4 OTTHUMT00000362751.1 2           ENSE00003582793.1 NA  NA         NA    \n",
       "5 OTTHUMT00000362751.1 3           ENSE00002312635.1 NA  NA         NA    \n",
       "6 NA                   NA          NA                NA  NA         NA    "
      ]
     },
     "metadata": {},
     "output_type": "display_data"
    }
   ],
   "source": [
    "gencode <- rtracklayer::readGFF(\"~/projects/DVA/Data/ReferenceData/gencode.v19.annotation.gtf\")\n",
    "head(gencode)"
   ]
  },
  {
   "cell_type": "code",
   "execution_count": 3,
   "id": "90391db5-d42c-419e-8eb4-2c8f7efd7209",
   "metadata": {},
   "outputs": [
    {
     "name": "stderr",
     "output_type": "stream",
     "text": [
      "Warning message in mask$eval_all_mutate(quo):\n",
      "\"NAs introduced by coercion\"\n"
     ]
    },
    {
     "data": {
      "text/html": [
       "<table class=\"dataframe\">\n",
       "<caption>A data.frame: 6 × 6</caption>\n",
       "<thead>\n",
       "\t<tr><th></th><th scope=col>chr</th><th scope=col>gene_name</th><th scope=col>start</th><th scope=col>end</th><th scope=col>strand</th><th scope=col>gene_type</th></tr>\n",
       "\t<tr><th></th><th scope=col>&lt;dbl&gt;</th><th scope=col>&lt;chr&gt;</th><th scope=col>&lt;int&gt;</th><th scope=col>&lt;int&gt;</th><th scope=col>&lt;chr&gt;</th><th scope=col>&lt;chr&gt;</th></tr>\n",
       "</thead>\n",
       "<tbody>\n",
       "\t<tr><th scope=row>1</th><td>1</td><td>DDX11L1   </td><td>11869</td><td>14412</td><td>+</td><td>pseudogene</td></tr>\n",
       "\t<tr><th scope=row>2</th><td>1</td><td>WASH7P    </td><td>14363</td><td>29806</td><td>-</td><td>pseudogene</td></tr>\n",
       "\t<tr><th scope=row>3</th><td>1</td><td>MIR1302-11</td><td>29554</td><td>31109</td><td>+</td><td>lincRNA   </td></tr>\n",
       "\t<tr><th scope=row>4</th><td>1</td><td>FAM138A   </td><td>34554</td><td>36081</td><td>-</td><td>lincRNA   </td></tr>\n",
       "\t<tr><th scope=row>5</th><td>1</td><td>OR4G4P    </td><td>52473</td><td>54936</td><td>+</td><td>pseudogene</td></tr>\n",
       "\t<tr><th scope=row>6</th><td>1</td><td>OR4G11P   </td><td>62948</td><td>63887</td><td>+</td><td>pseudogene</td></tr>\n",
       "</tbody>\n",
       "</table>\n"
      ],
      "text/latex": [
       "A data.frame: 6 × 6\n",
       "\\begin{tabular}{r|llllll}\n",
       "  & chr & gene\\_name & start & end & strand & gene\\_type\\\\\n",
       "  & <dbl> & <chr> & <int> & <int> & <chr> & <chr>\\\\\n",
       "\\hline\n",
       "\t1 & 1 & DDX11L1    & 11869 & 14412 & + & pseudogene\\\\\n",
       "\t2 & 1 & WASH7P     & 14363 & 29806 & - & pseudogene\\\\\n",
       "\t3 & 1 & MIR1302-11 & 29554 & 31109 & + & lincRNA   \\\\\n",
       "\t4 & 1 & FAM138A    & 34554 & 36081 & - & lincRNA   \\\\\n",
       "\t5 & 1 & OR4G4P     & 52473 & 54936 & + & pseudogene\\\\\n",
       "\t6 & 1 & OR4G11P    & 62948 & 63887 & + & pseudogene\\\\\n",
       "\\end{tabular}\n"
      ],
      "text/markdown": [
       "\n",
       "A data.frame: 6 × 6\n",
       "\n",
       "| <!--/--> | chr &lt;dbl&gt; | gene_name &lt;chr&gt; | start &lt;int&gt; | end &lt;int&gt; | strand &lt;chr&gt; | gene_type &lt;chr&gt; |\n",
       "|---|---|---|---|---|---|---|\n",
       "| 1 | 1 | DDX11L1    | 11869 | 14412 | + | pseudogene |\n",
       "| 2 | 1 | WASH7P     | 14363 | 29806 | - | pseudogene |\n",
       "| 3 | 1 | MIR1302-11 | 29554 | 31109 | + | lincRNA    |\n",
       "| 4 | 1 | FAM138A    | 34554 | 36081 | - | lincRNA    |\n",
       "| 5 | 1 | OR4G4P     | 52473 | 54936 | + | pseudogene |\n",
       "| 6 | 1 | OR4G11P    | 62948 | 63887 | + | pseudogene |\n",
       "\n"
      ],
      "text/plain": [
       "  chr gene_name  start end   strand gene_type \n",
       "1 1   DDX11L1    11869 14412 +      pseudogene\n",
       "2 1   WASH7P     14363 29806 -      pseudogene\n",
       "3 1   MIR1302-11 29554 31109 +      lincRNA   \n",
       "4 1   FAM138A    34554 36081 -      lincRNA   \n",
       "5 1   OR4G4P     52473 54936 +      pseudogene\n",
       "6 1   OR4G11P    62948 63887 +      pseudogene"
      ]
     },
     "metadata": {},
     "output_type": "display_data"
    }
   ],
   "source": [
    "gene_regions <- gencode %>%\n",
    "    filter(type == \"gene\") %>%\n",
    "    transmute(chr = as.numeric(gsub(\"chr\", \"\", seqid)), gene_name, start, end, strand, gene_type) %>%\n",
    "    drop_na\n",
    "head(gene_regions)"
   ]
  },
  {
   "cell_type": "code",
   "execution_count": 4,
   "id": "12c88f4a-0cf9-45c9-b2f2-abeb079b95f4",
   "metadata": {},
   "outputs": [
    {
     "data": {
      "text/html": [
       "<table class=\"dataframe\">\n",
       "<caption>A data.frame: 1 × 6</caption>\n",
       "<thead>\n",
       "\t<tr><th scope=col>chr</th><th scope=col>gene_name</th><th scope=col>start</th><th scope=col>end</th><th scope=col>strand</th><th scope=col>gene_type</th></tr>\n",
       "\t<tr><th scope=col>&lt;dbl&gt;</th><th scope=col>&lt;chr&gt;</th><th scope=col>&lt;int&gt;</th><th scope=col>&lt;int&gt;</th><th scope=col>&lt;chr&gt;</th><th scope=col>&lt;chr&gt;</th></tr>\n",
       "</thead>\n",
       "<tbody>\n",
       "\t<tr><td>3</td><td>TIMP4</td><td>12194551</td><td>12200851</td><td>-</td><td>protein_coding</td></tr>\n",
       "</tbody>\n",
       "</table>\n"
      ],
      "text/latex": [
       "A data.frame: 1 × 6\n",
       "\\begin{tabular}{llllll}\n",
       " chr & gene\\_name & start & end & strand & gene\\_type\\\\\n",
       " <dbl> & <chr> & <int> & <int> & <chr> & <chr>\\\\\n",
       "\\hline\n",
       "\t 3 & TIMP4 & 12194551 & 12200851 & - & protein\\_coding\\\\\n",
       "\\end{tabular}\n"
      ],
      "text/markdown": [
       "\n",
       "A data.frame: 1 × 6\n",
       "\n",
       "| chr &lt;dbl&gt; | gene_name &lt;chr&gt; | start &lt;int&gt; | end &lt;int&gt; | strand &lt;chr&gt; | gene_type &lt;chr&gt; |\n",
       "|---|---|---|---|---|---|\n",
       "| 3 | TIMP4 | 12194551 | 12200851 | - | protein_coding |\n",
       "\n"
      ],
      "text/plain": [
       "  chr gene_name start    end      strand gene_type     \n",
       "1 3   TIMP4     12194551 12200851 -      protein_coding"
      ]
     },
     "metadata": {},
     "output_type": "display_data"
    }
   ],
   "source": [
    "timp4_region <- gene_regions %>%\n",
    "    filter(gene_name == \"TIMP4\")\n",
    "timp4_region"
   ]
  },
  {
   "cell_type": "code",
   "execution_count": 3,
   "id": "aa9c678f-9fc0-4971-ae80-c840c4798263",
   "metadata": {},
   "outputs": [
    {
     "data": {
      "text/html": [
       "11694551"
      ],
      "text/latex": [
       "11694551"
      ],
      "text/markdown": [
       "11694551"
      ],
      "text/plain": [
       "[1] 11694551"
      ]
     },
     "metadata": {},
     "output_type": "display_data"
    },
    {
     "data": {
      "text/html": [
       "12700851"
      ],
      "text/latex": [
       "12700851"
      ],
      "text/markdown": [
       "12700851"
      ],
      "text/plain": [
       "[1] 12700851"
      ]
     },
     "metadata": {},
     "output_type": "display_data"
    }
   ],
   "source": [
    "12194551 - 5e5\n",
    "12200851 + 5e5"
   ]
  },
  {
   "cell_type": "code",
   "execution_count": 5,
   "id": "bdbb4388-4405-4f96-9252-4084ee2d5003",
   "metadata": {},
   "outputs": [],
   "source": [
    "minpos <- timp4_region$start - 5e5\n",
    "maxpos <- timp4_region$end + 5e5"
   ]
  },
  {
   "cell_type": "markdown",
   "id": "adeba2b7-9c0b-4cd0-a15f-728a4bef081e",
   "metadata": {},
   "source": [
    "TIMP4 summary statistics were manually downloaded from the Open GWAS database in VCF format. To import the required gene region:"
   ]
  },
  {
   "cell_type": "code",
   "execution_count": 6,
   "id": "46ea56ef-b72c-42ac-8c73-4371d09de149",
   "metadata": {},
   "outputs": [
    {
     "name": "stderr",
     "output_type": "stream",
     "text": [
      "Warning message:\n",
      "\"One or more parsing issues, see `problems()` for details\"\n"
     ]
    },
    {
     "data": {
      "text/html": [
       "<table class=\"dataframe\">\n",
       "<caption>A tibble: 6 × 9</caption>\n",
       "<thead>\n",
       "\t<tr><th scope=col>chr</th><th scope=col>position</th><th scope=col>nea_exp</th><th scope=col>ea_exp</th><th scope=col>beta_exp</th><th scope=col>se_exp</th><th scope=col>logp_exp</th><th scope=col>eaf_exp</th><th scope=col>rsid</th></tr>\n",
       "\t<tr><th scope=col>&lt;dbl&gt;</th><th scope=col>&lt;dbl&gt;</th><th scope=col>&lt;chr&gt;</th><th scope=col>&lt;chr&gt;</th><th scope=col>&lt;dbl&gt;</th><th scope=col>&lt;dbl&gt;</th><th scope=col>&lt;dbl&gt;</th><th scope=col>&lt;dbl&gt;</th><th scope=col>&lt;chr&gt;</th></tr>\n",
       "</thead>\n",
       "<tbody>\n",
       "\t<tr><td>3</td><td>7194660</td><td>G</td><td>A</td><td>-0.0624</td><td>0.0259</td><td>1.8000000</td><td>0.32366</td><td>rs12485585</td></tr>\n",
       "\t<tr><td>3</td><td>7194910</td><td>A</td><td>C</td><td>-0.0334</td><td>0.0243</td><td>0.7700010</td><td>0.52204</td><td>rs7626768 </td></tr>\n",
       "\t<tr><td>3</td><td>7194934</td><td>C</td><td>T</td><td>-0.0633</td><td>0.0259</td><td>1.8400000</td><td>0.32471</td><td>rs12492322</td></tr>\n",
       "\t<tr><td>3</td><td>7195141</td><td>T</td><td>C</td><td>-0.0624</td><td>0.0259</td><td>1.8000000</td><td>0.32340</td><td>rs17234990</td></tr>\n",
       "\t<tr><td>3</td><td>7195159</td><td>C</td><td>T</td><td> 0.0361</td><td>0.0314</td><td>0.5999990</td><td>0.18590</td><td>rs7617753 </td></tr>\n",
       "\t<tr><td>3</td><td>7195492</td><td>A</td><td>G</td><td>-0.0090</td><td>0.1328</td><td>0.0199998</td><td>0.00975</td><td>rs79541426</td></tr>\n",
       "</tbody>\n",
       "</table>\n"
      ],
      "text/latex": [
       "A tibble: 6 × 9\n",
       "\\begin{tabular}{lllllllll}\n",
       " chr & position & nea\\_exp & ea\\_exp & beta\\_exp & se\\_exp & logp\\_exp & eaf\\_exp & rsid\\\\\n",
       " <dbl> & <dbl> & <chr> & <chr> & <dbl> & <dbl> & <dbl> & <dbl> & <chr>\\\\\n",
       "\\hline\n",
       "\t 3 & 7194660 & G & A & -0.0624 & 0.0259 & 1.8000000 & 0.32366 & rs12485585\\\\\n",
       "\t 3 & 7194910 & A & C & -0.0334 & 0.0243 & 0.7700010 & 0.52204 & rs7626768 \\\\\n",
       "\t 3 & 7194934 & C & T & -0.0633 & 0.0259 & 1.8400000 & 0.32471 & rs12492322\\\\\n",
       "\t 3 & 7195141 & T & C & -0.0624 & 0.0259 & 1.8000000 & 0.32340 & rs17234990\\\\\n",
       "\t 3 & 7195159 & C & T &  0.0361 & 0.0314 & 0.5999990 & 0.18590 & rs7617753 \\\\\n",
       "\t 3 & 7195492 & A & G & -0.0090 & 0.1328 & 0.0199998 & 0.00975 & rs79541426\\\\\n",
       "\\end{tabular}\n"
      ],
      "text/markdown": [
       "\n",
       "A tibble: 6 × 9\n",
       "\n",
       "| chr &lt;dbl&gt; | position &lt;dbl&gt; | nea_exp &lt;chr&gt; | ea_exp &lt;chr&gt; | beta_exp &lt;dbl&gt; | se_exp &lt;dbl&gt; | logp_exp &lt;dbl&gt; | eaf_exp &lt;dbl&gt; | rsid &lt;chr&gt; |\n",
       "|---|---|---|---|---|---|---|---|---|\n",
       "| 3 | 7194660 | G | A | -0.0624 | 0.0259 | 1.8000000 | 0.32366 | rs12485585 |\n",
       "| 3 | 7194910 | A | C | -0.0334 | 0.0243 | 0.7700010 | 0.52204 | rs7626768  |\n",
       "| 3 | 7194934 | C | T | -0.0633 | 0.0259 | 1.8400000 | 0.32471 | rs12492322 |\n",
       "| 3 | 7195141 | T | C | -0.0624 | 0.0259 | 1.8000000 | 0.32340 | rs17234990 |\n",
       "| 3 | 7195159 | C | T |  0.0361 | 0.0314 | 0.5999990 | 0.18590 | rs7617753  |\n",
       "| 3 | 7195492 | A | G | -0.0090 | 0.1328 | 0.0199998 | 0.00975 | rs79541426 |\n",
       "\n"
      ],
      "text/plain": [
       "  chr position nea_exp ea_exp beta_exp se_exp logp_exp  eaf_exp rsid      \n",
       "1 3   7194660  G       A      -0.0624  0.0259 1.8000000 0.32366 rs12485585\n",
       "2 3   7194910  A       C      -0.0334  0.0243 0.7700010 0.52204 rs7626768 \n",
       "3 3   7194934  C       T      -0.0633  0.0259 1.8400000 0.32471 rs12492322\n",
       "4 3   7195141  T       C      -0.0624  0.0259 1.8000000 0.32340 rs17234990\n",
       "5 3   7195159  C       T       0.0361  0.0314 0.5999990 0.18590 rs7617753 \n",
       "6 3   7195492  A       G      -0.0090  0.1328 0.0199998 0.00975 rs79541426"
      ]
     },
     "metadata": {},
     "output_type": "display_data"
    },
    {
     "data": {
      "text/html": [
       "41021"
      ],
      "text/latex": [
       "41021"
      ],
      "text/markdown": [
       "41021"
      ],
      "text/plain": [
       "[1] 41021"
      ]
     },
     "metadata": {},
     "output_type": "display_data"
    }
   ],
   "source": [
    "timp4_ins <- paste(\n",
    "    \"zcat /ludc/Home/daniel_c/projects/DVA/Data/GWAS_sumstats/prot-a-2980.vcf.gz\",\n",
    "    \"grep -v '#'\",\n",
    "    \"awk '$1 == 3'\",\n",
    "    paste0(\"awk '$2 > \", minpos, \" && $2 < \", maxpos, \"'\"),\n",
    "    \"cut -f1,2,4,5,10\",\n",
    "    \"sed 's/:/\\t/g'\",\n",
    "    sep = \" | \"\n",
    ") %>%\n",
    "    pipe %>%\n",
    "    read_tsv(col_names = c(\"chr\", \"position\", \n",
    "                           paste(c(\"nea\", \"ea\", \"beta\", \"se\", \"logp\", \"eaf\"), \"exp\", sep = \"_\"),\n",
    "                           \"rsid\"),\n",
    "             col_types = \"nnccnnnnc\")\n",
    "head(timp4_ins)\n",
    "nrow(timp4_ins)"
   ]
  },
  {
   "cell_type": "markdown",
   "id": "be59abea-f3be-4587-a4a4-6004b5f532c6",
   "metadata": {},
   "source": [
    "## BMI data"
   ]
  },
  {
   "cell_type": "code",
   "execution_count": 7,
   "id": "e5d168d3-2810-46e4-b428-42a94d5ebdd0",
   "metadata": {},
   "outputs": [
    {
     "data": {
      "text/html": [
       "<table class=\"dataframe\">\n",
       "<caption>A tibble: 6 × 10</caption>\n",
       "<thead>\n",
       "\t<tr><th scope=col>chr</th><th scope=col>position</th><th scope=col>rsid</th><th scope=col>ea_bmi</th><th scope=col>nea_bmi</th><th scope=col>eaf_bmi</th><th scope=col>beta_bmi</th><th scope=col>se_bmi</th><th scope=col>pval_bmi</th><th scope=col>n_bmi</th></tr>\n",
       "\t<tr><th scope=col>&lt;dbl&gt;</th><th scope=col>&lt;dbl&gt;</th><th scope=col>&lt;chr&gt;</th><th scope=col>&lt;chr&gt;</th><th scope=col>&lt;chr&gt;</th><th scope=col>&lt;dbl&gt;</th><th scope=col>&lt;dbl&gt;</th><th scope=col>&lt;dbl&gt;</th><th scope=col>&lt;dbl&gt;</th><th scope=col>&lt;dbl&gt;</th></tr>\n",
       "</thead>\n",
       "<tbody>\n",
       "\t<tr><td>3</td><td>13432141</td><td>rs1000054 </td><td>A</td><td>G</td><td>0.34210</td><td>-0.0082</td><td>0.0018</td><td>7.5e-06</td><td>691797</td></tr>\n",
       "\t<tr><td>3</td><td> 7934333</td><td>rs1001254 </td><td>C</td><td>G</td><td>0.85090</td><td>-0.0011</td><td>0.0025</td><td>6.6e-01</td><td>691568</td></tr>\n",
       "\t<tr><td>3</td><td> 9112746</td><td>rs1001603 </td><td>A</td><td>G</td><td>0.44070</td><td> 0.0005</td><td>0.0018</td><td>7.9e-01</td><td>671732</td></tr>\n",
       "\t<tr><td>3</td><td>10538529</td><td>rs1003274 </td><td>T</td><td>C</td><td>0.81980</td><td> 0.0003</td><td>0.0023</td><td>9.1e-01</td><td>669689</td></tr>\n",
       "\t<tr><td>3</td><td>10866255</td><td>rs10049332</td><td>A</td><td>T</td><td>0.94341</td><td> 0.0039</td><td>0.0036</td><td>2.8e-01</td><td>675999</td></tr>\n",
       "\t<tr><td>3</td><td> 8896462</td><td>rs1005988 </td><td>A</td><td>C</td><td>0.58950</td><td>-0.0023</td><td>0.0018</td><td>2.0e-01</td><td>678402</td></tr>\n",
       "</tbody>\n",
       "</table>\n"
      ],
      "text/latex": [
       "A tibble: 6 × 10\n",
       "\\begin{tabular}{llllllllll}\n",
       " chr & position & rsid & ea\\_bmi & nea\\_bmi & eaf\\_bmi & beta\\_bmi & se\\_bmi & pval\\_bmi & n\\_bmi\\\\\n",
       " <dbl> & <dbl> & <chr> & <chr> & <chr> & <dbl> & <dbl> & <dbl> & <dbl> & <dbl>\\\\\n",
       "\\hline\n",
       "\t 3 & 13432141 & rs1000054  & A & G & 0.34210 & -0.0082 & 0.0018 & 7.5e-06 & 691797\\\\\n",
       "\t 3 &  7934333 & rs1001254  & C & G & 0.85090 & -0.0011 & 0.0025 & 6.6e-01 & 691568\\\\\n",
       "\t 3 &  9112746 & rs1001603  & A & G & 0.44070 &  0.0005 & 0.0018 & 7.9e-01 & 671732\\\\\n",
       "\t 3 & 10538529 & rs1003274  & T & C & 0.81980 &  0.0003 & 0.0023 & 9.1e-01 & 669689\\\\\n",
       "\t 3 & 10866255 & rs10049332 & A & T & 0.94341 &  0.0039 & 0.0036 & 2.8e-01 & 675999\\\\\n",
       "\t 3 &  8896462 & rs1005988  & A & C & 0.58950 & -0.0023 & 0.0018 & 2.0e-01 & 678402\\\\\n",
       "\\end{tabular}\n"
      ],
      "text/markdown": [
       "\n",
       "A tibble: 6 × 10\n",
       "\n",
       "| chr &lt;dbl&gt; | position &lt;dbl&gt; | rsid &lt;chr&gt; | ea_bmi &lt;chr&gt; | nea_bmi &lt;chr&gt; | eaf_bmi &lt;dbl&gt; | beta_bmi &lt;dbl&gt; | se_bmi &lt;dbl&gt; | pval_bmi &lt;dbl&gt; | n_bmi &lt;dbl&gt; |\n",
       "|---|---|---|---|---|---|---|---|---|---|\n",
       "| 3 | 13432141 | rs1000054  | A | G | 0.34210 | -0.0082 | 0.0018 | 7.5e-06 | 691797 |\n",
       "| 3 |  7934333 | rs1001254  | C | G | 0.85090 | -0.0011 | 0.0025 | 6.6e-01 | 691568 |\n",
       "| 3 |  9112746 | rs1001603  | A | G | 0.44070 |  0.0005 | 0.0018 | 7.9e-01 | 671732 |\n",
       "| 3 | 10538529 | rs1003274  | T | C | 0.81980 |  0.0003 | 0.0023 | 9.1e-01 | 669689 |\n",
       "| 3 | 10866255 | rs10049332 | A | T | 0.94341 |  0.0039 | 0.0036 | 2.8e-01 | 675999 |\n",
       "| 3 |  8896462 | rs1005988  | A | C | 0.58950 | -0.0023 | 0.0018 | 2.0e-01 | 678402 |\n",
       "\n"
      ],
      "text/plain": [
       "  chr position rsid       ea_bmi nea_bmi eaf_bmi beta_bmi se_bmi pval_bmi\n",
       "1 3   13432141 rs1000054  A      G       0.34210 -0.0082  0.0018 7.5e-06 \n",
       "2 3    7934333 rs1001254  C      G       0.85090 -0.0011  0.0025 6.6e-01 \n",
       "3 3    9112746 rs1001603  A      G       0.44070  0.0005  0.0018 7.9e-01 \n",
       "4 3   10538529 rs1003274  T      C       0.81980  0.0003  0.0023 9.1e-01 \n",
       "5 3   10866255 rs10049332 A      T       0.94341  0.0039  0.0036 2.8e-01 \n",
       "6 3    8896462 rs1005988  A      C       0.58950 -0.0023  0.0018 2.0e-01 \n",
       "  n_bmi \n",
       "1 691797\n",
       "2 691568\n",
       "3 671732\n",
       "4 669689\n",
       "5 675999\n",
       "6 678402"
      ]
     },
     "metadata": {},
     "output_type": "display_data"
    },
    {
     "data": {
      "text/html": [
       "9805"
      ],
      "text/latex": [
       "9805"
      ],
      "text/markdown": [
       "9805"
      ],
      "text/plain": [
       "[1] 9805"
      ]
     },
     "metadata": {},
     "output_type": "display_data"
    }
   ],
   "source": [
    "bmi <- paste0(\n",
    "    \"awk '$1 == 3 && $2 > \", minpos, \" && $2 < \", maxpos, \"' \",\n",
    "    \"~/projects/DVA/Data/GWAS_sumstats/bmi.txt\"\n",
    ") %>%\n",
    "    pipe %>%\n",
    "    read_tsv(col_names = c(\"chr\", \"position\", \"rsid\", \n",
    "                           paste(c(\"ea\", \"nea\", \"eaf\", \"beta\", \"se\", \"pval\", \"n\"), \"bmi\", sep = \"_\")),\n",
    "             col_types = \"nncccnnnnn\")\n",
    "head(bmi)\n",
    "nrow(bmi)"
   ]
  },
  {
   "cell_type": "markdown",
   "id": "1a7eb9ec-f86b-4908-b176-e4a9fb6e6df7",
   "metadata": {},
   "source": [
    "## Outcome data"
   ]
  },
  {
   "cell_type": "code",
   "execution_count": 8,
   "id": "3ff3a993-fd60-4e60-af3d-8e83cff670ce",
   "metadata": {},
   "outputs": [
    {
     "data": {
      "text/html": [
       "<table class=\"dataframe\">\n",
       "<caption>A tibble: 6 × 8</caption>\n",
       "<thead>\n",
       "\t<tr><th scope=col>chr</th><th scope=col>position</th><th scope=col>ea_t2d</th><th scope=col>nea_t2d</th><th scope=col>beta_t2d</th><th scope=col>se_t2d</th><th scope=col>pval_t2d</th><th scope=col>n_t2d</th></tr>\n",
       "\t<tr><th scope=col>&lt;dbl&gt;</th><th scope=col>&lt;dbl&gt;</th><th scope=col>&lt;chr&gt;</th><th scope=col>&lt;chr&gt;</th><th scope=col>&lt;dbl&gt;</th><th scope=col>&lt;dbl&gt;</th><th scope=col>&lt;dbl&gt;</th><th scope=col>&lt;dbl&gt;</th></tr>\n",
       "</thead>\n",
       "<tbody>\n",
       "\t<tr><td>3</td><td>12904558</td><td>A</td><td>G</td><td>-0.0410</td><td>0.018</td><td>0.026</td><td>158185</td></tr>\n",
       "\t<tr><td>3</td><td>10704569</td><td>T</td><td>C</td><td>-0.0240</td><td>0.023</td><td>0.310</td><td>158185</td></tr>\n",
       "\t<tr><td>3</td><td>14486746</td><td>T</td><td>C</td><td>-0.0630</td><td>0.084</td><td>0.450</td><td>140826</td></tr>\n",
       "\t<tr><td>3</td><td>14385910</td><td>A</td><td>G</td><td>-0.1300</td><td>0.087</td><td>0.140</td><td>115805</td></tr>\n",
       "\t<tr><td>3</td><td> 7913209</td><td>T</td><td>C</td><td>-0.0059</td><td>0.013</td><td>0.660</td><td>158185</td></tr>\n",
       "\t<tr><td>3</td><td>12514665</td><td>T</td><td>C</td><td> 0.0880</td><td>0.100</td><td>0.400</td><td>148040</td></tr>\n",
       "</tbody>\n",
       "</table>\n"
      ],
      "text/latex": [
       "A tibble: 6 × 8\n",
       "\\begin{tabular}{llllllll}\n",
       " chr & position & ea\\_t2d & nea\\_t2d & beta\\_t2d & se\\_t2d & pval\\_t2d & n\\_t2d\\\\\n",
       " <dbl> & <dbl> & <chr> & <chr> & <dbl> & <dbl> & <dbl> & <dbl>\\\\\n",
       "\\hline\n",
       "\t 3 & 12904558 & A & G & -0.0410 & 0.018 & 0.026 & 158185\\\\\n",
       "\t 3 & 10704569 & T & C & -0.0240 & 0.023 & 0.310 & 158185\\\\\n",
       "\t 3 & 14486746 & T & C & -0.0630 & 0.084 & 0.450 & 140826\\\\\n",
       "\t 3 & 14385910 & A & G & -0.1300 & 0.087 & 0.140 & 115805\\\\\n",
       "\t 3 &  7913209 & T & C & -0.0059 & 0.013 & 0.660 & 158185\\\\\n",
       "\t 3 & 12514665 & T & C &  0.0880 & 0.100 & 0.400 & 148040\\\\\n",
       "\\end{tabular}\n"
      ],
      "text/markdown": [
       "\n",
       "A tibble: 6 × 8\n",
       "\n",
       "| chr &lt;dbl&gt; | position &lt;dbl&gt; | ea_t2d &lt;chr&gt; | nea_t2d &lt;chr&gt; | beta_t2d &lt;dbl&gt; | se_t2d &lt;dbl&gt; | pval_t2d &lt;dbl&gt; | n_t2d &lt;dbl&gt; |\n",
       "|---|---|---|---|---|---|---|---|\n",
       "| 3 | 12904558 | A | G | -0.0410 | 0.018 | 0.026 | 158185 |\n",
       "| 3 | 10704569 | T | C | -0.0240 | 0.023 | 0.310 | 158185 |\n",
       "| 3 | 14486746 | T | C | -0.0630 | 0.084 | 0.450 | 140826 |\n",
       "| 3 | 14385910 | A | G | -0.1300 | 0.087 | 0.140 | 115805 |\n",
       "| 3 |  7913209 | T | C | -0.0059 | 0.013 | 0.660 | 158185 |\n",
       "| 3 | 12514665 | T | C |  0.0880 | 0.100 | 0.400 | 148040 |\n",
       "\n"
      ],
      "text/plain": [
       "  chr position ea_t2d nea_t2d beta_t2d se_t2d pval_t2d n_t2d \n",
       "1 3   12904558 A      G       -0.0410  0.018  0.026    158185\n",
       "2 3   10704569 T      C       -0.0240  0.023  0.310    158185\n",
       "3 3   14486746 T      C       -0.0630  0.084  0.450    140826\n",
       "4 3   14385910 A      G       -0.1300  0.087  0.140    115805\n",
       "5 3    7913209 T      C       -0.0059  0.013  0.660    158185\n",
       "6 3   12514665 T      C        0.0880  0.100  0.400    148040"
      ]
     },
     "metadata": {},
     "output_type": "display_data"
    },
    {
     "data": {
      "text/html": [
       "48208"
      ],
      "text/latex": [
       "48208"
      ],
      "text/markdown": [
       "48208"
      ],
      "text/plain": [
       "[1] 48208"
      ]
     },
     "metadata": {},
     "output_type": "display_data"
    }
   ],
   "source": [
    "t2d <- paste(\n",
    "    \"grep '^3' ~/projects/DVA/Data/GWAS_sumstats/t2d_diagram.txt\",\n",
    "    \"sed 's/:/\\t/g'\",\n",
    "    paste0(\"awk '$2 > \", minpos, \" && $2 < \", maxpos, \"'\"),\n",
    "    sep = \" | \"\n",
    ") %>%\n",
    "    pipe %>%\n",
    "    read_tsv(col_names = c(\"chr\", \"position\", \n",
    "                           paste(c(\"ea\", \"nea\", \"beta\", \"se\", \"pval\", \"n\"), \"t2d\", sep = \"_\")),\n",
    "             col_types = \"nnccnnnn\")\n",
    "head(t2d)\n",
    "nrow(t2d)"
   ]
  },
  {
   "cell_type": "markdown",
   "id": "878a8ac7-1265-4e05-8c81-46a45baecb18",
   "metadata": {},
   "source": [
    "## Reference panel data"
   ]
  },
  {
   "cell_type": "code",
   "execution_count": 9,
   "id": "bf634653-e12c-4f91-9bac-86eaf7bbdd58",
   "metadata": {},
   "outputs": [
    {
     "data": {
      "text/html": [
       "<table class=\"dataframe\">\n",
       "<caption>A tibble: 6 × 6</caption>\n",
       "<thead>\n",
       "\t<tr><th scope=col>chr</th><th scope=col>position</th><th scope=col>rsid</th><th scope=col>nea_1kg_plus</th><th scope=col>ea_1kg_plus</th><th scope=col>eaf_1kg</th></tr>\n",
       "\t<tr><th scope=col>&lt;dbl&gt;</th><th scope=col>&lt;dbl&gt;</th><th scope=col>&lt;chr&gt;</th><th scope=col>&lt;chr&gt;</th><th scope=col>&lt;chr&gt;</th><th scope=col>&lt;dbl&gt;</th></tr>\n",
       "</thead>\n",
       "<tbody>\n",
       "\t<tr><td>3</td><td>7194660</td><td>rs12485585 </td><td>G</td><td>A</td><td>0.3310140</td></tr>\n",
       "\t<tr><td>3</td><td>7194910</td><td>rs7626768  </td><td>A</td><td>C</td><td>0.5596420</td></tr>\n",
       "\t<tr><td>3</td><td>7194934</td><td>rs12492322 </td><td>C</td><td>T</td><td>0.3320080</td></tr>\n",
       "\t<tr><td>3</td><td>7195141</td><td>rs17234990 </td><td>T</td><td>C</td><td>0.3300200</td></tr>\n",
       "\t<tr><td>3</td><td>7195159</td><td>rs7617753  </td><td>C</td><td>T</td><td>0.2137180</td></tr>\n",
       "\t<tr><td>3</td><td>7195634</td><td>rs114154698</td><td>G</td><td>A</td><td>0.0129225</td></tr>\n",
       "</tbody>\n",
       "</table>\n"
      ],
      "text/latex": [
       "A tibble: 6 × 6\n",
       "\\begin{tabular}{llllll}\n",
       " chr & position & rsid & nea\\_1kg\\_plus & ea\\_1kg\\_plus & eaf\\_1kg\\\\\n",
       " <dbl> & <dbl> & <chr> & <chr> & <chr> & <dbl>\\\\\n",
       "\\hline\n",
       "\t 3 & 7194660 & rs12485585  & G & A & 0.3310140\\\\\n",
       "\t 3 & 7194910 & rs7626768   & A & C & 0.5596420\\\\\n",
       "\t 3 & 7194934 & rs12492322  & C & T & 0.3320080\\\\\n",
       "\t 3 & 7195141 & rs17234990  & T & C & 0.3300200\\\\\n",
       "\t 3 & 7195159 & rs7617753   & C & T & 0.2137180\\\\\n",
       "\t 3 & 7195634 & rs114154698 & G & A & 0.0129225\\\\\n",
       "\\end{tabular}\n"
      ],
      "text/markdown": [
       "\n",
       "A tibble: 6 × 6\n",
       "\n",
       "| chr &lt;dbl&gt; | position &lt;dbl&gt; | rsid &lt;chr&gt; | nea_1kg_plus &lt;chr&gt; | ea_1kg_plus &lt;chr&gt; | eaf_1kg &lt;dbl&gt; |\n",
       "|---|---|---|---|---|---|\n",
       "| 3 | 7194660 | rs12485585  | G | A | 0.3310140 |\n",
       "| 3 | 7194910 | rs7626768   | A | C | 0.5596420 |\n",
       "| 3 | 7194934 | rs12492322  | C | T | 0.3320080 |\n",
       "| 3 | 7195141 | rs17234990  | T | C | 0.3300200 |\n",
       "| 3 | 7195159 | rs7617753   | C | T | 0.2137180 |\n",
       "| 3 | 7195634 | rs114154698 | G | A | 0.0129225 |\n",
       "\n"
      ],
      "text/plain": [
       "  chr position rsid        nea_1kg_plus ea_1kg_plus eaf_1kg  \n",
       "1 3   7194660  rs12485585  G            A           0.3310140\n",
       "2 3   7194910  rs7626768   A            C           0.5596420\n",
       "3 3   7194934  rs12492322  C            T           0.3320080\n",
       "4 3   7195141  rs17234990  T            C           0.3300200\n",
       "5 3   7195159  rs7617753   C            T           0.2137180\n",
       "6 3   7195634  rs114154698 G            A           0.0129225"
      ]
     },
     "metadata": {},
     "output_type": "display_data"
    },
    {
     "data": {
      "text/html": [
       "34069"
      ],
      "text/latex": [
       "34069"
      ],
      "text/markdown": [
       "34069"
      ],
      "text/plain": [
       "[1] 34069"
      ]
     },
     "metadata": {},
     "output_type": "display_data"
    }
   ],
   "source": [
    "freq_1kg <- paste0(\n",
    "    \"awk '$1 == 3 && $2 > \", minpos, \" && $2 < \", maxpos, \"' \",\n",
    "    \"/ludc/Home/daniel_c/projects/DVA/Data/ReferenceData/1kg.afreq\"\n",
    ") %>%\n",
    "    pipe %>%\n",
    "    read_tsv(col_names = c(\"chr\", \"position\", \"rsid\", \"nea_1kg_plus\", \"ea_1kg_plus\", \"eaf_1kg\"),\n",
    "             col_types = \"nncccn\")\n",
    "head(freq_1kg)\n",
    "nrow(freq_1kg)"
   ]
  },
  {
   "cell_type": "code",
   "execution_count": 10,
   "id": "14131594-75c3-4175-b521-1bff187c1b7d",
   "metadata": {},
   "outputs": [
    {
     "name": "stderr",
     "output_type": "stream",
     "text": [
      "\u001b[1m\u001b[22mJoining, by = c(\"chr\", \"position\", \"rsid\")\n",
      "\u001b[1m\u001b[22mJoining, by = c(\"chr\", \"position\")\n",
      "\u001b[1m\u001b[22mJoining, by = c(\"chr\", \"position\", \"rsid\")\n"
     ]
    },
    {
     "data": {
      "text/html": [
       "<table class=\"dataframe\">\n",
       "<caption>A tibble: 6 × 25</caption>\n",
       "<thead>\n",
       "\t<tr><th scope=col>chr</th><th scope=col>position</th><th scope=col>nea_exp</th><th scope=col>ea_exp</th><th scope=col>beta_exp</th><th scope=col>se_exp</th><th scope=col>logp_exp</th><th scope=col>eaf_exp</th><th scope=col>rsid</th><th scope=col>ea_bmi</th><th scope=col>⋯</th><th scope=col>n_bmi</th><th scope=col>ea_t2d</th><th scope=col>nea_t2d</th><th scope=col>beta_t2d</th><th scope=col>se_t2d</th><th scope=col>pval_t2d</th><th scope=col>n_t2d</th><th scope=col>nea_1kg_plus</th><th scope=col>ea_1kg_plus</th><th scope=col>eaf_1kg</th></tr>\n",
       "\t<tr><th scope=col>&lt;dbl&gt;</th><th scope=col>&lt;dbl&gt;</th><th scope=col>&lt;chr&gt;</th><th scope=col>&lt;chr&gt;</th><th scope=col>&lt;dbl&gt;</th><th scope=col>&lt;dbl&gt;</th><th scope=col>&lt;dbl&gt;</th><th scope=col>&lt;dbl&gt;</th><th scope=col>&lt;chr&gt;</th><th scope=col>&lt;chr&gt;</th><th scope=col>⋯</th><th scope=col>&lt;dbl&gt;</th><th scope=col>&lt;chr&gt;</th><th scope=col>&lt;chr&gt;</th><th scope=col>&lt;dbl&gt;</th><th scope=col>&lt;dbl&gt;</th><th scope=col>&lt;dbl&gt;</th><th scope=col>&lt;dbl&gt;</th><th scope=col>&lt;chr&gt;</th><th scope=col>&lt;chr&gt;</th><th scope=col>&lt;dbl&gt;</th></tr>\n",
       "</thead>\n",
       "<tbody>\n",
       "\t<tr><td>3</td><td>7194910</td><td>A</td><td>C</td><td>-0.0334</td><td>0.0243</td><td>0.770001</td><td>0.52204</td><td>rs7626768 </td><td>A</td><td>⋯</td><td>687973</td><td>A</td><td>C</td><td> 0.0120</td><td>0.012</td><td>0.31</td><td>158185</td><td>A</td><td>C</td><td>0.559642</td></tr>\n",
       "\t<tr><td>3</td><td>7195141</td><td>T</td><td>C</td><td>-0.0624</td><td>0.0259</td><td>1.800000</td><td>0.32340</td><td>rs17234990</td><td>T</td><td>⋯</td><td>792456</td><td>T</td><td>C</td><td> 0.0064</td><td>0.013</td><td>0.62</td><td>158185</td><td>T</td><td>C</td><td>0.330020</td></tr>\n",
       "\t<tr><td>3</td><td>7195159</td><td>C</td><td>T</td><td> 0.0361</td><td>0.0314</td><td>0.599999</td><td>0.18590</td><td>rs7617753 </td><td>T</td><td>⋯</td><td>688919</td><td>T</td><td>C</td><td>-0.0120</td><td>0.015</td><td>0.43</td><td>158185</td><td>C</td><td>T</td><td>0.213718</td></tr>\n",
       "\t<tr><td>3</td><td>7195734</td><td>G</td><td>A</td><td> 0.0279</td><td>0.0316</td><td>0.420000</td><td>0.18350</td><td>rs1553149 </td><td>A</td><td>⋯</td><td>688836</td><td>A</td><td>G</td><td>-0.0120</td><td>0.015</td><td>0.43</td><td>158185</td><td>G</td><td>A</td><td>0.212724</td></tr>\n",
       "\t<tr><td>3</td><td>7196728</td><td>C</td><td>T</td><td> 0.0272</td><td>0.0317</td><td>0.410000</td><td>0.18205</td><td>rs7621420 </td><td>T</td><td>⋯</td><td>688805</td><td>T</td><td>C</td><td>-0.0160</td><td>0.016</td><td>0.32</td><td>152598</td><td>C</td><td>T</td><td>0.210736</td></tr>\n",
       "\t<tr><td>3</td><td>7197642</td><td>C</td><td>T</td><td>-0.0335</td><td>0.0244</td><td>0.770001</td><td>0.51987</td><td>rs7624462 </td><td>T</td><td>⋯</td><td>685945</td><td>T</td><td>C</td><td>-0.0140</td><td>0.013</td><td>0.25</td><td>152598</td><td>C</td><td>T</td><td>0.554672</td></tr>\n",
       "</tbody>\n",
       "</table>\n"
      ],
      "text/latex": [
       "A tibble: 6 × 25\n",
       "\\begin{tabular}{lllllllllllllllllllll}\n",
       " chr & position & nea\\_exp & ea\\_exp & beta\\_exp & se\\_exp & logp\\_exp & eaf\\_exp & rsid & ea\\_bmi & ⋯ & n\\_bmi & ea\\_t2d & nea\\_t2d & beta\\_t2d & se\\_t2d & pval\\_t2d & n\\_t2d & nea\\_1kg\\_plus & ea\\_1kg\\_plus & eaf\\_1kg\\\\\n",
       " <dbl> & <dbl> & <chr> & <chr> & <dbl> & <dbl> & <dbl> & <dbl> & <chr> & <chr> & ⋯ & <dbl> & <chr> & <chr> & <dbl> & <dbl> & <dbl> & <dbl> & <chr> & <chr> & <dbl>\\\\\n",
       "\\hline\n",
       "\t 3 & 7194910 & A & C & -0.0334 & 0.0243 & 0.770001 & 0.52204 & rs7626768  & A & ⋯ & 687973 & A & C &  0.0120 & 0.012 & 0.31 & 158185 & A & C & 0.559642\\\\\n",
       "\t 3 & 7195141 & T & C & -0.0624 & 0.0259 & 1.800000 & 0.32340 & rs17234990 & T & ⋯ & 792456 & T & C &  0.0064 & 0.013 & 0.62 & 158185 & T & C & 0.330020\\\\\n",
       "\t 3 & 7195159 & C & T &  0.0361 & 0.0314 & 0.599999 & 0.18590 & rs7617753  & T & ⋯ & 688919 & T & C & -0.0120 & 0.015 & 0.43 & 158185 & C & T & 0.213718\\\\\n",
       "\t 3 & 7195734 & G & A &  0.0279 & 0.0316 & 0.420000 & 0.18350 & rs1553149  & A & ⋯ & 688836 & A & G & -0.0120 & 0.015 & 0.43 & 158185 & G & A & 0.212724\\\\\n",
       "\t 3 & 7196728 & C & T &  0.0272 & 0.0317 & 0.410000 & 0.18205 & rs7621420  & T & ⋯ & 688805 & T & C & -0.0160 & 0.016 & 0.32 & 152598 & C & T & 0.210736\\\\\n",
       "\t 3 & 7197642 & C & T & -0.0335 & 0.0244 & 0.770001 & 0.51987 & rs7624462  & T & ⋯ & 685945 & T & C & -0.0140 & 0.013 & 0.25 & 152598 & C & T & 0.554672\\\\\n",
       "\\end{tabular}\n"
      ],
      "text/markdown": [
       "\n",
       "A tibble: 6 × 25\n",
       "\n",
       "| chr &lt;dbl&gt; | position &lt;dbl&gt; | nea_exp &lt;chr&gt; | ea_exp &lt;chr&gt; | beta_exp &lt;dbl&gt; | se_exp &lt;dbl&gt; | logp_exp &lt;dbl&gt; | eaf_exp &lt;dbl&gt; | rsid &lt;chr&gt; | ea_bmi &lt;chr&gt; | ⋯ ⋯ | n_bmi &lt;dbl&gt; | ea_t2d &lt;chr&gt; | nea_t2d &lt;chr&gt; | beta_t2d &lt;dbl&gt; | se_t2d &lt;dbl&gt; | pval_t2d &lt;dbl&gt; | n_t2d &lt;dbl&gt; | nea_1kg_plus &lt;chr&gt; | ea_1kg_plus &lt;chr&gt; | eaf_1kg &lt;dbl&gt; |\n",
       "|---|---|---|---|---|---|---|---|---|---|---|---|---|---|---|---|---|---|---|---|---|\n",
       "| 3 | 7194910 | A | C | -0.0334 | 0.0243 | 0.770001 | 0.52204 | rs7626768  | A | ⋯ | 687973 | A | C |  0.0120 | 0.012 | 0.31 | 158185 | A | C | 0.559642 |\n",
       "| 3 | 7195141 | T | C | -0.0624 | 0.0259 | 1.800000 | 0.32340 | rs17234990 | T | ⋯ | 792456 | T | C |  0.0064 | 0.013 | 0.62 | 158185 | T | C | 0.330020 |\n",
       "| 3 | 7195159 | C | T |  0.0361 | 0.0314 | 0.599999 | 0.18590 | rs7617753  | T | ⋯ | 688919 | T | C | -0.0120 | 0.015 | 0.43 | 158185 | C | T | 0.213718 |\n",
       "| 3 | 7195734 | G | A |  0.0279 | 0.0316 | 0.420000 | 0.18350 | rs1553149  | A | ⋯ | 688836 | A | G | -0.0120 | 0.015 | 0.43 | 158185 | G | A | 0.212724 |\n",
       "| 3 | 7196728 | C | T |  0.0272 | 0.0317 | 0.410000 | 0.18205 | rs7621420  | T | ⋯ | 688805 | T | C | -0.0160 | 0.016 | 0.32 | 152598 | C | T | 0.210736 |\n",
       "| 3 | 7197642 | C | T | -0.0335 | 0.0244 | 0.770001 | 0.51987 | rs7624462  | T | ⋯ | 685945 | T | C | -0.0140 | 0.013 | 0.25 | 152598 | C | T | 0.554672 |\n",
       "\n"
      ],
      "text/plain": [
       "  chr position nea_exp ea_exp beta_exp se_exp logp_exp eaf_exp rsid      \n",
       "1 3   7194910  A       C      -0.0334  0.0243 0.770001 0.52204 rs7626768 \n",
       "2 3   7195141  T       C      -0.0624  0.0259 1.800000 0.32340 rs17234990\n",
       "3 3   7195159  C       T       0.0361  0.0314 0.599999 0.18590 rs7617753 \n",
       "4 3   7195734  G       A       0.0279  0.0316 0.420000 0.18350 rs1553149 \n",
       "5 3   7196728  C       T       0.0272  0.0317 0.410000 0.18205 rs7621420 \n",
       "6 3   7197642  C       T      -0.0335  0.0244 0.770001 0.51987 rs7624462 \n",
       "  ea_bmi <U+22EF>   n_bmi  ea_t2d nea_t2d beta_t2d se_t2d pval_t2d n_t2d \n",
       "1 A      <U+22EF> 687973 A      C        0.0120  0.012  0.31     158185\n",
       "2 T      <U+22EF> 792456 T      C        0.0064  0.013  0.62     158185\n",
       "3 T      <U+22EF> 688919 T      C       -0.0120  0.015  0.43     158185\n",
       "4 A      <U+22EF> 688836 A      G       -0.0120  0.015  0.43     158185\n",
       "5 T      <U+22EF> 688805 T      C       -0.0160  0.016  0.32     152598\n",
       "6 T      <U+22EF> 685945 T      C       -0.0140  0.013  0.25     152598\n",
       "  nea_1kg_plus ea_1kg_plus eaf_1kg \n",
       "1 A            C           0.559642\n",
       "2 T            C           0.330020\n",
       "3 C            T           0.213718\n",
       "4 G            A           0.212724\n",
       "5 C            T           0.210736\n",
       "6 C            T           0.554672"
      ]
     },
     "metadata": {},
     "output_type": "display_data"
    },
    {
     "data": {
      "text/html": [
       "9728"
      ],
      "text/latex": [
       "9728"
      ],
      "text/markdown": [
       "9728"
      ],
      "text/plain": [
       "[1] 9728"
      ]
     },
     "metadata": {},
     "output_type": "display_data"
    }
   ],
   "source": [
    "join_dat <- list(timp4_ins, bmi, t2d, freq_1kg) %>%\n",
    "    reduce(inner_join)\n",
    "head(join_dat)\n",
    "nrow(join_dat)"
   ]
  },
  {
   "cell_type": "markdown",
   "id": "c23c6698-e8be-458a-8b58-bff62392f98a",
   "metadata": {},
   "source": [
    "## Alignment to allele increasing BMI"
   ]
  },
  {
   "cell_type": "code",
   "execution_count": 11,
   "id": "1d2d5333-d0cb-459f-9ad9-0e21273eef58",
   "metadata": {},
   "outputs": [
    {
     "data": {
      "text/html": [
       "<table class=\"dataframe\">\n",
       "<caption>A tibble: 6 × 14</caption>\n",
       "<thead>\n",
       "\t<tr><th scope=col>chr</th><th scope=col>position</th><th scope=col>rsid</th><th scope=col>ea</th><th scope=col>nea</th><th scope=col>beta_exp</th><th scope=col>beta_bmi</th><th scope=col>beta_t2d</th><th scope=col>se_exp</th><th scope=col>se_bmi</th><th scope=col>se_t2d</th><th scope=col>pval_bmi</th><th scope=col>pval_t2d</th><th scope=col>pval_exp</th></tr>\n",
       "\t<tr><th scope=col>&lt;dbl&gt;</th><th scope=col>&lt;dbl&gt;</th><th scope=col>&lt;chr&gt;</th><th scope=col>&lt;chr&gt;</th><th scope=col>&lt;chr&gt;</th><th scope=col>&lt;dbl&gt;</th><th scope=col>&lt;dbl&gt;</th><th scope=col>&lt;dbl&gt;</th><th scope=col>&lt;dbl&gt;</th><th scope=col>&lt;dbl&gt;</th><th scope=col>&lt;dbl&gt;</th><th scope=col>&lt;dbl&gt;</th><th scope=col>&lt;dbl&gt;</th><th scope=col>&lt;dbl&gt;</th></tr>\n",
       "</thead>\n",
       "<tbody>\n",
       "\t<tr><td>3</td><td>7194910</td><td>rs7626768 </td><td>C</td><td>A</td><td>-0.0334</td><td>0.0032</td><td>-0.0120</td><td>0.0243</td><td>0.0017</td><td>0.012</td><td>0.059</td><td>0.31</td><td>0.16982397</td></tr>\n",
       "\t<tr><td>3</td><td>7195141</td><td>rs17234990</td><td>C</td><td>T</td><td>-0.0624</td><td>0.0041</td><td>-0.0064</td><td>0.0259</td><td>0.0017</td><td>0.013</td><td>0.020</td><td>0.62</td><td>0.01584893</td></tr>\n",
       "\t<tr><td>3</td><td>7195159</td><td>rs7617753 </td><td>C</td><td>T</td><td>-0.0361</td><td>0.0016</td><td> 0.0120</td><td>0.0314</td><td>0.0022</td><td>0.015</td><td>0.480</td><td>0.43</td><td>0.25118922</td></tr>\n",
       "\t<tr><td>3</td><td>7195734</td><td>rs1553149 </td><td>G</td><td>A</td><td>-0.0279</td><td>0.0016</td><td> 0.0120</td><td>0.0316</td><td>0.0022</td><td>0.015</td><td>0.480</td><td>0.43</td><td>0.38018940</td></tr>\n",
       "\t<tr><td>3</td><td>7196728</td><td>rs7621420 </td><td>C</td><td>T</td><td>-0.0272</td><td>0.0017</td><td> 0.0160</td><td>0.0317</td><td>0.0022</td><td>0.016</td><td>0.450</td><td>0.32</td><td>0.38904514</td></tr>\n",
       "\t<tr><td>3</td><td>7197642</td><td>rs7624462 </td><td>T</td><td>C</td><td>-0.0335</td><td>0.0035</td><td>-0.0140</td><td>0.0244</td><td>0.0017</td><td>0.013</td><td>0.041</td><td>0.25</td><td>0.16982397</td></tr>\n",
       "</tbody>\n",
       "</table>\n"
      ],
      "text/latex": [
       "A tibble: 6 × 14\n",
       "\\begin{tabular}{llllllllllllll}\n",
       " chr & position & rsid & ea & nea & beta\\_exp & beta\\_bmi & beta\\_t2d & se\\_exp & se\\_bmi & se\\_t2d & pval\\_bmi & pval\\_t2d & pval\\_exp\\\\\n",
       " <dbl> & <dbl> & <chr> & <chr> & <chr> & <dbl> & <dbl> & <dbl> & <dbl> & <dbl> & <dbl> & <dbl> & <dbl> & <dbl>\\\\\n",
       "\\hline\n",
       "\t 3 & 7194910 & rs7626768  & C & A & -0.0334 & 0.0032 & -0.0120 & 0.0243 & 0.0017 & 0.012 & 0.059 & 0.31 & 0.16982397\\\\\n",
       "\t 3 & 7195141 & rs17234990 & C & T & -0.0624 & 0.0041 & -0.0064 & 0.0259 & 0.0017 & 0.013 & 0.020 & 0.62 & 0.01584893\\\\\n",
       "\t 3 & 7195159 & rs7617753  & C & T & -0.0361 & 0.0016 &  0.0120 & 0.0314 & 0.0022 & 0.015 & 0.480 & 0.43 & 0.25118922\\\\\n",
       "\t 3 & 7195734 & rs1553149  & G & A & -0.0279 & 0.0016 &  0.0120 & 0.0316 & 0.0022 & 0.015 & 0.480 & 0.43 & 0.38018940\\\\\n",
       "\t 3 & 7196728 & rs7621420  & C & T & -0.0272 & 0.0017 &  0.0160 & 0.0317 & 0.0022 & 0.016 & 0.450 & 0.32 & 0.38904514\\\\\n",
       "\t 3 & 7197642 & rs7624462  & T & C & -0.0335 & 0.0035 & -0.0140 & 0.0244 & 0.0017 & 0.013 & 0.041 & 0.25 & 0.16982397\\\\\n",
       "\\end{tabular}\n"
      ],
      "text/markdown": [
       "\n",
       "A tibble: 6 × 14\n",
       "\n",
       "| chr &lt;dbl&gt; | position &lt;dbl&gt; | rsid &lt;chr&gt; | ea &lt;chr&gt; | nea &lt;chr&gt; | beta_exp &lt;dbl&gt; | beta_bmi &lt;dbl&gt; | beta_t2d &lt;dbl&gt; | se_exp &lt;dbl&gt; | se_bmi &lt;dbl&gt; | se_t2d &lt;dbl&gt; | pval_bmi &lt;dbl&gt; | pval_t2d &lt;dbl&gt; | pval_exp &lt;dbl&gt; |\n",
       "|---|---|---|---|---|---|---|---|---|---|---|---|---|---|\n",
       "| 3 | 7194910 | rs7626768  | C | A | -0.0334 | 0.0032 | -0.0120 | 0.0243 | 0.0017 | 0.012 | 0.059 | 0.31 | 0.16982397 |\n",
       "| 3 | 7195141 | rs17234990 | C | T | -0.0624 | 0.0041 | -0.0064 | 0.0259 | 0.0017 | 0.013 | 0.020 | 0.62 | 0.01584893 |\n",
       "| 3 | 7195159 | rs7617753  | C | T | -0.0361 | 0.0016 |  0.0120 | 0.0314 | 0.0022 | 0.015 | 0.480 | 0.43 | 0.25118922 |\n",
       "| 3 | 7195734 | rs1553149  | G | A | -0.0279 | 0.0016 |  0.0120 | 0.0316 | 0.0022 | 0.015 | 0.480 | 0.43 | 0.38018940 |\n",
       "| 3 | 7196728 | rs7621420  | C | T | -0.0272 | 0.0017 |  0.0160 | 0.0317 | 0.0022 | 0.016 | 0.450 | 0.32 | 0.38904514 |\n",
       "| 3 | 7197642 | rs7624462  | T | C | -0.0335 | 0.0035 | -0.0140 | 0.0244 | 0.0017 | 0.013 | 0.041 | 0.25 | 0.16982397 |\n",
       "\n"
      ],
      "text/plain": [
       "  chr position rsid       ea nea beta_exp beta_bmi beta_t2d se_exp se_bmi\n",
       "1 3   7194910  rs7626768  C  A   -0.0334  0.0032   -0.0120  0.0243 0.0017\n",
       "2 3   7195141  rs17234990 C  T   -0.0624  0.0041   -0.0064  0.0259 0.0017\n",
       "3 3   7195159  rs7617753  C  T   -0.0361  0.0016    0.0120  0.0314 0.0022\n",
       "4 3   7195734  rs1553149  G  A   -0.0279  0.0016    0.0120  0.0316 0.0022\n",
       "5 3   7196728  rs7621420  C  T   -0.0272  0.0017    0.0160  0.0317 0.0022\n",
       "6 3   7197642  rs7624462  T  C   -0.0335  0.0035   -0.0140  0.0244 0.0017\n",
       "  se_t2d pval_bmi pval_t2d pval_exp  \n",
       "1 0.012  0.059    0.31     0.16982397\n",
       "2 0.013  0.020    0.62     0.01584893\n",
       "3 0.015  0.480    0.43     0.25118922\n",
       "4 0.015  0.480    0.43     0.38018940\n",
       "5 0.016  0.450    0.32     0.38904514\n",
       "6 0.013  0.041    0.25     0.16982397"
      ]
     },
     "metadata": {},
     "output_type": "display_data"
    },
    {
     "data": {
      "text/html": [
       "9204"
      ],
      "text/latex": [
       "9204"
      ],
      "text/markdown": [
       "9204"
      ],
      "text/plain": [
       "[1] 9204"
      ]
     },
     "metadata": {},
     "output_type": "display_data"
    }
   ],
   "source": [
    "aligned_dat <- join_dat %>%\n",
    "    mutate(maf_exp = ifelse(eaf_exp < .5, eaf_exp, 1 - eaf_exp),\n",
    "           maf_bmi = ifelse(eaf_bmi < .5, eaf_bmi, 1 - eaf_bmi),\n",
    "           maf_1kg = ifelse(eaf_1kg < .5, eaf_1kg, 1 - eaf_1kg),\n",
    "           dif1 = abs(maf_exp - maf_bmi),\n",
    "           dif2 = abs(maf_exp - maf_1kg),\n",
    "           dif3 = abs(maf_1kg - maf_bmi)) %>%\n",
    "    filter(dif1 < .2 | dif2 < .2 | dif3 < .2) %>%\n",
    "    select(-c(dif1, dif2, dif3, eaf_exp, eaf_bmi, eaf_1kg)) %>%\n",
    "    mutate(ea = ifelse(beta_bmi > 0, ea_bmi, nea_bmi),\n",
    "           nea = ifelse(beta_bmi > 0, nea_bmi, ea_bmi),\n",
    "           beta_bmi = abs(beta_bmi),\n",
    "           palind1 = ea %in% c(\"A\", \"T\") & nea %in% c(\"A\", \"T\"),\n",
    "           palind2 = ea %in% c(\"C\", \"G\") & nea %in% c(\"C\", \"G\"),\n",
    "           palind_ambig = (palind1 | palind2) & maf_1kg > .3) %>%\n",
    "    filter(!palind_ambig) %>%\n",
    "    select(-c(ea_bmi, nea_bmi, palind1, palind2, palind_ambig)) %>%\n",
    "    mutate(harmon_1kg = case_when(ea == ea_1kg_plus & nea == nea_1kg_plus ~ 1,\n",
    "                                  ea == nea_1kg_plus & nea == ea_1kg_plus ~ -1,\n",
    "                                  TRUE ~ 0),\n",
    "           harmon_exp = case_when(ea == ea_exp & nea == nea_exp ~ 1,\n",
    "                                  ea == nea_exp & nea == ea_exp ~ -1,\n",
    "                                  TRUE ~ 0),\n",
    "           harmon_t2d = case_when(ea == ea_t2d & nea == nea_t2d ~ 1,\n",
    "                                  ea == nea_t2d & nea == ea_t2d ~ -1,\n",
    "                                  TRUE ~ 0)) %>%\n",
    "    {\n",
    "        if(any(.$harmon_1kg == 0) | any(.$harmon_exp == 0) | any(.$harmon_t2d == 0)){\n",
    "            stop(\"Found alleles not matching!\")\n",
    "        } else { . }\n",
    "    } %>%\n",
    "    mutate(beta_exp = beta_exp * harmon_exp,\n",
    "           beta_t2d = beta_t2d * harmon_t2d,\n",
    "           pval_exp = 10^-(logp_exp)) %>%\n",
    "    select(chr, position, rsid, ea, nea, starts_with(\"beta_\"), starts_with(\"se_\"), starts_with(\"pval_\"))\n",
    "head(aligned_dat)\n",
    "nrow(aligned_dat)"
   ]
  },
  {
   "cell_type": "code",
   "execution_count": 12,
   "id": "17482d7b-4017-43c5-8308-ed95de456753",
   "metadata": {},
   "outputs": [
    {
     "data": {
      "text/html": [
       "<table class=\"dataframe\">\n",
       "<caption>A tibble: 1 × 14</caption>\n",
       "<thead>\n",
       "\t<tr><th scope=col>chr</th><th scope=col>position</th><th scope=col>rsid</th><th scope=col>ea</th><th scope=col>nea</th><th scope=col>beta_exp</th><th scope=col>beta_bmi</th><th scope=col>beta_t2d</th><th scope=col>se_exp</th><th scope=col>se_bmi</th><th scope=col>se_t2d</th><th scope=col>pval_bmi</th><th scope=col>pval_t2d</th><th scope=col>pval_exp</th></tr>\n",
       "\t<tr><th scope=col>&lt;dbl&gt;</th><th scope=col>&lt;dbl&gt;</th><th scope=col>&lt;chr&gt;</th><th scope=col>&lt;chr&gt;</th><th scope=col>&lt;chr&gt;</th><th scope=col>&lt;dbl&gt;</th><th scope=col>&lt;dbl&gt;</th><th scope=col>&lt;dbl&gt;</th><th scope=col>&lt;dbl&gt;</th><th scope=col>&lt;dbl&gt;</th><th scope=col>&lt;dbl&gt;</th><th scope=col>&lt;dbl&gt;</th><th scope=col>&lt;dbl&gt;</th><th scope=col>&lt;dbl&gt;</th></tr>\n",
       "</thead>\n",
       "<tbody>\n",
       "\t<tr><td>3</td><td>12391207</td><td>rs6802898</td><td>T</td><td>C</td><td>-0.3019</td><td>0.0168</td><td>-0.12</td><td>0.0385</td><td>0.0024</td><td>0.018</td><td>6.4e-12</td><td>2.1e-11</td><td>4.786301e-15</td></tr>\n",
       "</tbody>\n",
       "</table>\n"
      ],
      "text/latex": [
       "A tibble: 1 × 14\n",
       "\\begin{tabular}{llllllllllllll}\n",
       " chr & position & rsid & ea & nea & beta\\_exp & beta\\_bmi & beta\\_t2d & se\\_exp & se\\_bmi & se\\_t2d & pval\\_bmi & pval\\_t2d & pval\\_exp\\\\\n",
       " <dbl> & <dbl> & <chr> & <chr> & <chr> & <dbl> & <dbl> & <dbl> & <dbl> & <dbl> & <dbl> & <dbl> & <dbl> & <dbl>\\\\\n",
       "\\hline\n",
       "\t 3 & 12391207 & rs6802898 & T & C & -0.3019 & 0.0168 & -0.12 & 0.0385 & 0.0024 & 0.018 & 6.4e-12 & 2.1e-11 & 4.786301e-15\\\\\n",
       "\\end{tabular}\n"
      ],
      "text/markdown": [
       "\n",
       "A tibble: 1 × 14\n",
       "\n",
       "| chr &lt;dbl&gt; | position &lt;dbl&gt; | rsid &lt;chr&gt; | ea &lt;chr&gt; | nea &lt;chr&gt; | beta_exp &lt;dbl&gt; | beta_bmi &lt;dbl&gt; | beta_t2d &lt;dbl&gt; | se_exp &lt;dbl&gt; | se_bmi &lt;dbl&gt; | se_t2d &lt;dbl&gt; | pval_bmi &lt;dbl&gt; | pval_t2d &lt;dbl&gt; | pval_exp &lt;dbl&gt; |\n",
       "|---|---|---|---|---|---|---|---|---|---|---|---|---|---|\n",
       "| 3 | 12391207 | rs6802898 | T | C | -0.3019 | 0.0168 | -0.12 | 0.0385 | 0.0024 | 0.018 | 6.4e-12 | 2.1e-11 | 4.786301e-15 |\n",
       "\n"
      ],
      "text/plain": [
       "  chr position rsid      ea nea beta_exp beta_bmi beta_t2d se_exp se_bmi se_t2d\n",
       "1 3   12391207 rs6802898 T  C   -0.3019  0.0168   -0.12    0.0385 0.0024 0.018 \n",
       "  pval_bmi pval_t2d pval_exp    \n",
       "1 6.4e-12  2.1e-11  4.786301e-15"
      ]
     },
     "metadata": {},
     "output_type": "display_data"
    }
   ],
   "source": [
    "lead_snp <- aligned_dat %>%\n",
    "    filter(pval_bmi < 5e-8) %>%\n",
    "    slice_min(pval_exp)\n",
    "head(lead_snp)"
   ]
  },
  {
   "cell_type": "code",
   "execution_count": 13,
   "id": "a88ff6ce-2707-499c-b664-3427c621d781",
   "metadata": {},
   "outputs": [
    {
     "data": {
      "text/html": [
       "<table class=\"dataframe\">\n",
       "<caption>A tibble: 6 × 14</caption>\n",
       "<thead>\n",
       "\t<tr><th scope=col>chr</th><th scope=col>position</th><th scope=col>rsid</th><th scope=col>ea</th><th scope=col>nea</th><th scope=col>beta_exp</th><th scope=col>beta_bmi</th><th scope=col>beta_t2d</th><th scope=col>se_exp</th><th scope=col>se_bmi</th><th scope=col>se_t2d</th><th scope=col>pval_bmi</th><th scope=col>pval_t2d</th><th scope=col>pval_exp</th></tr>\n",
       "\t<tr><th scope=col>&lt;dbl&gt;</th><th scope=col>&lt;dbl&gt;</th><th scope=col>&lt;chr&gt;</th><th scope=col>&lt;chr&gt;</th><th scope=col>&lt;chr&gt;</th><th scope=col>&lt;dbl&gt;</th><th scope=col>&lt;dbl&gt;</th><th scope=col>&lt;dbl&gt;</th><th scope=col>&lt;dbl&gt;</th><th scope=col>&lt;dbl&gt;</th><th scope=col>&lt;dbl&gt;</th><th scope=col>&lt;dbl&gt;</th><th scope=col>&lt;dbl&gt;</th><th scope=col>&lt;dbl&gt;</th></tr>\n",
       "</thead>\n",
       "<tbody>\n",
       "\t<tr><td>3</td><td>11891529</td><td>rs9819059</td><td>C</td><td>T</td><td>-0.0234</td><td>0.0027</td><td>-0.0059</td><td>0.0250</td><td>0.0018</td><td>0.013</td><td>0.12</td><td>0.640</td><td>0.3467369</td></tr>\n",
       "\t<tr><td>3</td><td>11893950</td><td>rs732096 </td><td>T</td><td>C</td><td>-0.0217</td><td>0.0009</td><td>-0.0063</td><td>0.0264</td><td>0.0018</td><td>0.013</td><td>0.64</td><td>0.630</td><td>0.4168694</td></tr>\n",
       "\t<tr><td>3</td><td>11895450</td><td>rs1605404</td><td>A</td><td>G</td><td>-0.0217</td><td>0.0021</td><td>-0.0098</td><td>0.0257</td><td>0.0018</td><td>0.013</td><td>0.24</td><td>0.450</td><td>0.3981072</td></tr>\n",
       "\t<tr><td>3</td><td>11895829</td><td>rs303851 </td><td>G</td><td>A</td><td>-0.0031</td><td>0.0013</td><td>-0.0230</td><td>0.0257</td><td>0.0018</td><td>0.013</td><td>0.46</td><td>0.076</td><td>0.9120110</td></tr>\n",
       "\t<tr><td>3</td><td>11896347</td><td>rs303850 </td><td>G</td><td>A</td><td>-0.0034</td><td>0.0012</td><td>-0.0240</td><td>0.0257</td><td>0.0018</td><td>0.012</td><td>0.49</td><td>0.057</td><td>0.8912509</td></tr>\n",
       "\t<tr><td>3</td><td>11898859</td><td>rs2133064</td><td>G</td><td>A</td><td>-0.0544</td><td>0.0036</td><td>-0.0390</td><td>0.0775</td><td>0.0051</td><td>0.035</td><td>0.48</td><td>0.270</td><td>0.4786301</td></tr>\n",
       "</tbody>\n",
       "</table>\n"
      ],
      "text/latex": [
       "A tibble: 6 × 14\n",
       "\\begin{tabular}{llllllllllllll}\n",
       " chr & position & rsid & ea & nea & beta\\_exp & beta\\_bmi & beta\\_t2d & se\\_exp & se\\_bmi & se\\_t2d & pval\\_bmi & pval\\_t2d & pval\\_exp\\\\\n",
       " <dbl> & <dbl> & <chr> & <chr> & <chr> & <dbl> & <dbl> & <dbl> & <dbl> & <dbl> & <dbl> & <dbl> & <dbl> & <dbl>\\\\\n",
       "\\hline\n",
       "\t 3 & 11891529 & rs9819059 & C & T & -0.0234 & 0.0027 & -0.0059 & 0.0250 & 0.0018 & 0.013 & 0.12 & 0.640 & 0.3467369\\\\\n",
       "\t 3 & 11893950 & rs732096  & T & C & -0.0217 & 0.0009 & -0.0063 & 0.0264 & 0.0018 & 0.013 & 0.64 & 0.630 & 0.4168694\\\\\n",
       "\t 3 & 11895450 & rs1605404 & A & G & -0.0217 & 0.0021 & -0.0098 & 0.0257 & 0.0018 & 0.013 & 0.24 & 0.450 & 0.3981072\\\\\n",
       "\t 3 & 11895829 & rs303851  & G & A & -0.0031 & 0.0013 & -0.0230 & 0.0257 & 0.0018 & 0.013 & 0.46 & 0.076 & 0.9120110\\\\\n",
       "\t 3 & 11896347 & rs303850  & G & A & -0.0034 & 0.0012 & -0.0240 & 0.0257 & 0.0018 & 0.012 & 0.49 & 0.057 & 0.8912509\\\\\n",
       "\t 3 & 11898859 & rs2133064 & G & A & -0.0544 & 0.0036 & -0.0390 & 0.0775 & 0.0051 & 0.035 & 0.48 & 0.270 & 0.4786301\\\\\n",
       "\\end{tabular}\n"
      ],
      "text/markdown": [
       "\n",
       "A tibble: 6 × 14\n",
       "\n",
       "| chr &lt;dbl&gt; | position &lt;dbl&gt; | rsid &lt;chr&gt; | ea &lt;chr&gt; | nea &lt;chr&gt; | beta_exp &lt;dbl&gt; | beta_bmi &lt;dbl&gt; | beta_t2d &lt;dbl&gt; | se_exp &lt;dbl&gt; | se_bmi &lt;dbl&gt; | se_t2d &lt;dbl&gt; | pval_bmi &lt;dbl&gt; | pval_t2d &lt;dbl&gt; | pval_exp &lt;dbl&gt; |\n",
       "|---|---|---|---|---|---|---|---|---|---|---|---|---|---|\n",
       "| 3 | 11891529 | rs9819059 | C | T | -0.0234 | 0.0027 | -0.0059 | 0.0250 | 0.0018 | 0.013 | 0.12 | 0.640 | 0.3467369 |\n",
       "| 3 | 11893950 | rs732096  | T | C | -0.0217 | 0.0009 | -0.0063 | 0.0264 | 0.0018 | 0.013 | 0.64 | 0.630 | 0.4168694 |\n",
       "| 3 | 11895450 | rs1605404 | A | G | -0.0217 | 0.0021 | -0.0098 | 0.0257 | 0.0018 | 0.013 | 0.24 | 0.450 | 0.3981072 |\n",
       "| 3 | 11895829 | rs303851  | G | A | -0.0031 | 0.0013 | -0.0230 | 0.0257 | 0.0018 | 0.013 | 0.46 | 0.076 | 0.9120110 |\n",
       "| 3 | 11896347 | rs303850  | G | A | -0.0034 | 0.0012 | -0.0240 | 0.0257 | 0.0018 | 0.012 | 0.49 | 0.057 | 0.8912509 |\n",
       "| 3 | 11898859 | rs2133064 | G | A | -0.0544 | 0.0036 | -0.0390 | 0.0775 | 0.0051 | 0.035 | 0.48 | 0.270 | 0.4786301 |\n",
       "\n"
      ],
      "text/plain": [
       "  chr position rsid      ea nea beta_exp beta_bmi beta_t2d se_exp se_bmi se_t2d\n",
       "1 3   11891529 rs9819059 C  T   -0.0234  0.0027   -0.0059  0.0250 0.0018 0.013 \n",
       "2 3   11893950 rs732096  T  C   -0.0217  0.0009   -0.0063  0.0264 0.0018 0.013 \n",
       "3 3   11895450 rs1605404 A  G   -0.0217  0.0021   -0.0098  0.0257 0.0018 0.013 \n",
       "4 3   11895829 rs303851  G  A   -0.0031  0.0013   -0.0230  0.0257 0.0018 0.013 \n",
       "5 3   11896347 rs303850  G  A   -0.0034  0.0012   -0.0240  0.0257 0.0018 0.012 \n",
       "6 3   11898859 rs2133064 G  A   -0.0544  0.0036   -0.0390  0.0775 0.0051 0.035 \n",
       "  pval_bmi pval_t2d pval_exp \n",
       "1 0.12     0.640    0.3467369\n",
       "2 0.64     0.630    0.4168694\n",
       "3 0.24     0.450    0.3981072\n",
       "4 0.46     0.076    0.9120110\n",
       "5 0.49     0.057    0.8912509\n",
       "6 0.48     0.270    0.4786301"
      ]
     },
     "metadata": {},
     "output_type": "display_data"
    },
    {
     "data": {
      "text/html": [
       "844"
      ],
      "text/latex": [
       "844"
      ],
      "text/markdown": [
       "844"
      ],
      "text/plain": [
       "[1] 844"
      ]
     },
     "metadata": {},
     "output_type": "display_data"
    }
   ],
   "source": [
    "snp_region <- aligned_dat %>%\n",
    "    filter(position > lead_snp$position - 5e5,\n",
    "           position < lead_snp$position + 5e5)\n",
    "head(snp_region)\n",
    "nrow(snp_region)"
   ]
  },
  {
   "cell_type": "code",
   "execution_count": 14,
   "id": "1b3ad466-eb7c-423e-b353-2770a071b2e1",
   "metadata": {},
   "outputs": [],
   "source": [
    "source(\"./MR_FX.R\")"
   ]
  },
  {
   "cell_type": "code",
   "execution_count": 15,
   "id": "d15d35d1-73fc-4e08-877d-aa4d319db7d5",
   "metadata": {},
   "outputs": [],
   "source": [
    "ldmat_fx <- function (variants, bfile, plink_bin, with_alleles = TRUE) \n",
    "{\n",
    "    shell <- ifelse(Sys.info()[\"sysname\"] == \"Windows\", \"cmd\", \n",
    "        \"sh\")\n",
    "    fn <- tempfile()\n",
    "    write.table(data.frame(variants), file = fn, row.names = F, \n",
    "        col.names = F, quote = F)\n",
    "    fun1 <- paste0(shQuote(plink_bin, type = shell), \" --bfile \", \n",
    "        shQuote(bfile, type = shell), \" --extract \", shQuote(fn, \n",
    "            type = shell), \" --make-just-bim \", \" --keep-allele-order \", \n",
    "        \" --out \", shQuote(fn, type = shell))\n",
    "    system(fun1)\n",
    "    bim <- read.table(paste0(fn, \".bim\"), stringsAsFactors = FALSE)\n",
    "    fun2 <- paste0(shQuote(plink_bin, type = shell), \" --bfile \", \n",
    "        shQuote(bfile, type = shell), \" --extract \", shQuote(fn, \n",
    "            type = shell), \" --r square \", \" --keep-allele-order \", \n",
    "        \" --out \", shQuote(fn, type = shell))\n",
    "    system(fun2)\n",
    "    res <- read.table(paste0(fn, \".ld\"), header = FALSE) %>% \n",
    "        as.matrix\n",
    "    if (with_alleles) {\n",
    "        rownames(res) <- colnames(res) <- paste(bim$V2, bim$V5, \n",
    "            bim$V6, sep = \"_\")\n",
    "    }\n",
    "    else {\n",
    "        rownames(res) <- colnames(res) <- bim$V2\n",
    "    }\n",
    "    return(res)\n",
    "}"
   ]
  },
  {
   "cell_type": "code",
   "execution_count": 16,
   "id": "5cb5e6a6-abcc-4a7e-b66a-3c91fac1d07a",
   "metadata": {},
   "outputs": [],
   "source": [
    "plink <- \"/ludc/Tools/Software/Plink/v1.90p/plink\"\n",
    "b.file <- \"/ludc/Home/daniel_c/projects/DVA/Data/ReferenceData/1kg_ref/EUR\"\n",
    "ldmat <- ldmat_fx(snp_region$rsid, bfile = b.file, plink_bin = plink)"
   ]
  },
  {
   "cell_type": "code",
   "execution_count": 17,
   "id": "ab7f2879-bffa-45f4-9946-79be4ab6918d",
   "metadata": {},
   "outputs": [
    {
     "data": {
      "text/html": [
       "<style>\n",
       ".list-inline {list-style: none; margin:0; padding: 0}\n",
       ".list-inline>li {display: inline-block}\n",
       ".list-inline>li:not(:last-child)::after {content: \"\\00b7\"; padding: 0 .5ex}\n",
       "</style>\n",
       "<ol class=list-inline><li>844</li><li>844</li></ol>\n"
      ],
      "text/latex": [
       "\\begin{enumerate*}\n",
       "\\item 844\n",
       "\\item 844\n",
       "\\end{enumerate*}\n"
      ],
      "text/markdown": [
       "1. 844\n",
       "2. 844\n",
       "\n",
       "\n"
      ],
      "text/plain": [
       "[1] 844 844"
      ]
     },
     "metadata": {},
     "output_type": "display_data"
    }
   ],
   "source": [
    "dim(ldmat)"
   ]
  },
  {
   "cell_type": "code",
   "execution_count": 18,
   "id": "81ca2e87-494f-4641-aaa2-fa8a2f0a3b68",
   "metadata": {},
   "outputs": [
    {
     "data": {
      "text/html": [
       "<table class=\"dataframe\">\n",
       "<caption>A tibble: 6 × 4</caption>\n",
       "<thead>\n",
       "\t<tr><th scope=col>rowid</th><th scope=col>rsid</th><th scope=col>a2</th><th scope=col>a1</th></tr>\n",
       "\t<tr><th scope=col>&lt;int&gt;</th><th scope=col>&lt;chr&gt;</th><th scope=col>&lt;chr&gt;</th><th scope=col>&lt;chr&gt;</th></tr>\n",
       "</thead>\n",
       "<tbody>\n",
       "\t<tr><td>1</td><td>rs9819059</td><td>T</td><td>C</td></tr>\n",
       "\t<tr><td>2</td><td>rs732096 </td><td>C</td><td>T</td></tr>\n",
       "\t<tr><td>3</td><td>rs1605404</td><td>G</td><td>A</td></tr>\n",
       "\t<tr><td>4</td><td>rs303851 </td><td>G</td><td>A</td></tr>\n",
       "\t<tr><td>5</td><td>rs303850 </td><td>G</td><td>A</td></tr>\n",
       "\t<tr><td>6</td><td>rs2133064</td><td>A</td><td>G</td></tr>\n",
       "</tbody>\n",
       "</table>\n"
      ],
      "text/latex": [
       "A tibble: 6 × 4\n",
       "\\begin{tabular}{llll}\n",
       " rowid & rsid & a2 & a1\\\\\n",
       " <int> & <chr> & <chr> & <chr>\\\\\n",
       "\\hline\n",
       "\t 1 & rs9819059 & T & C\\\\\n",
       "\t 2 & rs732096  & C & T\\\\\n",
       "\t 3 & rs1605404 & G & A\\\\\n",
       "\t 4 & rs303851  & G & A\\\\\n",
       "\t 5 & rs303850  & G & A\\\\\n",
       "\t 6 & rs2133064 & A & G\\\\\n",
       "\\end{tabular}\n"
      ],
      "text/markdown": [
       "\n",
       "A tibble: 6 × 4\n",
       "\n",
       "| rowid &lt;int&gt; | rsid &lt;chr&gt; | a2 &lt;chr&gt; | a1 &lt;chr&gt; |\n",
       "|---|---|---|---|\n",
       "| 1 | rs9819059 | T | C |\n",
       "| 2 | rs732096  | C | T |\n",
       "| 3 | rs1605404 | G | A |\n",
       "| 4 | rs303851  | G | A |\n",
       "| 5 | rs303850  | G | A |\n",
       "| 6 | rs2133064 | A | G |\n",
       "\n"
      ],
      "text/plain": [
       "  rowid rsid      a2 a1\n",
       "1 1     rs9819059 T  C \n",
       "2 2     rs732096  C  T \n",
       "3 3     rs1605404 G  A \n",
       "4 4     rs303851  G  A \n",
       "5 5     rs303850  G  A \n",
       "6 6     rs2133064 A  G "
      ]
     },
     "metadata": {},
     "output_type": "display_data"
    },
    {
     "data": {
      "text/html": [
       "844"
      ],
      "text/latex": [
       "844"
      ],
      "text/markdown": [
       "844"
      ],
      "text/plain": [
       "[1] 844"
      ]
     },
     "metadata": {},
     "output_type": "display_data"
    }
   ],
   "source": [
    "ldmat_snps <- tibble(rsid = rownames(ldmat)) %>%\n",
    "    separate(rsid, c(\"rsid\", \"a2\", \"a1\"), sep = \"_\") %>%\n",
    "    tibble::rowid_to_column()\n",
    "head(ldmat_snps)\n",
    "nrow(ldmat_snps)"
   ]
  },
  {
   "cell_type": "code",
   "execution_count": 19,
   "id": "861bdbf6-795b-4e5f-9aa4-2f109c8586f7",
   "metadata": {},
   "outputs": [
    {
     "data": {
      "text/html": [
       "<table class=\"dataframe\">\n",
       "<caption>A tibble: 6 × 20</caption>\n",
       "<thead>\n",
       "\t<tr><th scope=col>chr</th><th scope=col>position</th><th scope=col>rsid</th><th scope=col>ea</th><th scope=col>nea</th><th scope=col>beta_exp</th><th scope=col>beta_bmi</th><th scope=col>beta_t2d</th><th scope=col>se_exp</th><th scope=col>se_bmi</th><th scope=col>se_t2d</th><th scope=col>pval_bmi</th><th scope=col>pval_t2d</th><th scope=col>pval_exp</th><th scope=col>rowid</th><th scope=col>a2</th><th scope=col>a1</th><th scope=col>harmon</th><th scope=col>top</th><th scope=col>r2</th></tr>\n",
       "\t<tr><th scope=col>&lt;dbl&gt;</th><th scope=col>&lt;dbl&gt;</th><th scope=col>&lt;chr&gt;</th><th scope=col>&lt;chr&gt;</th><th scope=col>&lt;chr&gt;</th><th scope=col>&lt;dbl&gt;</th><th scope=col>&lt;dbl&gt;</th><th scope=col>&lt;dbl&gt;</th><th scope=col>&lt;dbl&gt;</th><th scope=col>&lt;dbl&gt;</th><th scope=col>&lt;dbl&gt;</th><th scope=col>&lt;dbl&gt;</th><th scope=col>&lt;dbl&gt;</th><th scope=col>&lt;dbl&gt;</th><th scope=col>&lt;int&gt;</th><th scope=col>&lt;chr&gt;</th><th scope=col>&lt;chr&gt;</th><th scope=col>&lt;dbl&gt;</th><th scope=col>&lt;lgl&gt;</th><th scope=col>&lt;dbl&gt;</th></tr>\n",
       "</thead>\n",
       "<tbody>\n",
       "\t<tr><td>3</td><td>11891529</td><td>rs9819059</td><td>C</td><td>T</td><td>-0.0234</td><td>0.0027</td><td>-0.0059</td><td>0.0250</td><td>0.0018</td><td>0.013</td><td>0.12</td><td>0.640</td><td>0.3467369</td><td>1</td><td>T</td><td>C</td><td>-1</td><td>FALSE</td><td>0.0047343069</td></tr>\n",
       "\t<tr><td>3</td><td>11893950</td><td>rs732096 </td><td>T</td><td>C</td><td>-0.0217</td><td>0.0009</td><td>-0.0063</td><td>0.0264</td><td>0.0018</td><td>0.013</td><td>0.64</td><td>0.630</td><td>0.4168694</td><td>2</td><td>C</td><td>T</td><td>-1</td><td>FALSE</td><td>0.0049309186</td></tr>\n",
       "\t<tr><td>3</td><td>11895450</td><td>rs1605404</td><td>A</td><td>G</td><td>-0.0217</td><td>0.0021</td><td>-0.0098</td><td>0.0257</td><td>0.0018</td><td>0.013</td><td>0.24</td><td>0.450</td><td>0.3981072</td><td>3</td><td>G</td><td>A</td><td>-1</td><td>FALSE</td><td>0.0126193769</td></tr>\n",
       "\t<tr><td>3</td><td>11895829</td><td>rs303851 </td><td>G</td><td>A</td><td>-0.0031</td><td>0.0013</td><td>-0.0230</td><td>0.0257</td><td>0.0018</td><td>0.013</td><td>0.46</td><td>0.076</td><td>0.9120110</td><td>4</td><td>G</td><td>A</td><td>-1</td><td>FALSE</td><td>0.0013931034</td></tr>\n",
       "\t<tr><td>3</td><td>11896347</td><td>rs303850 </td><td>G</td><td>A</td><td>-0.0034</td><td>0.0012</td><td>-0.0240</td><td>0.0257</td><td>0.0018</td><td>0.012</td><td>0.49</td><td>0.057</td><td>0.8912509</td><td>5</td><td>G</td><td>A</td><td>-1</td><td>FALSE</td><td>0.0013931034</td></tr>\n",
       "\t<tr><td>3</td><td>11898859</td><td>rs2133064</td><td>G</td><td>A</td><td>-0.0544</td><td>0.0036</td><td>-0.0390</td><td>0.0775</td><td>0.0051</td><td>0.035</td><td>0.48</td><td>0.270</td><td>0.4786301</td><td>6</td><td>A</td><td>G</td><td>-1</td><td>FALSE</td><td>0.0008835994</td></tr>\n",
       "</tbody>\n",
       "</table>\n"
      ],
      "text/latex": [
       "A tibble: 6 × 20\n",
       "\\begin{tabular}{llllllllllllllllllll}\n",
       " chr & position & rsid & ea & nea & beta\\_exp & beta\\_bmi & beta\\_t2d & se\\_exp & se\\_bmi & se\\_t2d & pval\\_bmi & pval\\_t2d & pval\\_exp & rowid & a2 & a1 & harmon & top & r2\\\\\n",
       " <dbl> & <dbl> & <chr> & <chr> & <chr> & <dbl> & <dbl> & <dbl> & <dbl> & <dbl> & <dbl> & <dbl> & <dbl> & <dbl> & <int> & <chr> & <chr> & <dbl> & <lgl> & <dbl>\\\\\n",
       "\\hline\n",
       "\t 3 & 11891529 & rs9819059 & C & T & -0.0234 & 0.0027 & -0.0059 & 0.0250 & 0.0018 & 0.013 & 0.12 & 0.640 & 0.3467369 & 1 & T & C & -1 & FALSE & 0.0047343069\\\\\n",
       "\t 3 & 11893950 & rs732096  & T & C & -0.0217 & 0.0009 & -0.0063 & 0.0264 & 0.0018 & 0.013 & 0.64 & 0.630 & 0.4168694 & 2 & C & T & -1 & FALSE & 0.0049309186\\\\\n",
       "\t 3 & 11895450 & rs1605404 & A & G & -0.0217 & 0.0021 & -0.0098 & 0.0257 & 0.0018 & 0.013 & 0.24 & 0.450 & 0.3981072 & 3 & G & A & -1 & FALSE & 0.0126193769\\\\\n",
       "\t 3 & 11895829 & rs303851  & G & A & -0.0031 & 0.0013 & -0.0230 & 0.0257 & 0.0018 & 0.013 & 0.46 & 0.076 & 0.9120110 & 4 & G & A & -1 & FALSE & 0.0013931034\\\\\n",
       "\t 3 & 11896347 & rs303850  & G & A & -0.0034 & 0.0012 & -0.0240 & 0.0257 & 0.0018 & 0.012 & 0.49 & 0.057 & 0.8912509 & 5 & G & A & -1 & FALSE & 0.0013931034\\\\\n",
       "\t 3 & 11898859 & rs2133064 & G & A & -0.0544 & 0.0036 & -0.0390 & 0.0775 & 0.0051 & 0.035 & 0.48 & 0.270 & 0.4786301 & 6 & A & G & -1 & FALSE & 0.0008835994\\\\\n",
       "\\end{tabular}\n"
      ],
      "text/markdown": [
       "\n",
       "A tibble: 6 × 20\n",
       "\n",
       "| chr &lt;dbl&gt; | position &lt;dbl&gt; | rsid &lt;chr&gt; | ea &lt;chr&gt; | nea &lt;chr&gt; | beta_exp &lt;dbl&gt; | beta_bmi &lt;dbl&gt; | beta_t2d &lt;dbl&gt; | se_exp &lt;dbl&gt; | se_bmi &lt;dbl&gt; | se_t2d &lt;dbl&gt; | pval_bmi &lt;dbl&gt; | pval_t2d &lt;dbl&gt; | pval_exp &lt;dbl&gt; | rowid &lt;int&gt; | a2 &lt;chr&gt; | a1 &lt;chr&gt; | harmon &lt;dbl&gt; | top &lt;lgl&gt; | r2 &lt;dbl&gt; |\n",
       "|---|---|---|---|---|---|---|---|---|---|---|---|---|---|---|---|---|---|---|---|\n",
       "| 3 | 11891529 | rs9819059 | C | T | -0.0234 | 0.0027 | -0.0059 | 0.0250 | 0.0018 | 0.013 | 0.12 | 0.640 | 0.3467369 | 1 | T | C | -1 | FALSE | 0.0047343069 |\n",
       "| 3 | 11893950 | rs732096  | T | C | -0.0217 | 0.0009 | -0.0063 | 0.0264 | 0.0018 | 0.013 | 0.64 | 0.630 | 0.4168694 | 2 | C | T | -1 | FALSE | 0.0049309186 |\n",
       "| 3 | 11895450 | rs1605404 | A | G | -0.0217 | 0.0021 | -0.0098 | 0.0257 | 0.0018 | 0.013 | 0.24 | 0.450 | 0.3981072 | 3 | G | A | -1 | FALSE | 0.0126193769 |\n",
       "| 3 | 11895829 | rs303851  | G | A | -0.0031 | 0.0013 | -0.0230 | 0.0257 | 0.0018 | 0.013 | 0.46 | 0.076 | 0.9120110 | 4 | G | A | -1 | FALSE | 0.0013931034 |\n",
       "| 3 | 11896347 | rs303850  | G | A | -0.0034 | 0.0012 | -0.0240 | 0.0257 | 0.0018 | 0.012 | 0.49 | 0.057 | 0.8912509 | 5 | G | A | -1 | FALSE | 0.0013931034 |\n",
       "| 3 | 11898859 | rs2133064 | G | A | -0.0544 | 0.0036 | -0.0390 | 0.0775 | 0.0051 | 0.035 | 0.48 | 0.270 | 0.4786301 | 6 | A | G | -1 | FALSE | 0.0008835994 |\n",
       "\n"
      ],
      "text/plain": [
       "  chr position rsid      ea nea beta_exp beta_bmi beta_t2d se_exp se_bmi se_t2d\n",
       "1 3   11891529 rs9819059 C  T   -0.0234  0.0027   -0.0059  0.0250 0.0018 0.013 \n",
       "2 3   11893950 rs732096  T  C   -0.0217  0.0009   -0.0063  0.0264 0.0018 0.013 \n",
       "3 3   11895450 rs1605404 A  G   -0.0217  0.0021   -0.0098  0.0257 0.0018 0.013 \n",
       "4 3   11895829 rs303851  G  A   -0.0031  0.0013   -0.0230  0.0257 0.0018 0.013 \n",
       "5 3   11896347 rs303850  G  A   -0.0034  0.0012   -0.0240  0.0257 0.0018 0.012 \n",
       "6 3   11898859 rs2133064 G  A   -0.0544  0.0036   -0.0390  0.0775 0.0051 0.035 \n",
       "  pval_bmi pval_t2d pval_exp  rowid a2 a1 harmon top   r2          \n",
       "1 0.12     0.640    0.3467369 1     T  C  -1     FALSE 0.0047343069\n",
       "2 0.64     0.630    0.4168694 2     C  T  -1     FALSE 0.0049309186\n",
       "3 0.24     0.450    0.3981072 3     G  A  -1     FALSE 0.0126193769\n",
       "4 0.46     0.076    0.9120110 4     G  A  -1     FALSE 0.0013931034\n",
       "5 0.49     0.057    0.8912509 5     G  A  -1     FALSE 0.0013931034\n",
       "6 0.48     0.270    0.4786301 6     A  G  -1     FALSE 0.0008835994"
      ]
     },
     "metadata": {},
     "output_type": "display_data"
    },
    {
     "data": {
      "text/html": [
       "844"
      ],
      "text/latex": [
       "844"
      ],
      "text/markdown": [
       "844"
      ],
      "text/plain": [
       "[1] 844"
      ]
     },
     "metadata": {},
     "output_type": "display_data"
    }
   ],
   "source": [
    "heidi_ins <- inner_join(snp_region, ldmat_snps, by = c(\"rsid\")) %>%\n",
    "    mutate(harmon = case_when(ea == a1 & nea == a2 ~ 1,\n",
    "                              ea == a2 & nea == a1 ~ -1,\n",
    "                              TRUE ~ 0)) %>% \n",
    "    filter(harmon != 0) %>%\n",
    "    mutate(top = rsid == lead_snp$rsid,\n",
    "           harmon = ifelse(harmon[top] == 1, harmon, -harmon),\n",
    "           r2 = ldmat[rowid[top], rowid]^2)\n",
    "head(heidi_ins)\n",
    "nrow(heidi_ins)"
   ]
  },
  {
   "cell_type": "code",
   "execution_count": 20,
   "id": "6b60bb70-b8a1-41ad-80a5-69c79abaa930",
   "metadata": {},
   "outputs": [
    {
     "data": {
      "text/html": [
       "<table class=\"dataframe\">\n",
       "<caption>A tibble: 6 × 20</caption>\n",
       "<thead>\n",
       "\t<tr><th scope=col>chr</th><th scope=col>position</th><th scope=col>rsid</th><th scope=col>ea</th><th scope=col>nea</th><th scope=col>beta_exp</th><th scope=col>beta_bmi</th><th scope=col>beta_t2d</th><th scope=col>se_exp</th><th scope=col>se_bmi</th><th scope=col>se_t2d</th><th scope=col>pval_bmi</th><th scope=col>pval_t2d</th><th scope=col>pval_exp</th><th scope=col>rowid</th><th scope=col>a2</th><th scope=col>a1</th><th scope=col>harmon</th><th scope=col>top</th><th scope=col>r2</th></tr>\n",
       "\t<tr><th scope=col>&lt;dbl&gt;</th><th scope=col>&lt;dbl&gt;</th><th scope=col>&lt;chr&gt;</th><th scope=col>&lt;chr&gt;</th><th scope=col>&lt;chr&gt;</th><th scope=col>&lt;dbl&gt;</th><th scope=col>&lt;dbl&gt;</th><th scope=col>&lt;dbl&gt;</th><th scope=col>&lt;dbl&gt;</th><th scope=col>&lt;dbl&gt;</th><th scope=col>&lt;dbl&gt;</th><th scope=col>&lt;dbl&gt;</th><th scope=col>&lt;dbl&gt;</th><th scope=col>&lt;dbl&gt;</th><th scope=col>&lt;int&gt;</th><th scope=col>&lt;chr&gt;</th><th scope=col>&lt;chr&gt;</th><th scope=col>&lt;dbl&gt;</th><th scope=col>&lt;lgl&gt;</th><th scope=col>&lt;dbl&gt;</th></tr>\n",
       "</thead>\n",
       "<tbody>\n",
       "\t<tr><td>3</td><td>12391207</td><td>rs6802898 </td><td>T</td><td>C</td><td>-0.3019</td><td>0.0168</td><td>-0.120</td><td>0.0385</td><td>0.0024</td><td>0.018</td><td>6.4e-12</td><td>2.1e-11</td><td>4.786301e-15</td><td>502</td><td>T</td><td>C</td><td>-1</td><td> TRUE</td><td>1.0000000</td></tr>\n",
       "\t<tr><td>3</td><td>12413339</td><td>rs2120825 </td><td>G</td><td>T</td><td>-0.3056</td><td>0.0147</td><td>-0.100</td><td>0.0407</td><td>0.0026</td><td>0.019</td><td>2.8e-08</td><td>2.4e-07</td><td>6.165950e-14</td><td>519</td><td>G</td><td>T</td><td>-1</td><td>FALSE</td><td>0.6485967</td></tr>\n",
       "\t<tr><td>3</td><td>12359049</td><td>rs2067819 </td><td>A</td><td>G</td><td>-0.1172</td><td>0.0036</td><td>-0.068</td><td>0.0303</td><td>0.0020</td><td>0.015</td><td>7.0e-02</td><td>3.5e-06</td><td>1.122018e-04</td><td>475</td><td>A</td><td>G</td><td>-1</td><td>FALSE</td><td>0.4252683</td></tr>\n",
       "\t<tr><td>3</td><td>12340267</td><td>rs9817428 </td><td>A</td><td>C</td><td>-0.1116</td><td>0.0052</td><td>-0.054</td><td>0.0288</td><td>0.0019</td><td>0.014</td><td>5.5e-03</td><td>2.0e-04</td><td>1.071519e-04</td><td>445</td><td>A</td><td>C</td><td>-1</td><td>FALSE</td><td>0.3812482</td></tr>\n",
       "\t<tr><td>3</td><td>12346849</td><td>rs10510411</td><td>A</td><td>G</td><td>-0.1110</td><td>0.0035</td><td>-0.052</td><td>0.0287</td><td>0.0020</td><td>0.014</td><td>8.2e-02</td><td>2.0e-04</td><td>1.096478e-04</td><td>457</td><td>A</td><td>G</td><td>-1</td><td>FALSE</td><td>0.3795952</td></tr>\n",
       "\t<tr><td>3</td><td>12346738</td><td>rs10510410</td><td>C</td><td>A</td><td>-0.1099</td><td>0.0035</td><td>-0.053</td><td>0.0287</td><td>0.0020</td><td>0.014</td><td>8.0e-02</td><td>1.6e-04</td><td>1.288250e-04</td><td>456</td><td>C</td><td>A</td><td>-1</td><td>FALSE</td><td>0.3795952</td></tr>\n",
       "</tbody>\n",
       "</table>\n"
      ],
      "text/latex": [
       "A tibble: 6 × 20\n",
       "\\begin{tabular}{llllllllllllllllllll}\n",
       " chr & position & rsid & ea & nea & beta\\_exp & beta\\_bmi & beta\\_t2d & se\\_exp & se\\_bmi & se\\_t2d & pval\\_bmi & pval\\_t2d & pval\\_exp & rowid & a2 & a1 & harmon & top & r2\\\\\n",
       " <dbl> & <dbl> & <chr> & <chr> & <chr> & <dbl> & <dbl> & <dbl> & <dbl> & <dbl> & <dbl> & <dbl> & <dbl> & <dbl> & <int> & <chr> & <chr> & <dbl> & <lgl> & <dbl>\\\\\n",
       "\\hline\n",
       "\t 3 & 12391207 & rs6802898  & T & C & -0.3019 & 0.0168 & -0.120 & 0.0385 & 0.0024 & 0.018 & 6.4e-12 & 2.1e-11 & 4.786301e-15 & 502 & T & C & -1 &  TRUE & 1.0000000\\\\\n",
       "\t 3 & 12413339 & rs2120825  & G & T & -0.3056 & 0.0147 & -0.100 & 0.0407 & 0.0026 & 0.019 & 2.8e-08 & 2.4e-07 & 6.165950e-14 & 519 & G & T & -1 & FALSE & 0.6485967\\\\\n",
       "\t 3 & 12359049 & rs2067819  & A & G & -0.1172 & 0.0036 & -0.068 & 0.0303 & 0.0020 & 0.015 & 7.0e-02 & 3.5e-06 & 1.122018e-04 & 475 & A & G & -1 & FALSE & 0.4252683\\\\\n",
       "\t 3 & 12340267 & rs9817428  & A & C & -0.1116 & 0.0052 & -0.054 & 0.0288 & 0.0019 & 0.014 & 5.5e-03 & 2.0e-04 & 1.071519e-04 & 445 & A & C & -1 & FALSE & 0.3812482\\\\\n",
       "\t 3 & 12346849 & rs10510411 & A & G & -0.1110 & 0.0035 & -0.052 & 0.0287 & 0.0020 & 0.014 & 8.2e-02 & 2.0e-04 & 1.096478e-04 & 457 & A & G & -1 & FALSE & 0.3795952\\\\\n",
       "\t 3 & 12346738 & rs10510410 & C & A & -0.1099 & 0.0035 & -0.053 & 0.0287 & 0.0020 & 0.014 & 8.0e-02 & 1.6e-04 & 1.288250e-04 & 456 & C & A & -1 & FALSE & 0.3795952\\\\\n",
       "\\end{tabular}\n"
      ],
      "text/markdown": [
       "\n",
       "A tibble: 6 × 20\n",
       "\n",
       "| chr &lt;dbl&gt; | position &lt;dbl&gt; | rsid &lt;chr&gt; | ea &lt;chr&gt; | nea &lt;chr&gt; | beta_exp &lt;dbl&gt; | beta_bmi &lt;dbl&gt; | beta_t2d &lt;dbl&gt; | se_exp &lt;dbl&gt; | se_bmi &lt;dbl&gt; | se_t2d &lt;dbl&gt; | pval_bmi &lt;dbl&gt; | pval_t2d &lt;dbl&gt; | pval_exp &lt;dbl&gt; | rowid &lt;int&gt; | a2 &lt;chr&gt; | a1 &lt;chr&gt; | harmon &lt;dbl&gt; | top &lt;lgl&gt; | r2 &lt;dbl&gt; |\n",
       "|---|---|---|---|---|---|---|---|---|---|---|---|---|---|---|---|---|---|---|---|\n",
       "| 3 | 12391207 | rs6802898  | T | C | -0.3019 | 0.0168 | -0.120 | 0.0385 | 0.0024 | 0.018 | 6.4e-12 | 2.1e-11 | 4.786301e-15 | 502 | T | C | -1 |  TRUE | 1.0000000 |\n",
       "| 3 | 12413339 | rs2120825  | G | T | -0.3056 | 0.0147 | -0.100 | 0.0407 | 0.0026 | 0.019 | 2.8e-08 | 2.4e-07 | 6.165950e-14 | 519 | G | T | -1 | FALSE | 0.6485967 |\n",
       "| 3 | 12359049 | rs2067819  | A | G | -0.1172 | 0.0036 | -0.068 | 0.0303 | 0.0020 | 0.015 | 7.0e-02 | 3.5e-06 | 1.122018e-04 | 475 | A | G | -1 | FALSE | 0.4252683 |\n",
       "| 3 | 12340267 | rs9817428  | A | C | -0.1116 | 0.0052 | -0.054 | 0.0288 | 0.0019 | 0.014 | 5.5e-03 | 2.0e-04 | 1.071519e-04 | 445 | A | C | -1 | FALSE | 0.3812482 |\n",
       "| 3 | 12346849 | rs10510411 | A | G | -0.1110 | 0.0035 | -0.052 | 0.0287 | 0.0020 | 0.014 | 8.2e-02 | 2.0e-04 | 1.096478e-04 | 457 | A | G | -1 | FALSE | 0.3795952 |\n",
       "| 3 | 12346738 | rs10510410 | C | A | -0.1099 | 0.0035 | -0.053 | 0.0287 | 0.0020 | 0.014 | 8.0e-02 | 1.6e-04 | 1.288250e-04 | 456 | C | A | -1 | FALSE | 0.3795952 |\n",
       "\n"
      ],
      "text/plain": [
       "  chr position rsid       ea nea beta_exp beta_bmi beta_t2d se_exp se_bmi\n",
       "1 3   12391207 rs6802898  T  C   -0.3019  0.0168   -0.120   0.0385 0.0024\n",
       "2 3   12413339 rs2120825  G  T   -0.3056  0.0147   -0.100   0.0407 0.0026\n",
       "3 3   12359049 rs2067819  A  G   -0.1172  0.0036   -0.068   0.0303 0.0020\n",
       "4 3   12340267 rs9817428  A  C   -0.1116  0.0052   -0.054   0.0288 0.0019\n",
       "5 3   12346849 rs10510411 A  G   -0.1110  0.0035   -0.052   0.0287 0.0020\n",
       "6 3   12346738 rs10510410 C  A   -0.1099  0.0035   -0.053   0.0287 0.0020\n",
       "  se_t2d pval_bmi pval_t2d pval_exp     rowid a2 a1 harmon top   r2       \n",
       "1 0.018  6.4e-12  2.1e-11  4.786301e-15 502   T  C  -1      TRUE 1.0000000\n",
       "2 0.019  2.8e-08  2.4e-07  6.165950e-14 519   G  T  -1     FALSE 0.6485967\n",
       "3 0.015  7.0e-02  3.5e-06  1.122018e-04 475   A  G  -1     FALSE 0.4252683\n",
       "4 0.014  5.5e-03  2.0e-04  1.071519e-04 445   A  C  -1     FALSE 0.3812482\n",
       "5 0.014  8.2e-02  2.0e-04  1.096478e-04 457   A  G  -1     FALSE 0.3795952\n",
       "6 0.014  8.0e-02  1.6e-04  1.288250e-04 456   C  A  -1     FALSE 0.3795952"
      ]
     },
     "metadata": {},
     "output_type": "display_data"
    },
    {
     "data": {
      "text/html": [
       "20"
      ],
      "text/latex": [
       "20"
      ],
      "text/markdown": [
       "20"
      ],
      "text/plain": [
       "[1] 20"
      ]
     },
     "metadata": {},
     "output_type": "display_data"
    }
   ],
   "source": [
    "top_20 <- heidi_ins %>%\n",
    "    filter(top | (r2 > 0.05 & r2 < 0.9),\n",
    "           pval_exp < pchisq(10, df = 1, lower.tail = FALSE)) %>%\n",
    "    arrange(desc(top), desc(r2), pval_exp) %>% \n",
    "    slice(1:20)\n",
    "head(top_20)\n",
    "nrow(top_20)"
   ]
  },
  {
   "cell_type": "code",
   "execution_count": 21,
   "id": "9c2fc271-7074-445d-86ac-77b27d9555ff",
   "metadata": {},
   "outputs": [],
   "source": [
    "ldmat2 <- ldmat[top_20$rowid, top_20$rowid]\n",
    "for(i in 1:nrow(ldmat2)){\n",
    "    for(j in 1:nrow(ldmat2)){\n",
    "        ldmat2[i,j] <- ifelse(identical(top_20$harmon[i], top_20$harmon[j]),\n",
    "                              ldmat2[i,j], -ldmat2[i,j])\n",
    "    }\n",
    "}"
   ]
  },
  {
   "cell_type": "code",
   "execution_count": 22,
   "id": "0ceb0510-8825-4b09-9519-0454da07d3c9",
   "metadata": {},
   "outputs": [
    {
     "data": {
      "text/html": [
       "<table class=\"dataframe\">\n",
       "<caption>A tibble: 20 × 9</caption>\n",
       "<thead>\n",
       "\t<tr><th scope=col>rsid</th><th scope=col>beta_exp</th><th scope=col>se_exp</th><th scope=col>beta_t2d</th><th scope=col>se_t2d</th><th scope=col>pval_exp</th><th scope=col>pval_t2d</th><th scope=col>top</th><th scope=col>r2</th></tr>\n",
       "\t<tr><th scope=col>&lt;chr&gt;</th><th scope=col>&lt;dbl&gt;</th><th scope=col>&lt;dbl&gt;</th><th scope=col>&lt;dbl&gt;</th><th scope=col>&lt;dbl&gt;</th><th scope=col>&lt;dbl&gt;</th><th scope=col>&lt;dbl&gt;</th><th scope=col>&lt;lgl&gt;</th><th scope=col>&lt;dbl&gt;</th></tr>\n",
       "</thead>\n",
       "<tbody>\n",
       "\t<tr><td>rs6802898 </td><td>-0.3019</td><td>0.0385</td><td>-0.120</td><td>0.018</td><td>4.786301e-15</td><td>2.1e-11</td><td> TRUE</td><td>1.0000000</td></tr>\n",
       "\t<tr><td>rs2120825 </td><td>-0.3056</td><td>0.0407</td><td>-0.100</td><td>0.019</td><td>6.165950e-14</td><td>2.4e-07</td><td>FALSE</td><td>0.6485967</td></tr>\n",
       "\t<tr><td>rs2067819 </td><td>-0.1172</td><td>0.0303</td><td>-0.068</td><td>0.015</td><td>1.122018e-04</td><td>3.5e-06</td><td>FALSE</td><td>0.4252683</td></tr>\n",
       "\t<tr><td>rs9817428 </td><td>-0.1116</td><td>0.0288</td><td>-0.054</td><td>0.014</td><td>1.071519e-04</td><td>2.0e-04</td><td>FALSE</td><td>0.3812482</td></tr>\n",
       "\t<tr><td>rs10510411</td><td>-0.1110</td><td>0.0287</td><td>-0.052</td><td>0.014</td><td>1.096478e-04</td><td>2.0e-04</td><td>FALSE</td><td>0.3795952</td></tr>\n",
       "\t<tr><td>rs10510410</td><td>-0.1099</td><td>0.0287</td><td>-0.053</td><td>0.014</td><td>1.288250e-04</td><td>1.6e-04</td><td>FALSE</td><td>0.3795952</td></tr>\n",
       "\t<tr><td>rs12631028</td><td>-0.1137</td><td>0.0288</td><td>-0.057</td><td>0.014</td><td>7.943282e-05</td><td>4.9e-05</td><td>FALSE</td><td>0.3785153</td></tr>\n",
       "\t<tr><td>rs13076055</td><td>-0.1106</td><td>0.0288</td><td>-0.054</td><td>0.014</td><td>1.230269e-04</td><td>1.1e-04</td><td>FALSE</td><td>0.3785153</td></tr>\n",
       "\t<tr><td>rs12636461</td><td>-0.1103</td><td>0.0288</td><td>-0.054</td><td>0.014</td><td>1.258925e-04</td><td>1.0e-04</td><td>FALSE</td><td>0.3785153</td></tr>\n",
       "\t<tr><td>rs4684846 </td><td>-0.1103</td><td>0.0288</td><td>-0.055</td><td>0.014</td><td>1.288250e-04</td><td>9.9e-05</td><td>FALSE</td><td>0.3785153</td></tr>\n",
       "\t<tr><td>rs13061415</td><td>-0.1152</td><td>0.0289</td><td>-0.052</td><td>0.015</td><td>6.760830e-05</td><td>3.1e-04</td><td>FALSE</td><td>0.3771237</td></tr>\n",
       "\t<tr><td>rs6809631 </td><td>-0.1124</td><td>0.0288</td><td>-0.056</td><td>0.014</td><td>9.549926e-05</td><td>6.9e-05</td><td>FALSE</td><td>0.3765455</td></tr>\n",
       "\t<tr><td>rs6785890 </td><td>-0.1111</td><td>0.0288</td><td>-0.055</td><td>0.014</td><td>1.148154e-04</td><td>1.4e-04</td><td>FALSE</td><td>0.3765455</td></tr>\n",
       "\t<tr><td>rs6768587 </td><td>-0.1103</td><td>0.0288</td><td>-0.053</td><td>0.014</td><td>1.288250e-04</td><td>1.4e-04</td><td>FALSE</td><td>0.3765455</td></tr>\n",
       "\t<tr><td>rs13433696</td><td>-0.1160</td><td>0.0289</td><td>-0.051</td><td>0.014</td><td>6.025596e-05</td><td>3.1e-04</td><td>FALSE</td><td>0.3750289</td></tr>\n",
       "\t<tr><td>rs12629240</td><td>-0.1173</td><td>0.0295</td><td>-0.051</td><td>0.014</td><td>6.918310e-05</td><td>2.6e-04</td><td>FALSE</td><td>0.3750289</td></tr>\n",
       "\t<tr><td>rs12493718</td><td>-0.1148</td><td>0.0289</td><td>-0.050</td><td>0.015</td><td>7.079458e-05</td><td>5.7e-04</td><td>FALSE</td><td>0.3750289</td></tr>\n",
       "\t<tr><td>rs12636454</td><td>-0.1127</td><td>0.0288</td><td>-0.051</td><td>0.014</td><td>9.120108e-05</td><td>3.0e-04</td><td>FALSE</td><td>0.3750289</td></tr>\n",
       "\t<tr><td>rs11128599</td><td>-0.1118</td><td>0.0289</td><td>-0.051</td><td>0.014</td><td>1.096478e-04</td><td>2.8e-04</td><td>FALSE</td><td>0.3750289</td></tr>\n",
       "\t<tr><td>rs11128597</td><td>-0.1114</td><td>0.0287</td><td>-0.054</td><td>0.014</td><td>1.071519e-04</td><td>1.8e-04</td><td>FALSE</td><td>0.3745868</td></tr>\n",
       "</tbody>\n",
       "</table>\n"
      ],
      "text/latex": [
       "A tibble: 20 × 9\n",
       "\\begin{tabular}{lllllllll}\n",
       " rsid & beta\\_exp & se\\_exp & beta\\_t2d & se\\_t2d & pval\\_exp & pval\\_t2d & top & r2\\\\\n",
       " <chr> & <dbl> & <dbl> & <dbl> & <dbl> & <dbl> & <dbl> & <lgl> & <dbl>\\\\\n",
       "\\hline\n",
       "\t rs6802898  & -0.3019 & 0.0385 & -0.120 & 0.018 & 4.786301e-15 & 2.1e-11 &  TRUE & 1.0000000\\\\\n",
       "\t rs2120825  & -0.3056 & 0.0407 & -0.100 & 0.019 & 6.165950e-14 & 2.4e-07 & FALSE & 0.6485967\\\\\n",
       "\t rs2067819  & -0.1172 & 0.0303 & -0.068 & 0.015 & 1.122018e-04 & 3.5e-06 & FALSE & 0.4252683\\\\\n",
       "\t rs9817428  & -0.1116 & 0.0288 & -0.054 & 0.014 & 1.071519e-04 & 2.0e-04 & FALSE & 0.3812482\\\\\n",
       "\t rs10510411 & -0.1110 & 0.0287 & -0.052 & 0.014 & 1.096478e-04 & 2.0e-04 & FALSE & 0.3795952\\\\\n",
       "\t rs10510410 & -0.1099 & 0.0287 & -0.053 & 0.014 & 1.288250e-04 & 1.6e-04 & FALSE & 0.3795952\\\\\n",
       "\t rs12631028 & -0.1137 & 0.0288 & -0.057 & 0.014 & 7.943282e-05 & 4.9e-05 & FALSE & 0.3785153\\\\\n",
       "\t rs13076055 & -0.1106 & 0.0288 & -0.054 & 0.014 & 1.230269e-04 & 1.1e-04 & FALSE & 0.3785153\\\\\n",
       "\t rs12636461 & -0.1103 & 0.0288 & -0.054 & 0.014 & 1.258925e-04 & 1.0e-04 & FALSE & 0.3785153\\\\\n",
       "\t rs4684846  & -0.1103 & 0.0288 & -0.055 & 0.014 & 1.288250e-04 & 9.9e-05 & FALSE & 0.3785153\\\\\n",
       "\t rs13061415 & -0.1152 & 0.0289 & -0.052 & 0.015 & 6.760830e-05 & 3.1e-04 & FALSE & 0.3771237\\\\\n",
       "\t rs6809631  & -0.1124 & 0.0288 & -0.056 & 0.014 & 9.549926e-05 & 6.9e-05 & FALSE & 0.3765455\\\\\n",
       "\t rs6785890  & -0.1111 & 0.0288 & -0.055 & 0.014 & 1.148154e-04 & 1.4e-04 & FALSE & 0.3765455\\\\\n",
       "\t rs6768587  & -0.1103 & 0.0288 & -0.053 & 0.014 & 1.288250e-04 & 1.4e-04 & FALSE & 0.3765455\\\\\n",
       "\t rs13433696 & -0.1160 & 0.0289 & -0.051 & 0.014 & 6.025596e-05 & 3.1e-04 & FALSE & 0.3750289\\\\\n",
       "\t rs12629240 & -0.1173 & 0.0295 & -0.051 & 0.014 & 6.918310e-05 & 2.6e-04 & FALSE & 0.3750289\\\\\n",
       "\t rs12493718 & -0.1148 & 0.0289 & -0.050 & 0.015 & 7.079458e-05 & 5.7e-04 & FALSE & 0.3750289\\\\\n",
       "\t rs12636454 & -0.1127 & 0.0288 & -0.051 & 0.014 & 9.120108e-05 & 3.0e-04 & FALSE & 0.3750289\\\\\n",
       "\t rs11128599 & -0.1118 & 0.0289 & -0.051 & 0.014 & 1.096478e-04 & 2.8e-04 & FALSE & 0.3750289\\\\\n",
       "\t rs11128597 & -0.1114 & 0.0287 & -0.054 & 0.014 & 1.071519e-04 & 1.8e-04 & FALSE & 0.3745868\\\\\n",
       "\\end{tabular}\n"
      ],
      "text/markdown": [
       "\n",
       "A tibble: 20 × 9\n",
       "\n",
       "| rsid &lt;chr&gt; | beta_exp &lt;dbl&gt; | se_exp &lt;dbl&gt; | beta_t2d &lt;dbl&gt; | se_t2d &lt;dbl&gt; | pval_exp &lt;dbl&gt; | pval_t2d &lt;dbl&gt; | top &lt;lgl&gt; | r2 &lt;dbl&gt; |\n",
       "|---|---|---|---|---|---|---|---|---|\n",
       "| rs6802898  | -0.3019 | 0.0385 | -0.120 | 0.018 | 4.786301e-15 | 2.1e-11 |  TRUE | 1.0000000 |\n",
       "| rs2120825  | -0.3056 | 0.0407 | -0.100 | 0.019 | 6.165950e-14 | 2.4e-07 | FALSE | 0.6485967 |\n",
       "| rs2067819  | -0.1172 | 0.0303 | -0.068 | 0.015 | 1.122018e-04 | 3.5e-06 | FALSE | 0.4252683 |\n",
       "| rs9817428  | -0.1116 | 0.0288 | -0.054 | 0.014 | 1.071519e-04 | 2.0e-04 | FALSE | 0.3812482 |\n",
       "| rs10510411 | -0.1110 | 0.0287 | -0.052 | 0.014 | 1.096478e-04 | 2.0e-04 | FALSE | 0.3795952 |\n",
       "| rs10510410 | -0.1099 | 0.0287 | -0.053 | 0.014 | 1.288250e-04 | 1.6e-04 | FALSE | 0.3795952 |\n",
       "| rs12631028 | -0.1137 | 0.0288 | -0.057 | 0.014 | 7.943282e-05 | 4.9e-05 | FALSE | 0.3785153 |\n",
       "| rs13076055 | -0.1106 | 0.0288 | -0.054 | 0.014 | 1.230269e-04 | 1.1e-04 | FALSE | 0.3785153 |\n",
       "| rs12636461 | -0.1103 | 0.0288 | -0.054 | 0.014 | 1.258925e-04 | 1.0e-04 | FALSE | 0.3785153 |\n",
       "| rs4684846  | -0.1103 | 0.0288 | -0.055 | 0.014 | 1.288250e-04 | 9.9e-05 | FALSE | 0.3785153 |\n",
       "| rs13061415 | -0.1152 | 0.0289 | -0.052 | 0.015 | 6.760830e-05 | 3.1e-04 | FALSE | 0.3771237 |\n",
       "| rs6809631  | -0.1124 | 0.0288 | -0.056 | 0.014 | 9.549926e-05 | 6.9e-05 | FALSE | 0.3765455 |\n",
       "| rs6785890  | -0.1111 | 0.0288 | -0.055 | 0.014 | 1.148154e-04 | 1.4e-04 | FALSE | 0.3765455 |\n",
       "| rs6768587  | -0.1103 | 0.0288 | -0.053 | 0.014 | 1.288250e-04 | 1.4e-04 | FALSE | 0.3765455 |\n",
       "| rs13433696 | -0.1160 | 0.0289 | -0.051 | 0.014 | 6.025596e-05 | 3.1e-04 | FALSE | 0.3750289 |\n",
       "| rs12629240 | -0.1173 | 0.0295 | -0.051 | 0.014 | 6.918310e-05 | 2.6e-04 | FALSE | 0.3750289 |\n",
       "| rs12493718 | -0.1148 | 0.0289 | -0.050 | 0.015 | 7.079458e-05 | 5.7e-04 | FALSE | 0.3750289 |\n",
       "| rs12636454 | -0.1127 | 0.0288 | -0.051 | 0.014 | 9.120108e-05 | 3.0e-04 | FALSE | 0.3750289 |\n",
       "| rs11128599 | -0.1118 | 0.0289 | -0.051 | 0.014 | 1.096478e-04 | 2.8e-04 | FALSE | 0.3750289 |\n",
       "| rs11128597 | -0.1114 | 0.0287 | -0.054 | 0.014 | 1.071519e-04 | 1.8e-04 | FALSE | 0.3745868 |\n",
       "\n"
      ],
      "text/plain": [
       "   rsid       beta_exp se_exp beta_t2d se_t2d pval_exp     pval_t2d top  \n",
       "1  rs6802898  -0.3019  0.0385 -0.120   0.018  4.786301e-15 2.1e-11   TRUE\n",
       "2  rs2120825  -0.3056  0.0407 -0.100   0.019  6.165950e-14 2.4e-07  FALSE\n",
       "3  rs2067819  -0.1172  0.0303 -0.068   0.015  1.122018e-04 3.5e-06  FALSE\n",
       "4  rs9817428  -0.1116  0.0288 -0.054   0.014  1.071519e-04 2.0e-04  FALSE\n",
       "5  rs10510411 -0.1110  0.0287 -0.052   0.014  1.096478e-04 2.0e-04  FALSE\n",
       "6  rs10510410 -0.1099  0.0287 -0.053   0.014  1.288250e-04 1.6e-04  FALSE\n",
       "7  rs12631028 -0.1137  0.0288 -0.057   0.014  7.943282e-05 4.9e-05  FALSE\n",
       "8  rs13076055 -0.1106  0.0288 -0.054   0.014  1.230269e-04 1.1e-04  FALSE\n",
       "9  rs12636461 -0.1103  0.0288 -0.054   0.014  1.258925e-04 1.0e-04  FALSE\n",
       "10 rs4684846  -0.1103  0.0288 -0.055   0.014  1.288250e-04 9.9e-05  FALSE\n",
       "11 rs13061415 -0.1152  0.0289 -0.052   0.015  6.760830e-05 3.1e-04  FALSE\n",
       "12 rs6809631  -0.1124  0.0288 -0.056   0.014  9.549926e-05 6.9e-05  FALSE\n",
       "13 rs6785890  -0.1111  0.0288 -0.055   0.014  1.148154e-04 1.4e-04  FALSE\n",
       "14 rs6768587  -0.1103  0.0288 -0.053   0.014  1.288250e-04 1.4e-04  FALSE\n",
       "15 rs13433696 -0.1160  0.0289 -0.051   0.014  6.025596e-05 3.1e-04  FALSE\n",
       "16 rs12629240 -0.1173  0.0295 -0.051   0.014  6.918310e-05 2.6e-04  FALSE\n",
       "17 rs12493718 -0.1148  0.0289 -0.050   0.015  7.079458e-05 5.7e-04  FALSE\n",
       "18 rs12636454 -0.1127  0.0288 -0.051   0.014  9.120108e-05 3.0e-04  FALSE\n",
       "19 rs11128599 -0.1118  0.0289 -0.051   0.014  1.096478e-04 2.8e-04  FALSE\n",
       "20 rs11128597 -0.1114  0.0287 -0.054   0.014  1.071519e-04 1.8e-04  FALSE\n",
       "   r2       \n",
       "1  1.0000000\n",
       "2  0.6485967\n",
       "3  0.4252683\n",
       "4  0.3812482\n",
       "5  0.3795952\n",
       "6  0.3795952\n",
       "7  0.3785153\n",
       "8  0.3785153\n",
       "9  0.3785153\n",
       "10 0.3785153\n",
       "11 0.3771237\n",
       "12 0.3765455\n",
       "13 0.3765455\n",
       "14 0.3765455\n",
       "15 0.3750289\n",
       "16 0.3750289\n",
       "17 0.3750289\n",
       "18 0.3750289\n",
       "19 0.3750289\n",
       "20 0.3745868"
      ]
     },
     "metadata": {},
     "output_type": "display_data"
    }
   ],
   "source": [
    "select(top_20, rsid, beta_exp, se_exp, beta_t2d, se_t2d, pval_exp, pval_t2d, top, r2)"
   ]
  },
  {
   "cell_type": "code",
   "execution_count": 23,
   "id": "5a9e27a2-cc29-4514-baaa-3f1859893a02",
   "metadata": {},
   "outputs": [
    {
     "data": {
      "text/html": [
       "<table class=\"dataframe\">\n",
       "<caption>A tibble: 1 × 3</caption>\n",
       "<thead>\n",
       "\t<tr><th scope=col>beta_smr</th><th scope=col>se_smr</th><th scope=col>p_smr</th></tr>\n",
       "\t<tr><th scope=col>&lt;dbl&gt;</th><th scope=col>&lt;dbl&gt;</th><th scope=col>&lt;dbl&gt;</th></tr>\n",
       "</thead>\n",
       "<tbody>\n",
       "\t<tr><td>0.3974826</td><td>0.07825745</td><td>3.790944e-07</td></tr>\n",
       "</tbody>\n",
       "</table>\n"
      ],
      "text/latex": [
       "A tibble: 1 × 3\n",
       "\\begin{tabular}{lll}\n",
       " beta\\_smr & se\\_smr & p\\_smr\\\\\n",
       " <dbl> & <dbl> & <dbl>\\\\\n",
       "\\hline\n",
       "\t 0.3974826 & 0.07825745 & 3.790944e-07\\\\\n",
       "\\end{tabular}\n"
      ],
      "text/markdown": [
       "\n",
       "A tibble: 1 × 3\n",
       "\n",
       "| beta_smr &lt;dbl&gt; | se_smr &lt;dbl&gt; | p_smr &lt;dbl&gt; |\n",
       "|---|---|---|\n",
       "| 0.3974826 | 0.07825745 | 3.790944e-07 |\n",
       "\n"
      ],
      "text/plain": [
       "  beta_smr  se_smr     p_smr       \n",
       "1 0.3974826 0.07825745 3.790944e-07"
      ]
     },
     "metadata": {},
     "output_type": "display_data"
    }
   ],
   "source": [
    "top_20 %>%\n",
    "    filter(top) %>%\n",
    "    transmute(beta_smr = beta_t2d/beta_exp,\n",
    "              se_smr = std_err_smr(beta_exp, se_exp, beta_t2d, se_t2d),\n",
    "              p_smr = pval_smr(beta_exp, se_exp, beta_t2d, se_t2d))"
   ]
  },
  {
   "cell_type": "code",
   "execution_count": 24,
   "id": "2ad9810c-fa49-4d70-a9dd-9182495b25cc",
   "metadata": {},
   "outputs": [
    {
     "data": {
      "text/html": [
       "0.420083488489674"
      ],
      "text/latex": [
       "0.420083488489674"
      ],
      "text/markdown": [
       "0.420083488489674"
      ],
      "text/plain": [
       "[1] 0.4200835"
      ]
     },
     "metadata": {},
     "output_type": "display_data"
    }
   ],
   "source": [
    "heidi_pvalue(top_20$beta_exp, top_20$se_exp, top_20$beta_t2d, top_20$se_t2d, ldmat2, 1)"
   ]
  },
  {
   "cell_type": "code",
   "execution_count": 25,
   "id": "87340631-69c1-414b-8c31-c6f4d3052330",
   "metadata": {},
   "outputs": [
    {
     "data": {
      "text/html": [
       "<table class=\"dataframe\">\n",
       "<caption>A tibble: 6 × 20</caption>\n",
       "<thead>\n",
       "\t<tr><th scope=col>chr</th><th scope=col>position</th><th scope=col>rsid</th><th scope=col>ea</th><th scope=col>nea</th><th scope=col>beta_exp</th><th scope=col>beta_bmi</th><th scope=col>beta_t2d</th><th scope=col>se_exp</th><th scope=col>se_bmi</th><th scope=col>se_t2d</th><th scope=col>pval_bmi</th><th scope=col>pval_t2d</th><th scope=col>pval_exp</th><th scope=col>rowid</th><th scope=col>a2</th><th scope=col>a1</th><th scope=col>harmon</th><th scope=col>top</th><th scope=col>r2</th></tr>\n",
       "\t<tr><th scope=col>&lt;dbl&gt;</th><th scope=col>&lt;dbl&gt;</th><th scope=col>&lt;chr&gt;</th><th scope=col>&lt;chr&gt;</th><th scope=col>&lt;chr&gt;</th><th scope=col>&lt;dbl&gt;</th><th scope=col>&lt;dbl&gt;</th><th scope=col>&lt;dbl&gt;</th><th scope=col>&lt;dbl&gt;</th><th scope=col>&lt;dbl&gt;</th><th scope=col>&lt;dbl&gt;</th><th scope=col>&lt;dbl&gt;</th><th scope=col>&lt;dbl&gt;</th><th scope=col>&lt;dbl&gt;</th><th scope=col>&lt;int&gt;</th><th scope=col>&lt;chr&gt;</th><th scope=col>&lt;chr&gt;</th><th scope=col>&lt;dbl&gt;</th><th scope=col>&lt;lgl&gt;</th><th scope=col>&lt;dbl&gt;</th></tr>\n",
       "</thead>\n",
       "<tbody>\n",
       "\t<tr><td>3</td><td>11891529</td><td>rs9819059</td><td>C</td><td>T</td><td>-0.0234</td><td>0.0027</td><td>-0.0059</td><td>0.0250</td><td>0.0018</td><td>0.013</td><td>0.12</td><td>0.640</td><td>0.3467369</td><td>1</td><td>T</td><td>C</td><td>-1</td><td>FALSE</td><td>0.0047343069</td></tr>\n",
       "\t<tr><td>3</td><td>11893950</td><td>rs732096 </td><td>T</td><td>C</td><td>-0.0217</td><td>0.0009</td><td>-0.0063</td><td>0.0264</td><td>0.0018</td><td>0.013</td><td>0.64</td><td>0.630</td><td>0.4168694</td><td>2</td><td>C</td><td>T</td><td>-1</td><td>FALSE</td><td>0.0049309186</td></tr>\n",
       "\t<tr><td>3</td><td>11895450</td><td>rs1605404</td><td>A</td><td>G</td><td>-0.0217</td><td>0.0021</td><td>-0.0098</td><td>0.0257</td><td>0.0018</td><td>0.013</td><td>0.24</td><td>0.450</td><td>0.3981072</td><td>3</td><td>G</td><td>A</td><td>-1</td><td>FALSE</td><td>0.0126193769</td></tr>\n",
       "\t<tr><td>3</td><td>11895829</td><td>rs303851 </td><td>G</td><td>A</td><td>-0.0031</td><td>0.0013</td><td>-0.0230</td><td>0.0257</td><td>0.0018</td><td>0.013</td><td>0.46</td><td>0.076</td><td>0.9120110</td><td>4</td><td>G</td><td>A</td><td>-1</td><td>FALSE</td><td>0.0013931034</td></tr>\n",
       "\t<tr><td>3</td><td>11896347</td><td>rs303850 </td><td>G</td><td>A</td><td>-0.0034</td><td>0.0012</td><td>-0.0240</td><td>0.0257</td><td>0.0018</td><td>0.012</td><td>0.49</td><td>0.057</td><td>0.8912509</td><td>5</td><td>G</td><td>A</td><td>-1</td><td>FALSE</td><td>0.0013931034</td></tr>\n",
       "\t<tr><td>3</td><td>11898859</td><td>rs2133064</td><td>G</td><td>A</td><td>-0.0544</td><td>0.0036</td><td>-0.0390</td><td>0.0775</td><td>0.0051</td><td>0.035</td><td>0.48</td><td>0.270</td><td>0.4786301</td><td>6</td><td>A</td><td>G</td><td>-1</td><td>FALSE</td><td>0.0008835994</td></tr>\n",
       "</tbody>\n",
       "</table>\n"
      ],
      "text/latex": [
       "A tibble: 6 × 20\n",
       "\\begin{tabular}{llllllllllllllllllll}\n",
       " chr & position & rsid & ea & nea & beta\\_exp & beta\\_bmi & beta\\_t2d & se\\_exp & se\\_bmi & se\\_t2d & pval\\_bmi & pval\\_t2d & pval\\_exp & rowid & a2 & a1 & harmon & top & r2\\\\\n",
       " <dbl> & <dbl> & <chr> & <chr> & <chr> & <dbl> & <dbl> & <dbl> & <dbl> & <dbl> & <dbl> & <dbl> & <dbl> & <dbl> & <int> & <chr> & <chr> & <dbl> & <lgl> & <dbl>\\\\\n",
       "\\hline\n",
       "\t 3 & 11891529 & rs9819059 & C & T & -0.0234 & 0.0027 & -0.0059 & 0.0250 & 0.0018 & 0.013 & 0.12 & 0.640 & 0.3467369 & 1 & T & C & -1 & FALSE & 0.0047343069\\\\\n",
       "\t 3 & 11893950 & rs732096  & T & C & -0.0217 & 0.0009 & -0.0063 & 0.0264 & 0.0018 & 0.013 & 0.64 & 0.630 & 0.4168694 & 2 & C & T & -1 & FALSE & 0.0049309186\\\\\n",
       "\t 3 & 11895450 & rs1605404 & A & G & -0.0217 & 0.0021 & -0.0098 & 0.0257 & 0.0018 & 0.013 & 0.24 & 0.450 & 0.3981072 & 3 & G & A & -1 & FALSE & 0.0126193769\\\\\n",
       "\t 3 & 11895829 & rs303851  & G & A & -0.0031 & 0.0013 & -0.0230 & 0.0257 & 0.0018 & 0.013 & 0.46 & 0.076 & 0.9120110 & 4 & G & A & -1 & FALSE & 0.0013931034\\\\\n",
       "\t 3 & 11896347 & rs303850  & G & A & -0.0034 & 0.0012 & -0.0240 & 0.0257 & 0.0018 & 0.012 & 0.49 & 0.057 & 0.8912509 & 5 & G & A & -1 & FALSE & 0.0013931034\\\\\n",
       "\t 3 & 11898859 & rs2133064 & G & A & -0.0544 & 0.0036 & -0.0390 & 0.0775 & 0.0051 & 0.035 & 0.48 & 0.270 & 0.4786301 & 6 & A & G & -1 & FALSE & 0.0008835994\\\\\n",
       "\\end{tabular}\n"
      ],
      "text/markdown": [
       "\n",
       "A tibble: 6 × 20\n",
       "\n",
       "| chr &lt;dbl&gt; | position &lt;dbl&gt; | rsid &lt;chr&gt; | ea &lt;chr&gt; | nea &lt;chr&gt; | beta_exp &lt;dbl&gt; | beta_bmi &lt;dbl&gt; | beta_t2d &lt;dbl&gt; | se_exp &lt;dbl&gt; | se_bmi &lt;dbl&gt; | se_t2d &lt;dbl&gt; | pval_bmi &lt;dbl&gt; | pval_t2d &lt;dbl&gt; | pval_exp &lt;dbl&gt; | rowid &lt;int&gt; | a2 &lt;chr&gt; | a1 &lt;chr&gt; | harmon &lt;dbl&gt; | top &lt;lgl&gt; | r2 &lt;dbl&gt; |\n",
       "|---|---|---|---|---|---|---|---|---|---|---|---|---|---|---|---|---|---|---|---|\n",
       "| 3 | 11891529 | rs9819059 | C | T | -0.0234 | 0.0027 | -0.0059 | 0.0250 | 0.0018 | 0.013 | 0.12 | 0.640 | 0.3467369 | 1 | T | C | -1 | FALSE | 0.0047343069 |\n",
       "| 3 | 11893950 | rs732096  | T | C | -0.0217 | 0.0009 | -0.0063 | 0.0264 | 0.0018 | 0.013 | 0.64 | 0.630 | 0.4168694 | 2 | C | T | -1 | FALSE | 0.0049309186 |\n",
       "| 3 | 11895450 | rs1605404 | A | G | -0.0217 | 0.0021 | -0.0098 | 0.0257 | 0.0018 | 0.013 | 0.24 | 0.450 | 0.3981072 | 3 | G | A | -1 | FALSE | 0.0126193769 |\n",
       "| 3 | 11895829 | rs303851  | G | A | -0.0031 | 0.0013 | -0.0230 | 0.0257 | 0.0018 | 0.013 | 0.46 | 0.076 | 0.9120110 | 4 | G | A | -1 | FALSE | 0.0013931034 |\n",
       "| 3 | 11896347 | rs303850  | G | A | -0.0034 | 0.0012 | -0.0240 | 0.0257 | 0.0018 | 0.012 | 0.49 | 0.057 | 0.8912509 | 5 | G | A | -1 | FALSE | 0.0013931034 |\n",
       "| 3 | 11898859 | rs2133064 | G | A | -0.0544 | 0.0036 | -0.0390 | 0.0775 | 0.0051 | 0.035 | 0.48 | 0.270 | 0.4786301 | 6 | A | G | -1 | FALSE | 0.0008835994 |\n",
       "\n"
      ],
      "text/plain": [
       "  chr position rsid      ea nea beta_exp beta_bmi beta_t2d se_exp se_bmi se_t2d\n",
       "1 3   11891529 rs9819059 C  T   -0.0234  0.0027   -0.0059  0.0250 0.0018 0.013 \n",
       "2 3   11893950 rs732096  T  C   -0.0217  0.0009   -0.0063  0.0264 0.0018 0.013 \n",
       "3 3   11895450 rs1605404 A  G   -0.0217  0.0021   -0.0098  0.0257 0.0018 0.013 \n",
       "4 3   11895829 rs303851  G  A   -0.0031  0.0013   -0.0230  0.0257 0.0018 0.013 \n",
       "5 3   11896347 rs303850  G  A   -0.0034  0.0012   -0.0240  0.0257 0.0018 0.012 \n",
       "6 3   11898859 rs2133064 G  A   -0.0544  0.0036   -0.0390  0.0775 0.0051 0.035 \n",
       "  pval_bmi pval_t2d pval_exp  rowid a2 a1 harmon top   r2          \n",
       "1 0.12     0.640    0.3467369 1     T  C  -1     FALSE 0.0047343069\n",
       "2 0.64     0.630    0.4168694 2     C  T  -1     FALSE 0.0049309186\n",
       "3 0.24     0.450    0.3981072 3     G  A  -1     FALSE 0.0126193769\n",
       "4 0.46     0.076    0.9120110 4     G  A  -1     FALSE 0.0013931034\n",
       "5 0.49     0.057    0.8912509 5     G  A  -1     FALSE 0.0013931034\n",
       "6 0.48     0.270    0.4786301 6     A  G  -1     FALSE 0.0008835994"
      ]
     },
     "metadata": {},
     "output_type": "display_data"
    }
   ],
   "source": [
    "heidi_ins %>%\n",
    "    head"
   ]
  },
  {
   "cell_type": "code",
   "execution_count": 26,
   "id": "46d7c7c5-033a-4aaf-af2d-1ae17acac8a0",
   "metadata": {},
   "outputs": [
    {
     "data": {
      "text/html": [
       "<table class=\"dataframe\">\n",
       "<caption>A tibble: 1 × 14</caption>\n",
       "<thead>\n",
       "\t<tr><th scope=col>chr</th><th scope=col>position</th><th scope=col>rsid</th><th scope=col>ea</th><th scope=col>nea</th><th scope=col>beta_exp</th><th scope=col>beta_bmi</th><th scope=col>beta_t2d</th><th scope=col>se_exp</th><th scope=col>se_bmi</th><th scope=col>se_t2d</th><th scope=col>pval_bmi</th><th scope=col>pval_t2d</th><th scope=col>pval_exp</th></tr>\n",
       "\t<tr><th scope=col>&lt;dbl&gt;</th><th scope=col>&lt;dbl&gt;</th><th scope=col>&lt;chr&gt;</th><th scope=col>&lt;chr&gt;</th><th scope=col>&lt;chr&gt;</th><th scope=col>&lt;dbl&gt;</th><th scope=col>&lt;dbl&gt;</th><th scope=col>&lt;dbl&gt;</th><th scope=col>&lt;dbl&gt;</th><th scope=col>&lt;dbl&gt;</th><th scope=col>&lt;dbl&gt;</th><th scope=col>&lt;dbl&gt;</th><th scope=col>&lt;dbl&gt;</th><th scope=col>&lt;dbl&gt;</th></tr>\n",
       "</thead>\n",
       "<tbody>\n",
       "\t<tr><td>3</td><td>12391207</td><td>rs6802898</td><td>T</td><td>C</td><td>-0.3019</td><td>0.0168</td><td>-0.12</td><td>0.0385</td><td>0.0024</td><td>0.018</td><td>6.4e-12</td><td>2.1e-11</td><td>4.786301e-15</td></tr>\n",
       "</tbody>\n",
       "</table>\n"
      ],
      "text/latex": [
       "A tibble: 1 × 14\n",
       "\\begin{tabular}{llllllllllllll}\n",
       " chr & position & rsid & ea & nea & beta\\_exp & beta\\_bmi & beta\\_t2d & se\\_exp & se\\_bmi & se\\_t2d & pval\\_bmi & pval\\_t2d & pval\\_exp\\\\\n",
       " <dbl> & <dbl> & <chr> & <chr> & <chr> & <dbl> & <dbl> & <dbl> & <dbl> & <dbl> & <dbl> & <dbl> & <dbl> & <dbl>\\\\\n",
       "\\hline\n",
       "\t 3 & 12391207 & rs6802898 & T & C & -0.3019 & 0.0168 & -0.12 & 0.0385 & 0.0024 & 0.018 & 6.4e-12 & 2.1e-11 & 4.786301e-15\\\\\n",
       "\\end{tabular}\n"
      ],
      "text/markdown": [
       "\n",
       "A tibble: 1 × 14\n",
       "\n",
       "| chr &lt;dbl&gt; | position &lt;dbl&gt; | rsid &lt;chr&gt; | ea &lt;chr&gt; | nea &lt;chr&gt; | beta_exp &lt;dbl&gt; | beta_bmi &lt;dbl&gt; | beta_t2d &lt;dbl&gt; | se_exp &lt;dbl&gt; | se_bmi &lt;dbl&gt; | se_t2d &lt;dbl&gt; | pval_bmi &lt;dbl&gt; | pval_t2d &lt;dbl&gt; | pval_exp &lt;dbl&gt; |\n",
       "|---|---|---|---|---|---|---|---|---|---|---|---|---|---|\n",
       "| 3 | 12391207 | rs6802898 | T | C | -0.3019 | 0.0168 | -0.12 | 0.0385 | 0.0024 | 0.018 | 6.4e-12 | 2.1e-11 | 4.786301e-15 |\n",
       "\n"
      ],
      "text/plain": [
       "  chr position rsid      ea nea beta_exp beta_bmi beta_t2d se_exp se_bmi se_t2d\n",
       "1 3   12391207 rs6802898 T  C   -0.3019  0.0168   -0.12    0.0385 0.0024 0.018 \n",
       "  pval_bmi pval_t2d pval_exp    \n",
       "1 6.4e-12  2.1e-11  4.786301e-15"
      ]
     },
     "metadata": {},
     "output_type": "display_data"
    }
   ],
   "source": [
    "lead_snp"
   ]
  },
  {
   "cell_type": "code",
   "execution_count": 61,
   "id": "9b165826-1d81-43c6-8c36-04b0c9de6787",
   "metadata": {},
   "outputs": [
    {
     "data": {
      "image/png": "[encoded data removed]",
      "text/plain": [
       "plot without title"
      ]
     },
     "metadata": {
      "image/png": {
       "height": 240,
       "width": 420
      }
     },
     "output_type": "display_data"
    }
   ],
   "source": [
    "options(repr.plot.width = 7, repr.plot.height = 4)\n",
    "locus_timp4_dat <- heidi_ins %>%\n",
    "    transmute(position, top,\n",
    "              ldcol = case_when(r2 >= 0.8 ~ \">=.8\",\n",
    "                                r2 < 0.8 & r2 >= 0.6 ~ \".6 - .8\",\n",
    "                                r2 < 0.6 & r2 >= 0.4 ~ \".4 - .6\",\n",
    "                                r2 < 0.4 & r2 >= 0.2 ~ \".2 - .4\",\n",
    "                                r2 < 0.2 ~ \"<.2\"),\n",
    "              ldcol = factor(ldcol, levels = c(\">=.8\", \".6 - .8\", \".4 - .6\", \".2 - .4\", \"<.2\")),\n",
    "              across(starts_with(\"pval_\"), ~-log10(.x)),\n",
    "              pval_bmi = pval_bmi * sign(beta_bmi),\n",
    "              pval_t2d = pval_t2d * sign(beta_t2d),\n",
    "              pval_exp = pval_exp * sign(beta_exp)) %>%\n",
    "    pivot_longer(-c(position, top, ldcol)) %>%\n",
    "    mutate(name = gsub(\"pval_\", \"\", name),\n",
    "           name = recode_factor(name, t2d = \"T2D\", exp = \"TIMP4\", bmi = \"BMI\"),\n",
    "           thresh_upper = ifelse(name == \"T2D\", NA, -log10(5e-8)),\n",
    "           thresh_lower = ifelse(name == \"TIMP4\", log10(5e-8), NA))\n",
    "locus_timp4_plot <- locus_timp4_dat %>%\n",
    "    ggplot(aes(position, value)) +\n",
    "    geom_vline(xintercept = lead_snp$position, linetype = \"dashed\", size = .1) +\n",
    "    geom_hline(yintercept = 0, na.rm = TRUE, linetype = \"dashed\", size = .1) +\n",
    "    geom_hline(aes(yintercept = thresh_upper), na.rm = TRUE, linetype = \"dashed\", size = .1) +\n",
    "    geom_hline(aes(yintercept = thresh_lower), na.rm = TRUE, linetype = \"dashed\", size = .1) +\n",
    "    geom_point(aes(color = ldcol), size = .01) +\n",
    "    geom_point(data = locus_timp4_dat %>% filter(top), \n",
    "               shape = 23, size = 1, fill = \"red\", color = \"black\") +\n",
    "    scale_color_manual(values = c(\"red\", \"orange\", \"green\", \"cyan\", \"blue\"), name = \"LD r2\") +\n",
    "    facet_wrap(~name, ncol = 1, scales = \"free_y\", strip.position = \"right\") +\n",
    "    theme_bw() +\n",
    "    theme(legend.position = \"top\") +\n",
    "    labs(x = NULL, y = \"-log\\u2081\\u2080p \\u00b7 sign(\\u03b2)\")\n",
    "locus_timp4_plot"
   ]
  },
  {
   "cell_type": "code",
   "execution_count": 28,
   "id": "34e49784-93e0-41b6-b82c-e7eb953204ab",
   "metadata": {},
   "outputs": [
    {
     "data": {
      "text/html": [
       "<style>\n",
       ".list-inline {list-style: none; margin:0; padding: 0}\n",
       ".list-inline>li {display: inline-block}\n",
       ".list-inline>li:not(:last-child)::after {content: \"\\00b7\"; padding: 0 .5ex}\n",
       "</style>\n",
       "<ol class=list-inline><li>11891529</li><li>12884957</li></ol>\n"
      ],
      "text/latex": [
       "\\begin{enumerate*}\n",
       "\\item 11891529\n",
       "\\item 12884957\n",
       "\\end{enumerate*}\n"
      ],
      "text/markdown": [
       "1. 11891529\n",
       "2. 12884957\n",
       "\n",
       "\n"
      ],
      "text/plain": [
       "[1] 11891529 12884957"
      ]
     },
     "metadata": {},
     "output_type": "display_data"
    }
   ],
   "source": [
    "lims_locus <- ggplot_build(locus_timp4_plot)$layout$panel_scales_x[[1]]$range$range\n",
    "lims_locus"
   ]
  },
  {
   "cell_type": "code",
   "execution_count": 29,
   "id": "59634f38-6d29-44ad-a1d7-88628299e20d",
   "metadata": {},
   "outputs": [],
   "source": [
    "options(repr.plot.width = 7, repr.plot.height = 4)\n",
    "gene_track_dat <- gene_regions %>%\n",
    "    filter(chr == 3, end > lims_locus[1], start < lims_locus[2]) %>%\n",
    "    mutate(start = ifelse(start < lims_locus[1], lims_locus[1], start),\n",
    "           end = ifelse(end > lims_locus[2], lims_locus[2], end),\n",
    "           xstart = ifelse(strand == \"+\", start, end),\n",
    "           xend = ifelse(strand == \"+\", end, start))"
   ]
  },
  {
   "cell_type": "code",
   "execution_count": 30,
   "id": "c02cfcc8-cfbc-448e-a0d0-43dd6120171f",
   "metadata": {},
   "outputs": [
    {
     "data": {
      "text/html": [
       "<table class=\"dataframe\">\n",
       "<caption>A data.frame: 29 × 8</caption>\n",
       "<thead>\n",
       "\t<tr><th scope=col>chr</th><th scope=col>gene_name</th><th scope=col>start</th><th scope=col>end</th><th scope=col>strand</th><th scope=col>gene_type</th><th scope=col>xstart</th><th scope=col>xend</th></tr>\n",
       "\t<tr><th scope=col>&lt;dbl&gt;</th><th scope=col>&lt;chr&gt;</th><th scope=col>&lt;int&gt;</th><th scope=col>&lt;dbl&gt;</th><th scope=col>&lt;chr&gt;</th><th scope=col>&lt;chr&gt;</th><th scope=col>&lt;dbl&gt;</th><th scope=col>&lt;dbl&gt;</th></tr>\n",
       "</thead>\n",
       "<tbody>\n",
       "\t<tr><td>3</td><td>FANCD2P2    </td><td>11901148</td><td>11932646</td><td>+</td><td>pseudogene          </td><td>11901148</td><td>11932646</td></tr>\n",
       "\t<tr><td>3</td><td>CYCSP12     </td><td>11920304</td><td>11920603</td><td>-</td><td>pseudogene          </td><td>11920603</td><td>11920304</td></tr>\n",
       "\t<tr><td>3</td><td>NUP210P2    </td><td>11941485</td><td>11942719</td><td>+</td><td>pseudogene          </td><td>11941485</td><td>11942719</td></tr>\n",
       "\t<tr><td>3</td><td>MARK2P14    </td><td>11948001</td><td>11953787</td><td>+</td><td>pseudogene          </td><td>11948001</td><td>11953787</td></tr>\n",
       "\t<tr><td>3</td><td>AC090958.5  </td><td>11951108</td><td>11952239</td><td>-</td><td>pseudogene          </td><td>11952239</td><td>11951108</td></tr>\n",
       "\t<tr><td>3</td><td>RN7SL147P   </td><td>11994264</td><td>11994559</td><td>-</td><td>misc_RNA            </td><td>11994559</td><td>11994264</td></tr>\n",
       "\t<tr><td>3</td><td>SYN2        </td><td>12045876</td><td>12232900</td><td>+</td><td>processed_transcript</td><td>12045876</td><td>12232900</td></tr>\n",
       "\t<tr><td>3</td><td>ACTG1P12    </td><td>12111695</td><td>12112860</td><td>+</td><td>pseudogene          </td><td>12111695</td><td>12112860</td></tr>\n",
       "\t<tr><td>3</td><td>AC026166.1  </td><td>12112538</td><td>12112621</td><td>+</td><td>miRNA               </td><td>12112538</td><td>12112621</td></tr>\n",
       "\t<tr><td>3</td><td>TIMP4       </td><td>12194551</td><td>12200851</td><td>-</td><td>protein_coding      </td><td>12200851</td><td>12194551</td></tr>\n",
       "\t<tr><td>3</td><td>AC026166.2  </td><td>12206799</td><td>12207142</td><td>-</td><td>pseudogene          </td><td>12207142</td><td>12206799</td></tr>\n",
       "\t<tr><td>3</td><td>GSTM5P1     </td><td>12299300</td><td>12299959</td><td>-</td><td>pseudogene          </td><td>12299959</td><td>12299300</td></tr>\n",
       "\t<tr><td>3</td><td>PPARG       </td><td>12328867</td><td>12475855</td><td>+</td><td>protein_coding      </td><td>12328867</td><td>12475855</td></tr>\n",
       "\t<tr><td>3</td><td>AC091492.2  </td><td>12369502</td><td>12369773</td><td>+</td><td>pseudogene          </td><td>12369502</td><td>12369773</td></tr>\n",
       "\t<tr><td>3</td><td>TSEN2       </td><td>12525931</td><td>12581122</td><td>+</td><td>protein_coding      </td><td>12525931</td><td>12581122</td></tr>\n",
       "\t<tr><td>3</td><td>RNU6-404P   </td><td>12543122</td><td>12543203</td><td>-</td><td>snRNA               </td><td>12543203</td><td>12543122</td></tr>\n",
       "\t<tr><td>3</td><td>RNA5SP123   </td><td>12552594</td><td>12552712</td><td>-</td><td>rRNA                </td><td>12552712</td><td>12552594</td></tr>\n",
       "\t<tr><td>3</td><td>RNU6-377P   </td><td>12556205</td><td>12556306</td><td>+</td><td>snRNA               </td><td>12556205</td><td>12556306</td></tr>\n",
       "\t<tr><td>3</td><td>C3orf83     </td><td>12556433</td><td>12602558</td><td>-</td><td>protein_coding      </td><td>12602558</td><td>12556433</td></tr>\n",
       "\t<tr><td>3</td><td>MKRN2       </td><td>12598513</td><td>12625212</td><td>+</td><td>protein_coding      </td><td>12598513</td><td>12625212</td></tr>\n",
       "\t<tr><td>3</td><td>RAF1        </td><td>12625100</td><td>12705725</td><td>-</td><td>protein_coding      </td><td>12705725</td><td>12625100</td></tr>\n",
       "\t<tr><td>3</td><td>snoU13      </td><td>12674233</td><td>12674333</td><td>+</td><td>snoRNA              </td><td>12674233</td><td>12674333</td></tr>\n",
       "\t<tr><td>3</td><td>CRIP1P1     </td><td>12715198</td><td>12715382</td><td>+</td><td>pseudogene          </td><td>12715198</td><td>12715382</td></tr>\n",
       "\t<tr><td>3</td><td>TMEM40      </td><td>12775024</td><td>12810956</td><td>-</td><td>protein_coding      </td><td>12810956</td><td>12775024</td></tr>\n",
       "\t<tr><td>3</td><td>KRT18P17    </td><td>12828892</td><td>12830170</td><td>-</td><td>pseudogene          </td><td>12830170</td><td>12828892</td></tr>\n",
       "\t<tr><td>3</td><td>CAND2       </td><td>12837971</td><td>12884957</td><td>+</td><td>protein_coding      </td><td>12837971</td><td>12884957</td></tr>\n",
       "\t<tr><td>3</td><td>RP11-767C1.2</td><td>12873718</td><td>12874227</td><td>-</td><td>antisense           </td><td>12874227</td><td>12873718</td></tr>\n",
       "\t<tr><td>3</td><td>RPL32       </td><td>12875984</td><td>12883087</td><td>-</td><td>protein_coding      </td><td>12883087</td><td>12875984</td></tr>\n",
       "\t<tr><td>3</td><td>SNORA7A     </td><td>12881811</td><td>12881949</td><td>-</td><td>snoRNA              </td><td>12881949</td><td>12881811</td></tr>\n",
       "</tbody>\n",
       "</table>\n"
      ],
      "text/latex": [
       "A data.frame: 29 × 8\n",
       "\\begin{tabular}{llllllll}\n",
       " chr & gene\\_name & start & end & strand & gene\\_type & xstart & xend\\\\\n",
       " <dbl> & <chr> & <int> & <dbl> & <chr> & <chr> & <dbl> & <dbl>\\\\\n",
       "\\hline\n",
       "\t 3 & FANCD2P2     & 11901148 & 11932646 & + & pseudogene           & 11901148 & 11932646\\\\\n",
       "\t 3 & CYCSP12      & 11920304 & 11920603 & - & pseudogene           & 11920603 & 11920304\\\\\n",
       "\t 3 & NUP210P2     & 11941485 & 11942719 & + & pseudogene           & 11941485 & 11942719\\\\\n",
       "\t 3 & MARK2P14     & 11948001 & 11953787 & + & pseudogene           & 11948001 & 11953787\\\\\n",
       "\t 3 & AC090958.5   & 11951108 & 11952239 & - & pseudogene           & 11952239 & 11951108\\\\\n",
       "\t 3 & RN7SL147P    & 11994264 & 11994559 & - & misc\\_RNA             & 11994559 & 11994264\\\\\n",
       "\t 3 & SYN2         & 12045876 & 12232900 & + & processed\\_transcript & 12045876 & 12232900\\\\\n",
       "\t 3 & ACTG1P12     & 12111695 & 12112860 & + & pseudogene           & 12111695 & 12112860\\\\\n",
       "\t 3 & AC026166.1   & 12112538 & 12112621 & + & miRNA                & 12112538 & 12112621\\\\\n",
       "\t 3 & TIMP4        & 12194551 & 12200851 & - & protein\\_coding       & 12200851 & 12194551\\\\\n",
       "\t 3 & AC026166.2   & 12206799 & 12207142 & - & pseudogene           & 12207142 & 12206799\\\\\n",
       "\t 3 & GSTM5P1      & 12299300 & 12299959 & - & pseudogene           & 12299959 & 12299300\\\\\n",
       "\t 3 & PPARG        & 12328867 & 12475855 & + & protein\\_coding       & 12328867 & 12475855\\\\\n",
       "\t 3 & AC091492.2   & 12369502 & 12369773 & + & pseudogene           & 12369502 & 12369773\\\\\n",
       "\t 3 & TSEN2        & 12525931 & 12581122 & + & protein\\_coding       & 12525931 & 12581122\\\\\n",
       "\t 3 & RNU6-404P    & 12543122 & 12543203 & - & snRNA                & 12543203 & 12543122\\\\\n",
       "\t 3 & RNA5SP123    & 12552594 & 12552712 & - & rRNA                 & 12552712 & 12552594\\\\\n",
       "\t 3 & RNU6-377P    & 12556205 & 12556306 & + & snRNA                & 12556205 & 12556306\\\\\n",
       "\t 3 & C3orf83      & 12556433 & 12602558 & - & protein\\_coding       & 12602558 & 12556433\\\\\n",
       "\t 3 & MKRN2        & 12598513 & 12625212 & + & protein\\_coding       & 12598513 & 12625212\\\\\n",
       "\t 3 & RAF1         & 12625100 & 12705725 & - & protein\\_coding       & 12705725 & 12625100\\\\\n",
       "\t 3 & snoU13       & 12674233 & 12674333 & + & snoRNA               & 12674233 & 12674333\\\\\n",
       "\t 3 & CRIP1P1      & 12715198 & 12715382 & + & pseudogene           & 12715198 & 12715382\\\\\n",
       "\t 3 & TMEM40       & 12775024 & 12810956 & - & protein\\_coding       & 12810956 & 12775024\\\\\n",
       "\t 3 & KRT18P17     & 12828892 & 12830170 & - & pseudogene           & 12830170 & 12828892\\\\\n",
       "\t 3 & CAND2        & 12837971 & 12884957 & + & protein\\_coding       & 12837971 & 12884957\\\\\n",
       "\t 3 & RP11-767C1.2 & 12873718 & 12874227 & - & antisense            & 12874227 & 12873718\\\\\n",
       "\t 3 & RPL32        & 12875984 & 12883087 & - & protein\\_coding       & 12883087 & 12875984\\\\\n",
       "\t 3 & SNORA7A      & 12881811 & 12881949 & - & snoRNA               & 12881949 & 12881811\\\\\n",
       "\\end{tabular}\n"
      ],
      "text/markdown": [
       "\n",
       "A data.frame: 29 × 8\n",
       "\n",
       "| chr &lt;dbl&gt; | gene_name &lt;chr&gt; | start &lt;int&gt; | end &lt;dbl&gt; | strand &lt;chr&gt; | gene_type &lt;chr&gt; | xstart &lt;dbl&gt; | xend &lt;dbl&gt; |\n",
       "|---|---|---|---|---|---|---|---|\n",
       "| 3 | FANCD2P2     | 11901148 | 11932646 | + | pseudogene           | 11901148 | 11932646 |\n",
       "| 3 | CYCSP12      | 11920304 | 11920603 | - | pseudogene           | 11920603 | 11920304 |\n",
       "| 3 | NUP210P2     | 11941485 | 11942719 | + | pseudogene           | 11941485 | 11942719 |\n",
       "| 3 | MARK2P14     | 11948001 | 11953787 | + | pseudogene           | 11948001 | 11953787 |\n",
       "| 3 | AC090958.5   | 11951108 | 11952239 | - | pseudogene           | 11952239 | 11951108 |\n",
       "| 3 | RN7SL147P    | 11994264 | 11994559 | - | misc_RNA             | 11994559 | 11994264 |\n",
       "| 3 | SYN2         | 12045876 | 12232900 | + | processed_transcript | 12045876 | 12232900 |\n",
       "| 3 | ACTG1P12     | 12111695 | 12112860 | + | pseudogene           | 12111695 | 12112860 |\n",
       "| 3 | AC026166.1   | 12112538 | 12112621 | + | miRNA                | 12112538 | 12112621 |\n",
       "| 3 | TIMP4        | 12194551 | 12200851 | - | protein_coding       | 12200851 | 12194551 |\n",
       "| 3 | AC026166.2   | 12206799 | 12207142 | - | pseudogene           | 12207142 | 12206799 |\n",
       "| 3 | GSTM5P1      | 12299300 | 12299959 | - | pseudogene           | 12299959 | 12299300 |\n",
       "| 3 | PPARG        | 12328867 | 12475855 | + | protein_coding       | 12328867 | 12475855 |\n",
       "| 3 | AC091492.2   | 12369502 | 12369773 | + | pseudogene           | 12369502 | 12369773 |\n",
       "| 3 | TSEN2        | 12525931 | 12581122 | + | protein_coding       | 12525931 | 12581122 |\n",
       "| 3 | RNU6-404P    | 12543122 | 12543203 | - | snRNA                | 12543203 | 12543122 |\n",
       "| 3 | RNA5SP123    | 12552594 | 12552712 | - | rRNA                 | 12552712 | 12552594 |\n",
       "| 3 | RNU6-377P    | 12556205 | 12556306 | + | snRNA                | 12556205 | 12556306 |\n",
       "| 3 | C3orf83      | 12556433 | 12602558 | - | protein_coding       | 12602558 | 12556433 |\n",
       "| 3 | MKRN2        | 12598513 | 12625212 | + | protein_coding       | 12598513 | 12625212 |\n",
       "| 3 | RAF1         | 12625100 | 12705725 | - | protein_coding       | 12705725 | 12625100 |\n",
       "| 3 | snoU13       | 12674233 | 12674333 | + | snoRNA               | 12674233 | 12674333 |\n",
       "| 3 | CRIP1P1      | 12715198 | 12715382 | + | pseudogene           | 12715198 | 12715382 |\n",
       "| 3 | TMEM40       | 12775024 | 12810956 | - | protein_coding       | 12810956 | 12775024 |\n",
       "| 3 | KRT18P17     | 12828892 | 12830170 | - | pseudogene           | 12830170 | 12828892 |\n",
       "| 3 | CAND2        | 12837971 | 12884957 | + | protein_coding       | 12837971 | 12884957 |\n",
       "| 3 | RP11-767C1.2 | 12873718 | 12874227 | - | antisense            | 12874227 | 12873718 |\n",
       "| 3 | RPL32        | 12875984 | 12883087 | - | protein_coding       | 12883087 | 12875984 |\n",
       "| 3 | SNORA7A      | 12881811 | 12881949 | - | snoRNA               | 12881949 | 12881811 |\n",
       "\n"
      ],
      "text/plain": [
       "   chr gene_name    start    end      strand gene_type            xstart  \n",
       "1  3   FANCD2P2     11901148 11932646 +      pseudogene           11901148\n",
       "2  3   CYCSP12      11920304 11920603 -      pseudogene           11920603\n",
       "3  3   NUP210P2     11941485 11942719 +      pseudogene           11941485\n",
       "4  3   MARK2P14     11948001 11953787 +      pseudogene           11948001\n",
       "5  3   AC090958.5   11951108 11952239 -      pseudogene           11952239\n",
       "6  3   RN7SL147P    11994264 11994559 -      misc_RNA             11994559\n",
       "7  3   SYN2         12045876 12232900 +      processed_transcript 12045876\n",
       "8  3   ACTG1P12     12111695 12112860 +      pseudogene           12111695\n",
       "9  3   AC026166.1   12112538 12112621 +      miRNA                12112538\n",
       "10 3   TIMP4        12194551 12200851 -      protein_coding       12200851\n",
       "11 3   AC026166.2   12206799 12207142 -      pseudogene           12207142\n",
       "12 3   GSTM5P1      12299300 12299959 -      pseudogene           12299959\n",
       "13 3   PPARG        12328867 12475855 +      protein_coding       12328867\n",
       "14 3   AC091492.2   12369502 12369773 +      pseudogene           12369502\n",
       "15 3   TSEN2        12525931 12581122 +      protein_coding       12525931\n",
       "16 3   RNU6-404P    12543122 12543203 -      snRNA                12543203\n",
       "17 3   RNA5SP123    12552594 12552712 -      rRNA                 12552712\n",
       "18 3   RNU6-377P    12556205 12556306 +      snRNA                12556205\n",
       "19 3   C3orf83      12556433 12602558 -      protein_coding       12602558\n",
       "20 3   MKRN2        12598513 12625212 +      protein_coding       12598513\n",
       "21 3   RAF1         12625100 12705725 -      protein_coding       12705725\n",
       "22 3   snoU13       12674233 12674333 +      snoRNA               12674233\n",
       "23 3   CRIP1P1      12715198 12715382 +      pseudogene           12715198\n",
       "24 3   TMEM40       12775024 12810956 -      protein_coding       12810956\n",
       "25 3   KRT18P17     12828892 12830170 -      pseudogene           12830170\n",
       "26 3   CAND2        12837971 12884957 +      protein_coding       12837971\n",
       "27 3   RP11-767C1.2 12873718 12874227 -      antisense            12874227\n",
       "28 3   RPL32        12875984 12883087 -      protein_coding       12883087\n",
       "29 3   SNORA7A      12881811 12881949 -      snoRNA               12881949\n",
       "   xend    \n",
       "1  11932646\n",
       "2  11920304\n",
       "3  11942719\n",
       "4  11953787\n",
       "5  11951108\n",
       "6  11994264\n",
       "7  12232900\n",
       "8  12112860\n",
       "9  12112621\n",
       "10 12194551\n",
       "11 12206799\n",
       "12 12299300\n",
       "13 12475855\n",
       "14 12369773\n",
       "15 12581122\n",
       "16 12543122\n",
       "17 12552594\n",
       "18 12556306\n",
       "19 12556433\n",
       "20 12625212\n",
       "21 12625100\n",
       "22 12674333\n",
       "23 12715382\n",
       "24 12775024\n",
       "25 12828892\n",
       "26 12884957\n",
       "27 12873718\n",
       "28 12875984\n",
       "29 12881811"
      ]
     },
     "metadata": {},
     "output_type": "display_data"
    }
   ],
   "source": [
    "gene_track_dat"
   ]
  },
  {
   "cell_type": "code",
   "execution_count": 49,
   "id": "5315aaf4-dec7-4194-bcda-bbbc28ee217b",
   "metadata": {},
   "outputs": [
    {
     "data": {
      "image/png": "[encoded data removed]",
      "text/plain": [
       "plot without title"
      ]
     },
     "metadata": {
      "image/png": {
       "height": 480,
       "width": 600
      }
     },
     "output_type": "display_data"
    }
   ],
   "source": [
    "gene_track_plot <- gene_track_dat %>%\n",
    "    filter(gene_type %in% c(\"protein_coding\", \"processed_transcript\")) %>%\n",
    "    ggplot(aes(y = gene_name, x = xstart, xend = xend,\n",
    "               yend = gene_name, label = gene_name)) +\n",
    "    geom_vline(xintercept = lead_snp$position,\n",
    "               linetype = \"dashed\", alpha = .5, size = .1) +\n",
    "    geom_segment(arrow = arrow(length = unit(.05, \"in\")), alpha = .5, size = .1) +\n",
    "    geom_text(aes(x = (xend + xstart) / 2, y = gene_name,\n",
    "                  size = ifelse(gene_name == \"TIMP4\", 2, 1),\n",
    "                  fontface = ifelse(gene_name == \"TIMP4\", \"bold\", \"plain\")),\n",
    "              vjust = -1.1) +\n",
    "    scale_size_identity() +\n",
    "    labs(x = paste(\"Position - Chromosome 3\"), y = NULL) +\n",
    "    coord_cartesian(clip = \"off\") +\n",
    "    theme_light() +\n",
    "    theme(axis.text.y = element_blank(),\n",
    "          axis.ticks.y = element_blank(),\n",
    "          panel.border = element_blank(),\n",
    "          panel.grid.major.y = element_blank(),\n",
    "          panel.grid.minor.y = element_blank(),\n",
    "          axis.line.x.bottom = element_line(colour = \"black\"))\n",
    "gene_track_plot"
   ]
  },
  {
   "cell_type": "code",
   "execution_count": 63,
   "id": "543adb3d-50d8-4cd5-8340-b1fb3e58a305",
   "metadata": {},
   "outputs": [
    {
     "data": {
      "image/png": "[encoded data removed]",
      "text/plain": [
       "plot without title"
      ]
     },
     "metadata": {
      "image/png": {
       "height": 480,
       "width": 600
      }
     },
     "output_type": "display_data"
    }
   ],
   "source": [
    "options(repr.plot.height = 8, repr.plot.width = 10)\n",
    "timp4_plot <- patchwork::wrap_plots(locus_timp4_plot, \n",
    "                      gene_track_plot, \n",
    "                      ncol = 1, guides = \"collect\",\n",
    "                      heights = c(.7, .3)) &\n",
    "    theme(legend.position = \"top\") &\n",
    "    scale_x_continuous(labels = scales::comma, limits = lims_locus)\n",
    "save(timp4_plot, file = \"../plots/timp4_plot.RData\")\n",
    "timp4_plot"
   ]
  }
 ],
 "metadata": {
  "citation-manager": {
   "items": {}
  },
  "kernelspec": {
   "display_name": "R",
   "language": "R",
   "name": "ir"
  },
  "language_info": {
   "codemirror_mode": "r",
   "file_extension": ".r",
   "mimetype": "text/x-r-source",
   "name": "R",
   "pygments_lexer": "r",
   "version": "4.1.2"
  }
 },
 "nbformat": 4,
 "nbformat_minor": 5
}
