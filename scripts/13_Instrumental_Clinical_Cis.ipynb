{
 "cells": [
  {
   "cell_type": "markdown",
   "id": "5c39371e-ecf7-4046-9083-d416b601c526",
   "metadata": {},
   "source": [
    "# Instrumental analysis requiring instruments in *cis*"
   ]
  },
  {
   "cell_type": "markdown",
   "id": "6a374816-2a9d-40a3-807d-9f799b406e83",
   "metadata": {},
   "source": [
    "## Libraries"
   ]
  },
  {
   "cell_type": "code",
   "execution_count": 1,
   "id": "8a12f6e7-60ab-4c08-9193-eb568a4682f4",
   "metadata": {},
   "outputs": [],
   "source": [
    "library(readr)\n",
    "library(dplyr, warn.conflicts = FALSE)\n",
    "library(tidyr, warn.conflicts = FALSE)\n",
    "library(purrr)\n",
    "library(ggplot2)"
   ]
  },
  {
   "cell_type": "markdown",
   "id": "0214ac0b-0874-4720-9682-907fe9d31f03",
   "metadata": {},
   "source": [
    "## Reference panel"
   ]
  },
  {
   "cell_type": "code",
   "execution_count": 2,
   "id": "051dfb5f-44cf-4e89-aef4-c8dbff3a6444",
   "metadata": {},
   "outputs": [],
   "source": [
    "freq_1kg <- read_tsv(\"~/projects/DVA/Data/ReferenceData/1kg.afreq\",\n",
    "                     skip = 1,\n",
    "                     col_names = c(\"chr\", \"position\", \"rsid\", \"nea_1kg_plus\", \"ea_1kg_plus\", \"eaf_1kg\"),\n",
    "                     col_types = \"nncccn\")"
   ]
  },
  {
   "cell_type": "code",
   "execution_count": 3,
   "id": "42a236f8-2888-41b3-b0d8-fdd0e5382b9d",
   "metadata": {},
   "outputs": [
    {
     "data": {
      "text/html": [
       "<table class=\"dataframe\">\n",
       "<caption>A tibble: 6 × 6</caption>\n",
       "<thead>\n",
       "\t<tr><th scope=col>chr</th><th scope=col>position</th><th scope=col>rsid</th><th scope=col>nea_1kg_plus</th><th scope=col>ea_1kg_plus</th><th scope=col>eaf_1kg</th></tr>\n",
       "\t<tr><th scope=col>&lt;dbl&gt;</th><th scope=col>&lt;dbl&gt;</th><th scope=col>&lt;chr&gt;</th><th scope=col>&lt;chr&gt;</th><th scope=col>&lt;chr&gt;</th><th scope=col>&lt;dbl&gt;</th></tr>\n",
       "</thead>\n",
       "<tbody>\n",
       "\t<tr><td>1</td><td>11008</td><td>rs575272151</td><td>C</td><td>G</td><td>0.0884692</td></tr>\n",
       "\t<tr><td>1</td><td>11012</td><td>rs544419019</td><td>C</td><td>G</td><td>0.0884692</td></tr>\n",
       "\t<tr><td>1</td><td>13110</td><td>rs540538026</td><td>G</td><td>A</td><td>0.0566600</td></tr>\n",
       "\t<tr><td>1</td><td>13116</td><td>rs62635286 </td><td>T</td><td>G</td><td>0.1868790</td></tr>\n",
       "\t<tr><td>1</td><td>13118</td><td>rs200579949</td><td>A</td><td>G</td><td>0.1868790</td></tr>\n",
       "\t<tr><td>1</td><td>13273</td><td>rs531730856</td><td>G</td><td>C</td><td>0.1471170</td></tr>\n",
       "</tbody>\n",
       "</table>\n"
      ],
      "text/latex": [
       "A tibble: 6 × 6\n",
       "\\begin{tabular}{llllll}\n",
       " chr & position & rsid & nea\\_1kg\\_plus & ea\\_1kg\\_plus & eaf\\_1kg\\\\\n",
       " <dbl> & <dbl> & <chr> & <chr> & <chr> & <dbl>\\\\\n",
       "\\hline\n",
       "\t 1 & 11008 & rs575272151 & C & G & 0.0884692\\\\\n",
       "\t 1 & 11012 & rs544419019 & C & G & 0.0884692\\\\\n",
       "\t 1 & 13110 & rs540538026 & G & A & 0.0566600\\\\\n",
       "\t 1 & 13116 & rs62635286  & T & G & 0.1868790\\\\\n",
       "\t 1 & 13118 & rs200579949 & A & G & 0.1868790\\\\\n",
       "\t 1 & 13273 & rs531730856 & G & C & 0.1471170\\\\\n",
       "\\end{tabular}\n"
      ],
      "text/markdown": [
       "\n",
       "A tibble: 6 × 6\n",
       "\n",
       "| chr &lt;dbl&gt; | position &lt;dbl&gt; | rsid &lt;chr&gt; | nea_1kg_plus &lt;chr&gt; | ea_1kg_plus &lt;chr&gt; | eaf_1kg &lt;dbl&gt; |\n",
       "|---|---|---|---|---|---|\n",
       "| 1 | 11008 | rs575272151 | C | G | 0.0884692 |\n",
       "| 1 | 11012 | rs544419019 | C | G | 0.0884692 |\n",
       "| 1 | 13110 | rs540538026 | G | A | 0.0566600 |\n",
       "| 1 | 13116 | rs62635286  | T | G | 0.1868790 |\n",
       "| 1 | 13118 | rs200579949 | A | G | 0.1868790 |\n",
       "| 1 | 13273 | rs531730856 | G | C | 0.1471170 |\n",
       "\n"
      ],
      "text/plain": [
       "  chr position rsid        nea_1kg_plus ea_1kg_plus eaf_1kg  \n",
       "1 1   11008    rs575272151 C            G           0.0884692\n",
       "2 1   11012    rs544419019 C            G           0.0884692\n",
       "3 1   13110    rs540538026 G            A           0.0566600\n",
       "4 1   13116    rs62635286  T            G           0.1868790\n",
       "5 1   13118    rs200579949 A            G           0.1868790\n",
       "6 1   13273    rs531730856 G            C           0.1471170"
      ]
     },
     "metadata": {},
     "output_type": "display_data"
    }
   ],
   "source": [
    "head(freq_1kg)"
   ]
  },
  {
   "cell_type": "markdown",
   "id": "f0c0e7c6-8e0c-4613-9cba-da9ca607c021",
   "metadata": {},
   "source": [
    "## Outcome data - T2D"
   ]
  },
  {
   "cell_type": "code",
   "execution_count": 4,
   "id": "189b8a79-6142-476f-8877-bdd7fdc041b3",
   "metadata": {},
   "outputs": [
    {
     "data": {
      "text/html": [
       "<table class=\"dataframe\">\n",
       "<caption>A tibble: 6 × 8</caption>\n",
       "<thead>\n",
       "\t<tr><th scope=col>chr</th><th scope=col>position</th><th scope=col>ea_t2d</th><th scope=col>nea_t2d</th><th scope=col>beta_t2d</th><th scope=col>se_t2d</th><th scope=col>p_t2d</th><th scope=col>n_t2d</th></tr>\n",
       "\t<tr><th scope=col>&lt;dbl&gt;</th><th scope=col>&lt;dbl&gt;</th><th scope=col>&lt;chr&gt;</th><th scope=col>&lt;chr&gt;</th><th scope=col>&lt;dbl&gt;</th><th scope=col>&lt;dbl&gt;</th><th scope=col>&lt;dbl&gt;</th><th scope=col>&lt;dbl&gt;</th></tr>\n",
       "</thead>\n",
       "<tbody>\n",
       "\t<tr><td> 5</td><td> 85928892</td><td>T</td><td>C</td><td>-0.0130</td><td>0.026</td><td>0.61</td><td>158186</td></tr>\n",
       "\t<tr><td>11</td><td>107819621</td><td>A</td><td>C</td><td>-0.0710</td><td>0.170</td><td>0.67</td><td>124696</td></tr>\n",
       "\t<tr><td>10</td><td>128341232</td><td>T</td><td>C</td><td> 0.0140</td><td>0.012</td><td>0.24</td><td>158186</td></tr>\n",
       "\t<tr><td> 1</td><td>209652100</td><td>T</td><td>C</td><td> 0.1500</td><td>0.130</td><td>0.25</td><td>131539</td></tr>\n",
       "\t<tr><td>18</td><td> 51112281</td><td>T</td><td>C</td><td>-0.0085</td><td>0.013</td><td>0.53</td><td>158184</td></tr>\n",
       "\t<tr><td> 4</td><td> 55643311</td><td>T</td><td>C</td><td>-0.0060</td><td>0.016</td><td>0.71</td><td>158185</td></tr>\n",
       "</tbody>\n",
       "</table>\n"
      ],
      "text/latex": [
       "A tibble: 6 × 8\n",
       "\\begin{tabular}{llllllll}\n",
       " chr & position & ea\\_t2d & nea\\_t2d & beta\\_t2d & se\\_t2d & p\\_t2d & n\\_t2d\\\\\n",
       " <dbl> & <dbl> & <chr> & <chr> & <dbl> & <dbl> & <dbl> & <dbl>\\\\\n",
       "\\hline\n",
       "\t  5 &  85928892 & T & C & -0.0130 & 0.026 & 0.61 & 158186\\\\\n",
       "\t 11 & 107819621 & A & C & -0.0710 & 0.170 & 0.67 & 124696\\\\\n",
       "\t 10 & 128341232 & T & C &  0.0140 & 0.012 & 0.24 & 158186\\\\\n",
       "\t  1 & 209652100 & T & C &  0.1500 & 0.130 & 0.25 & 131539\\\\\n",
       "\t 18 &  51112281 & T & C & -0.0085 & 0.013 & 0.53 & 158184\\\\\n",
       "\t  4 &  55643311 & T & C & -0.0060 & 0.016 & 0.71 & 158185\\\\\n",
       "\\end{tabular}\n"
      ],
      "text/markdown": [
       "\n",
       "A tibble: 6 × 8\n",
       "\n",
       "| chr &lt;dbl&gt; | position &lt;dbl&gt; | ea_t2d &lt;chr&gt; | nea_t2d &lt;chr&gt; | beta_t2d &lt;dbl&gt; | se_t2d &lt;dbl&gt; | p_t2d &lt;dbl&gt; | n_t2d &lt;dbl&gt; |\n",
       "|---|---|---|---|---|---|---|---|\n",
       "|  5 |  85928892 | T | C | -0.0130 | 0.026 | 0.61 | 158186 |\n",
       "| 11 | 107819621 | A | C | -0.0710 | 0.170 | 0.67 | 124696 |\n",
       "| 10 | 128341232 | T | C |  0.0140 | 0.012 | 0.24 | 158186 |\n",
       "|  1 | 209652100 | T | C |  0.1500 | 0.130 | 0.25 | 131539 |\n",
       "| 18 |  51112281 | T | C | -0.0085 | 0.013 | 0.53 | 158184 |\n",
       "|  4 |  55643311 | T | C | -0.0060 | 0.016 | 0.71 | 158185 |\n",
       "\n"
      ],
      "text/plain": [
       "  chr position  ea_t2d nea_t2d beta_t2d se_t2d p_t2d n_t2d \n",
       "1  5   85928892 T      C       -0.0130  0.026  0.61  158186\n",
       "2 11  107819621 A      C       -0.0710  0.170  0.67  124696\n",
       "3 10  128341232 T      C        0.0140  0.012  0.24  158186\n",
       "4  1  209652100 T      C        0.1500  0.130  0.25  131539\n",
       "5 18   51112281 T      C       -0.0085  0.013  0.53  158184\n",
       "6  4   55643311 T      C       -0.0060  0.016  0.71  158185"
      ]
     },
     "metadata": {},
     "output_type": "display_data"
    }
   ],
   "source": [
    "outcome_data <- read_tsv(\n",
    "    pipe(\"sed 's/:/\\t/g' ~/projects/DVA/Data/GWAS_sumstats/t2d_diagram.txt\"),\n",
    "    skip = 1,\n",
    "    col_names = c(\"chr\", \"position\", \n",
    "                  paste(c(\"ea\", \"nea\", \"beta\", \"se\", \"p\", \"n\"), \"t2d\", sep = \"_\")),\n",
    "    col_types = \"nnccnnnn\"\n",
    ")\n",
    "head(outcome_data)"
   ]
  },
  {
   "cell_type": "markdown",
   "id": "c89260b2-9120-4e9e-ac7a-95b836cdc4cd",
   "metadata": {},
   "source": [
    "Harmonizing outcome data to reference panel:"
   ]
  },
  {
   "cell_type": "code",
   "execution_count": 5,
   "id": "b73c2b6e-4467-4e14-91fe-02e383c86b5c",
   "metadata": {},
   "outputs": [
    {
     "data": {
      "text/html": [
       "<table class=\"dataframe\">\n",
       "<caption>A tibble: 6 × 10</caption>\n",
       "<thead>\n",
       "\t<tr><th scope=col>chr</th><th scope=col>position</th><th scope=col>ea_t2d</th><th scope=col>nea_t2d</th><th scope=col>beta_t2d</th><th scope=col>se_t2d</th><th scope=col>p_t2d</th><th scope=col>n_t2d</th><th scope=col>rsid</th><th scope=col>maf_1kg</th></tr>\n",
       "\t<tr><th scope=col>&lt;dbl&gt;</th><th scope=col>&lt;dbl&gt;</th><th scope=col>&lt;chr&gt;</th><th scope=col>&lt;chr&gt;</th><th scope=col>&lt;dbl&gt;</th><th scope=col>&lt;dbl&gt;</th><th scope=col>&lt;dbl&gt;</th><th scope=col>&lt;dbl&gt;</th><th scope=col>&lt;chr&gt;</th><th scope=col>&lt;dbl&gt;</th></tr>\n",
       "</thead>\n",
       "<tbody>\n",
       "\t<tr><td> 5</td><td> 85928892</td><td>T</td><td>C</td><td>-0.0130</td><td>0.026</td><td>0.61</td><td>158186</td><td>rs113534962</td><td>0.0626243</td></tr>\n",
       "\t<tr><td>10</td><td>128341232</td><td>T</td><td>C</td><td> 0.0140</td><td>0.012</td><td>0.24</td><td>158186</td><td>rs2366866  </td><td>0.4592450</td></tr>\n",
       "\t<tr><td>18</td><td> 51112281</td><td>T</td><td>C</td><td>-0.0085</td><td>0.013</td><td>0.53</td><td>158184</td><td>rs62099898 </td><td>0.2624250</td></tr>\n",
       "\t<tr><td> 4</td><td> 55643311</td><td>T</td><td>C</td><td>-0.0060</td><td>0.016</td><td>0.71</td><td>158185</td><td>rs11725240 </td><td>0.1640160</td></tr>\n",
       "\t<tr><td> 1</td><td>  4429872</td><td>T</td><td>G</td><td>-0.0390</td><td>0.029</td><td>0.17</td><td>158184</td><td>rs72631092 </td><td>0.0497018</td></tr>\n",
       "\t<tr><td> 5</td><td> 58252088</td><td>A</td><td>C</td><td>-0.0080</td><td>0.016</td><td>0.62</td><td>158186</td><td>rs10069993 </td><td>0.1590460</td></tr>\n",
       "</tbody>\n",
       "</table>\n"
      ],
      "text/latex": [
       "A tibble: 6 × 10\n",
       "\\begin{tabular}{llllllllll}\n",
       " chr & position & ea\\_t2d & nea\\_t2d & beta\\_t2d & se\\_t2d & p\\_t2d & n\\_t2d & rsid & maf\\_1kg\\\\\n",
       " <dbl> & <dbl> & <chr> & <chr> & <dbl> & <dbl> & <dbl> & <dbl> & <chr> & <dbl>\\\\\n",
       "\\hline\n",
       "\t  5 &  85928892 & T & C & -0.0130 & 0.026 & 0.61 & 158186 & rs113534962 & 0.0626243\\\\\n",
       "\t 10 & 128341232 & T & C &  0.0140 & 0.012 & 0.24 & 158186 & rs2366866   & 0.4592450\\\\\n",
       "\t 18 &  51112281 & T & C & -0.0085 & 0.013 & 0.53 & 158184 & rs62099898  & 0.2624250\\\\\n",
       "\t  4 &  55643311 & T & C & -0.0060 & 0.016 & 0.71 & 158185 & rs11725240  & 0.1640160\\\\\n",
       "\t  1 &   4429872 & T & G & -0.0390 & 0.029 & 0.17 & 158184 & rs72631092  & 0.0497018\\\\\n",
       "\t  5 &  58252088 & A & C & -0.0080 & 0.016 & 0.62 & 158186 & rs10069993  & 0.1590460\\\\\n",
       "\\end{tabular}\n"
      ],
      "text/markdown": [
       "\n",
       "A tibble: 6 × 10\n",
       "\n",
       "| chr &lt;dbl&gt; | position &lt;dbl&gt; | ea_t2d &lt;chr&gt; | nea_t2d &lt;chr&gt; | beta_t2d &lt;dbl&gt; | se_t2d &lt;dbl&gt; | p_t2d &lt;dbl&gt; | n_t2d &lt;dbl&gt; | rsid &lt;chr&gt; | maf_1kg &lt;dbl&gt; |\n",
       "|---|---|---|---|---|---|---|---|---|---|\n",
       "|  5 |  85928892 | T | C | -0.0130 | 0.026 | 0.61 | 158186 | rs113534962 | 0.0626243 |\n",
       "| 10 | 128341232 | T | C |  0.0140 | 0.012 | 0.24 | 158186 | rs2366866   | 0.4592450 |\n",
       "| 18 |  51112281 | T | C | -0.0085 | 0.013 | 0.53 | 158184 | rs62099898  | 0.2624250 |\n",
       "|  4 |  55643311 | T | C | -0.0060 | 0.016 | 0.71 | 158185 | rs11725240  | 0.1640160 |\n",
       "|  1 |   4429872 | T | G | -0.0390 | 0.029 | 0.17 | 158184 | rs72631092  | 0.0497018 |\n",
       "|  5 |  58252088 | A | C | -0.0080 | 0.016 | 0.62 | 158186 | rs10069993  | 0.1590460 |\n",
       "\n"
      ],
      "text/plain": [
       "  chr position  ea_t2d nea_t2d beta_t2d se_t2d p_t2d n_t2d  rsid       \n",
       "1  5   85928892 T      C       -0.0130  0.026  0.61  158186 rs113534962\n",
       "2 10  128341232 T      C        0.0140  0.012  0.24  158186 rs2366866  \n",
       "3 18   51112281 T      C       -0.0085  0.013  0.53  158184 rs62099898 \n",
       "4  4   55643311 T      C       -0.0060  0.016  0.71  158185 rs11725240 \n",
       "5  1    4429872 T      G       -0.0390  0.029  0.17  158184 rs72631092 \n",
       "6  5   58252088 A      C       -0.0080  0.016  0.62  158186 rs10069993 \n",
       "  maf_1kg  \n",
       "1 0.0626243\n",
       "2 0.4592450\n",
       "3 0.2624250\n",
       "4 0.1640160\n",
       "5 0.0497018\n",
       "6 0.1590460"
      ]
     },
     "metadata": {},
     "output_type": "display_data"
    }
   ],
   "source": [
    "outcome_data <- outcome_data %>%\n",
    "    inner_join(freq_1kg, by = c(\"chr\", \"position\")) %>%\n",
    "    mutate(\n",
    "        ea_1kg_minus = stringr::str_replace_all(ea_1kg_plus, c(\"A\" = \"t\", \"T\" = \"a\", \"C\" = \"g\", \"G\" = \"c\")),\n",
    "        ea_1kg_minus = toupper(ea_1kg_minus),\n",
    "        nea_1kg_minus = stringr::str_replace_all(nea_1kg_plus, c(\"A\" = \"t\", \"T\" = \"a\", \"C\" = \"g\", \"G\" = \"c\")),\n",
    "        nea_1kg_minus = toupper(nea_1kg_minus),\n",
    "        harmon = case_when(ea_t2d == ea_1kg_plus & nea_t2d == nea_1kg_plus ~ 1,\n",
    "                           ea_t2d == ea_1kg_minus & nea_t2d == nea_1kg_minus ~ 1,\n",
    "                           ea_t2d == nea_1kg_plus & nea_t2d == ea_1kg_plus ~ -1,\n",
    "                           ea_t2d == nea_1kg_minus & nea_t2d == ea_1kg_minus ~ -1,\n",
    "                           TRUE ~ 0)\n",
    "    ) %>%\n",
    "    filter(harmon != 0) %>%\n",
    "    select(-c(harmon, ea_1kg_plus, ea_1kg_minus, nea_1kg_plus, nea_1kg_minus)) %>%\n",
    "    # Ambiguous palindromic SNPs\n",
    "    mutate(maf_1kg = ifelse(eaf_1kg < .5, eaf_1kg, 1 - eaf_1kg),\n",
    "           palind_1 = ea_t2d %in% c(\"A\", \"T\") & nea_t2d %in% c(\"A\", \"T\"),\n",
    "           palind_2 = ea_t2d %in% c(\"C\", \"G\") & nea_t2d %in% c(\"C\", \"G\"),\n",
    "           palind_ambig = (palind_1 | palind_2) & maf_1kg > .4) %>%\n",
    "    filter(!palind_ambig) %>%\n",
    "    select(-starts_with(\"palind\"), -eaf_1kg)\n",
    "head(outcome_data)"
   ]
  },
  {
   "cell_type": "markdown",
   "id": "fbf035ca-3877-4207-843a-80573d9b2df1",
   "metadata": {},
   "source": [
    "## Exposure data"
   ]
  },
  {
   "cell_type": "markdown",
   "id": "6c2238a2-37ce-40c1-bf63-0cabf84c1964",
   "metadata": {},
   "source": [
    "### BMI"
   ]
  },
  {
   "cell_type": "code",
   "execution_count": 6,
   "id": "9927a2fb-6ee9-4e0b-926c-34f02f312cd4",
   "metadata": {},
   "outputs": [
    {
     "data": {
      "text/html": [
       "<table class=\"dataframe\">\n",
       "<caption>A tibble: 6 × 10</caption>\n",
       "<thead>\n",
       "\t<tr><th scope=col>chr</th><th scope=col>position</th><th scope=col>rsid</th><th scope=col>ea_bmi</th><th scope=col>nea_bmi</th><th scope=col>eaf_bmi</th><th scope=col>beta_bmi</th><th scope=col>se_bmi</th><th scope=col>pval_bmi</th><th scope=col>n_bmi</th></tr>\n",
       "\t<tr><th scope=col>&lt;dbl&gt;</th><th scope=col>&lt;dbl&gt;</th><th scope=col>&lt;chr&gt;</th><th scope=col>&lt;chr&gt;</th><th scope=col>&lt;chr&gt;</th><th scope=col>&lt;dbl&gt;</th><th scope=col>&lt;dbl&gt;</th><th scope=col>&lt;dbl&gt;</th><th scope=col>&lt;dbl&gt;</th><th scope=col>&lt;dbl&gt;</th></tr>\n",
       "</thead>\n",
       "<tbody>\n",
       "\t<tr><td> 7</td><td> 92383888</td><td>rs10      </td><td>A</td><td>C</td><td>0.06431</td><td> 0.0013</td><td>0.0042</td><td>0.7500</td><td>598895</td></tr>\n",
       "\t<tr><td>12</td><td>126890980</td><td>rs1000000 </td><td>A</td><td>G</td><td>0.22190</td><td> 0.0001</td><td>0.0021</td><td>0.9600</td><td>689928</td></tr>\n",
       "\t<tr><td> 4</td><td> 21618674</td><td>rs10000010</td><td>T</td><td>C</td><td>0.50860</td><td>-0.0001</td><td>0.0016</td><td>0.9400</td><td>785319</td></tr>\n",
       "\t<tr><td> 4</td><td>  1357325</td><td>rs10000012</td><td>C</td><td>G</td><td>0.86340</td><td> 0.0047</td><td>0.0025</td><td>0.0570</td><td>692463</td></tr>\n",
       "\t<tr><td> 4</td><td> 37225069</td><td>rs10000013</td><td>A</td><td>C</td><td>0.77080</td><td>-0.0061</td><td>0.0021</td><td>0.0033</td><td>687856</td></tr>\n",
       "\t<tr><td> 4</td><td> 84778125</td><td>rs10000017</td><td>T</td><td>C</td><td>0.22840</td><td> 0.0041</td><td>0.0021</td><td>0.0480</td><td>686123</td></tr>\n",
       "</tbody>\n",
       "</table>\n"
      ],
      "text/latex": [
       "A tibble: 6 × 10\n",
       "\\begin{tabular}{llllllllll}\n",
       " chr & position & rsid & ea\\_bmi & nea\\_bmi & eaf\\_bmi & beta\\_bmi & se\\_bmi & pval\\_bmi & n\\_bmi\\\\\n",
       " <dbl> & <dbl> & <chr> & <chr> & <chr> & <dbl> & <dbl> & <dbl> & <dbl> & <dbl>\\\\\n",
       "\\hline\n",
       "\t  7 &  92383888 & rs10       & A & C & 0.06431 &  0.0013 & 0.0042 & 0.7500 & 598895\\\\\n",
       "\t 12 & 126890980 & rs1000000  & A & G & 0.22190 &  0.0001 & 0.0021 & 0.9600 & 689928\\\\\n",
       "\t  4 &  21618674 & rs10000010 & T & C & 0.50860 & -0.0001 & 0.0016 & 0.9400 & 785319\\\\\n",
       "\t  4 &   1357325 & rs10000012 & C & G & 0.86340 &  0.0047 & 0.0025 & 0.0570 & 692463\\\\\n",
       "\t  4 &  37225069 & rs10000013 & A & C & 0.77080 & -0.0061 & 0.0021 & 0.0033 & 687856\\\\\n",
       "\t  4 &  84778125 & rs10000017 & T & C & 0.22840 &  0.0041 & 0.0021 & 0.0480 & 686123\\\\\n",
       "\\end{tabular}\n"
      ],
      "text/markdown": [
       "\n",
       "A tibble: 6 × 10\n",
       "\n",
       "| chr &lt;dbl&gt; | position &lt;dbl&gt; | rsid &lt;chr&gt; | ea_bmi &lt;chr&gt; | nea_bmi &lt;chr&gt; | eaf_bmi &lt;dbl&gt; | beta_bmi &lt;dbl&gt; | se_bmi &lt;dbl&gt; | pval_bmi &lt;dbl&gt; | n_bmi &lt;dbl&gt; |\n",
       "|---|---|---|---|---|---|---|---|---|---|\n",
       "|  7 |  92383888 | rs10       | A | C | 0.06431 |  0.0013 | 0.0042 | 0.7500 | 598895 |\n",
       "| 12 | 126890980 | rs1000000  | A | G | 0.22190 |  0.0001 | 0.0021 | 0.9600 | 689928 |\n",
       "|  4 |  21618674 | rs10000010 | T | C | 0.50860 | -0.0001 | 0.0016 | 0.9400 | 785319 |\n",
       "|  4 |   1357325 | rs10000012 | C | G | 0.86340 |  0.0047 | 0.0025 | 0.0570 | 692463 |\n",
       "|  4 |  37225069 | rs10000013 | A | C | 0.77080 | -0.0061 | 0.0021 | 0.0033 | 687856 |\n",
       "|  4 |  84778125 | rs10000017 | T | C | 0.22840 |  0.0041 | 0.0021 | 0.0480 | 686123 |\n",
       "\n"
      ],
      "text/plain": [
       "  chr position  rsid       ea_bmi nea_bmi eaf_bmi beta_bmi se_bmi pval_bmi\n",
       "1  7   92383888 rs10       A      C       0.06431  0.0013  0.0042 0.7500  \n",
       "2 12  126890980 rs1000000  A      G       0.22190  0.0001  0.0021 0.9600  \n",
       "3  4   21618674 rs10000010 T      C       0.50860 -0.0001  0.0016 0.9400  \n",
       "4  4    1357325 rs10000012 C      G       0.86340  0.0047  0.0025 0.0570  \n",
       "5  4   37225069 rs10000013 A      C       0.77080 -0.0061  0.0021 0.0033  \n",
       "6  4   84778125 rs10000017 T      C       0.22840  0.0041  0.0021 0.0480  \n",
       "  n_bmi \n",
       "1 598895\n",
       "2 689928\n",
       "3 785319\n",
       "4 692463\n",
       "5 687856\n",
       "6 686123"
      ]
     },
     "metadata": {},
     "output_type": "display_data"
    }
   ],
   "source": [
    "bmi <- read_tsv(\n",
    "    \"~/projects/DVA/Data/GWAS_sumstats/bmi.txt\", \n",
    "    skip = 1,\n",
    "    col_names = c(\"chr\", \"position\", \"rsid\", \n",
    "                  paste(c(\"ea\", \"nea\", \"eaf\", \"beta\", \"se\", \"pval\", \"n\"), \"bmi\", sep = \"_\")),\n",
    "    col_types = \"nncccnnnnn\"\n",
    ")\n",
    "head(bmi)"
   ]
  },
  {
   "cell_type": "markdown",
   "id": "a46c7d0d-2a83-411f-a614-ee7c2d0e1cb4",
   "metadata": {},
   "source": [
    "### Data for each trait"
   ]
  },
  {
   "cell_type": "markdown",
   "id": "66518c92-d2e4-40fe-8ca8-fe7feb07ec94",
   "metadata": {},
   "source": [
    "Exposure data:"
   ]
  },
  {
   "cell_type": "code",
   "execution_count": 7,
   "id": "07d4264e-4c4a-460b-95cc-b99f00c83af5",
   "metadata": {},
   "outputs": [
    {
     "name": "stderr",
     "output_type": "stream",
     "text": [
      "Warning message:\n",
      "\"One or more parsing issues, see `problems()` for details\"\n"
     ]
    },
    {
     "data": {
      "text/html": [
       "<table class=\"dataframe\">\n",
       "<caption>A tibble: 6 × 12</caption>\n",
       "<thead>\n",
       "\t<tr><th scope=col>se</th><th scope=col>position</th><th scope=col>p</th><th scope=col>beta</th><th scope=col>chr</th><th scope=col>n</th><th scope=col>id</th><th scope=col>rsid</th><th scope=col>ea</th><th scope=col>nea</th><th scope=col>eaf</th><th scope=col>trait</th></tr>\n",
       "\t<tr><th scope=col>&lt;dbl&gt;</th><th scope=col>&lt;dbl&gt;</th><th scope=col>&lt;dbl&gt;</th><th scope=col>&lt;dbl&gt;</th><th scope=col>&lt;dbl&gt;</th><th scope=col>&lt;dbl&gt;</th><th scope=col>&lt;chr&gt;</th><th scope=col>&lt;chr&gt;</th><th scope=col>&lt;chr&gt;</th><th scope=col>&lt;chr&gt;</th><th scope=col>&lt;dbl&gt;</th><th scope=col>&lt;chr&gt;</th></tr>\n",
       "</thead>\n",
       "<tbody>\n",
       "\t<tr><td>0.0034143</td><td>111600265</td><td>1.65508e-10</td><td>-0.021820</td><td>1</td><td>344104</td><td>ukb-d-30730_irnt</td><td>rs2363605 </td><td>A</td><td>G</td><td>0.12170</td><td>Gamma glutamyltransferase</td></tr>\n",
       "\t<tr><td>0.0034060</td><td>111625213</td><td>1.54949e-10</td><td>-0.021801</td><td>1</td><td>344104</td><td>ukb-d-30730_irnt</td><td>rs2165145 </td><td>T</td><td>C</td><td>0.12144</td><td>Gamma glutamyltransferase</td></tr>\n",
       "\t<tr><td>0.0034022</td><td>111627231</td><td>1.95429e-10</td><td>-0.021656</td><td>1</td><td>344104</td><td>ukb-d-30730_irnt</td><td>rs12403848</td><td>T</td><td>C</td><td>0.12170</td><td>Gamma glutamyltransferase</td></tr>\n",
       "\t<tr><td>0.0030641</td><td>111639354</td><td>3.49518e-08</td><td>-0.016898</td><td>1</td><td>344104</td><td>ukb-d-30730_irnt</td><td>rs325903  </td><td>A</td><td>G</td><td>0.15575</td><td>Gamma glutamyltransferase</td></tr>\n",
       "\t<tr><td>0.0033992</td><td>111643900</td><td>1.91280e-10</td><td>-0.021647</td><td>1</td><td>344104</td><td>ukb-d-30730_irnt</td><td>rs56296601</td><td>G</td><td>A</td><td>0.12180</td><td>Gamma glutamyltransferase</td></tr>\n",
       "\t<tr><td>0.0030622</td><td>111645593</td><td>2.66048e-08</td><td>-0.017034</td><td>1</td><td>344104</td><td>ukb-d-30730_irnt</td><td>rs1282261 </td><td>T</td><td>C</td><td>0.15587</td><td>Gamma glutamyltransferase</td></tr>\n",
       "</tbody>\n",
       "</table>\n"
      ],
      "text/latex": [
       "A tibble: 6 × 12\n",
       "\\begin{tabular}{llllllllllll}\n",
       " se & position & p & beta & chr & n & id & rsid & ea & nea & eaf & trait\\\\\n",
       " <dbl> & <dbl> & <dbl> & <dbl> & <dbl> & <dbl> & <chr> & <chr> & <chr> & <chr> & <dbl> & <chr>\\\\\n",
       "\\hline\n",
       "\t 0.0034143 & 111600265 & 1.65508e-10 & -0.021820 & 1 & 344104 & ukb-d-30730\\_irnt & rs2363605  & A & G & 0.12170 & Gamma glutamyltransferase\\\\\n",
       "\t 0.0034060 & 111625213 & 1.54949e-10 & -0.021801 & 1 & 344104 & ukb-d-30730\\_irnt & rs2165145  & T & C & 0.12144 & Gamma glutamyltransferase\\\\\n",
       "\t 0.0034022 & 111627231 & 1.95429e-10 & -0.021656 & 1 & 344104 & ukb-d-30730\\_irnt & rs12403848 & T & C & 0.12170 & Gamma glutamyltransferase\\\\\n",
       "\t 0.0030641 & 111639354 & 3.49518e-08 & -0.016898 & 1 & 344104 & ukb-d-30730\\_irnt & rs325903   & A & G & 0.15575 & Gamma glutamyltransferase\\\\\n",
       "\t 0.0033992 & 111643900 & 1.91280e-10 & -0.021647 & 1 & 344104 & ukb-d-30730\\_irnt & rs56296601 & G & A & 0.12180 & Gamma glutamyltransferase\\\\\n",
       "\t 0.0030622 & 111645593 & 2.66048e-08 & -0.017034 & 1 & 344104 & ukb-d-30730\\_irnt & rs1282261  & T & C & 0.15587 & Gamma glutamyltransferase\\\\\n",
       "\\end{tabular}\n"
      ],
      "text/markdown": [
       "\n",
       "A tibble: 6 × 12\n",
       "\n",
       "| se &lt;dbl&gt; | position &lt;dbl&gt; | p &lt;dbl&gt; | beta &lt;dbl&gt; | chr &lt;dbl&gt; | n &lt;dbl&gt; | id &lt;chr&gt; | rsid &lt;chr&gt; | ea &lt;chr&gt; | nea &lt;chr&gt; | eaf &lt;dbl&gt; | trait &lt;chr&gt; |\n",
       "|---|---|---|---|---|---|---|---|---|---|---|---|\n",
       "| 0.0034143 | 111600265 | 1.65508e-10 | -0.021820 | 1 | 344104 | ukb-d-30730_irnt | rs2363605  | A | G | 0.12170 | Gamma glutamyltransferase |\n",
       "| 0.0034060 | 111625213 | 1.54949e-10 | -0.021801 | 1 | 344104 | ukb-d-30730_irnt | rs2165145  | T | C | 0.12144 | Gamma glutamyltransferase |\n",
       "| 0.0034022 | 111627231 | 1.95429e-10 | -0.021656 | 1 | 344104 | ukb-d-30730_irnt | rs12403848 | T | C | 0.12170 | Gamma glutamyltransferase |\n",
       "| 0.0030641 | 111639354 | 3.49518e-08 | -0.016898 | 1 | 344104 | ukb-d-30730_irnt | rs325903   | A | G | 0.15575 | Gamma glutamyltransferase |\n",
       "| 0.0033992 | 111643900 | 1.91280e-10 | -0.021647 | 1 | 344104 | ukb-d-30730_irnt | rs56296601 | G | A | 0.12180 | Gamma glutamyltransferase |\n",
       "| 0.0030622 | 111645593 | 2.66048e-08 | -0.017034 | 1 | 344104 | ukb-d-30730_irnt | rs1282261  | T | C | 0.15587 | Gamma glutamyltransferase |\n",
       "\n"
      ],
      "text/plain": [
       "  se        position  p           beta      chr n      id              \n",
       "1 0.0034143 111600265 1.65508e-10 -0.021820 1   344104 ukb-d-30730_irnt\n",
       "2 0.0034060 111625213 1.54949e-10 -0.021801 1   344104 ukb-d-30730_irnt\n",
       "3 0.0034022 111627231 1.95429e-10 -0.021656 1   344104 ukb-d-30730_irnt\n",
       "4 0.0030641 111639354 3.49518e-08 -0.016898 1   344104 ukb-d-30730_irnt\n",
       "5 0.0033992 111643900 1.91280e-10 -0.021647 1   344104 ukb-d-30730_irnt\n",
       "6 0.0030622 111645593 2.66048e-08 -0.017034 1   344104 ukb-d-30730_irnt\n",
       "  rsid       ea nea eaf     trait                    \n",
       "1 rs2363605  A  G   0.12170 Gamma glutamyltransferase\n",
       "2 rs2165145  T  C   0.12144 Gamma glutamyltransferase\n",
       "3 rs12403848 T  C   0.12170 Gamma glutamyltransferase\n",
       "4 rs325903   A  G   0.15575 Gamma glutamyltransferase\n",
       "5 rs56296601 G  A   0.12180 Gamma glutamyltransferase\n",
       "6 rs1282261  T  C   0.15587 Gamma glutamyltransferase"
      ]
     },
     "metadata": {},
     "output_type": "display_data"
    }
   ],
   "source": [
    "sigins <- read_tsv(\n",
    "    \"../data/sigins.tsv\", \n",
    "    col_types = \"nnnnnnccccnc\"\n",
    ")\n",
    "head(sigins)"
   ]
  },
  {
   "cell_type": "markdown",
   "id": "c2bcdd1a-ab70-427d-87d8-ef3333fc46e8",
   "metadata": {},
   "source": [
    "To select instruments:"
   ]
  },
  {
   "cell_type": "markdown",
   "id": "7bff8cc0-2838-4856-9c1e-fbd204d82af4",
   "metadata": {},
   "source": [
    "- Gene IDs:"
   ]
  },
  {
   "cell_type": "code",
   "execution_count": 8,
   "id": "758c3cd1-0c32-4570-a4f1-93b4e9d99032",
   "metadata": {},
   "outputs": [],
   "source": [
    "exposures_cismr <- tibble::tribble(\n",
    "    ~trait_short, ~requireCisMR, ~id, ~ensembl_id,\n",
    "    \"SHBG\", TRUE, \"ukb-d-30830_irnt\", \"ENSG00000129214\",\n",
    "    \"GGT\", TRUE, \"ukb-d-30730_irnt\", paste(c(\"ENSG00000149435\",\n",
    "                                             \"ENSG00000100121\", \n",
    "                                             \"ENSG00000274252\", \n",
    "                                             \"ENSG00000230712\", \n",
    "                                             \"ENSG00000276160\", \n",
    "                                             \"ENSG00000100031\", \n",
    "                                             \"ENSG00000133475\", \n",
    "                                             \"ENSG00000197421\", \n",
    "                                             \"ENSG00000280208\", \n",
    "                                             \"ENSG00000099998\", \n",
    "                                             \"ENSG00000167741\", \n",
    "                                             \"ENSG00000131067\", \n",
    "                                             \"ENSG00000236969\"),\n",
    "                                           collapse = \";\"),\n",
    "    \"ALT\", TRUE, \"ukb-d-30620_irnt\", paste(c(\"ENSG00000167701\", \"ENSG00000166123\"), collapse = \";\"),\n",
    "    \"ApoA1\", TRUE, \"ieu-b-107\", \"ENSG00000118137\",\n",
    "    \"PTH\", TRUE, \"prot-a-2431\", \"ENSG00000152266\",\n",
    "    \"CRP\", TRUE, \"ukb-d-30710_irnt\", \"ENSG00000132693\"\n",
    ")"
   ]
  },
  {
   "cell_type": "code",
   "execution_count": 9,
   "id": "1262dd56-5783-4b7b-8799-3f5f1d77852b",
   "metadata": {},
   "outputs": [],
   "source": [
    "exposures_cismr <- separate_rows(exposures_cismr, ensembl_id)"
   ]
  },
  {
   "cell_type": "code",
   "execution_count": 10,
   "id": "79b947de-f4cc-415f-9565-b04194977e53",
   "metadata": {},
   "outputs": [
    {
     "data": {
      "text/html": [
       "<table class=\"dataframe\">\n",
       "<caption>A tibble: 6 × 4</caption>\n",
       "<thead>\n",
       "\t<tr><th scope=col>trait_short</th><th scope=col>requireCisMR</th><th scope=col>id</th><th scope=col>ensembl_id</th></tr>\n",
       "\t<tr><th scope=col>&lt;chr&gt;</th><th scope=col>&lt;lgl&gt;</th><th scope=col>&lt;chr&gt;</th><th scope=col>&lt;chr&gt;</th></tr>\n",
       "</thead>\n",
       "<tbody>\n",
       "\t<tr><td>SHBG</td><td>TRUE</td><td>ukb-d-30830_irnt</td><td>ENSG00000129214</td></tr>\n",
       "\t<tr><td>GGT </td><td>TRUE</td><td>ukb-d-30730_irnt</td><td>ENSG00000149435</td></tr>\n",
       "\t<tr><td>GGT </td><td>TRUE</td><td>ukb-d-30730_irnt</td><td>ENSG00000100121</td></tr>\n",
       "\t<tr><td>GGT </td><td>TRUE</td><td>ukb-d-30730_irnt</td><td>ENSG00000274252</td></tr>\n",
       "\t<tr><td>GGT </td><td>TRUE</td><td>ukb-d-30730_irnt</td><td>ENSG00000230712</td></tr>\n",
       "\t<tr><td>GGT </td><td>TRUE</td><td>ukb-d-30730_irnt</td><td>ENSG00000276160</td></tr>\n",
       "</tbody>\n",
       "</table>\n"
      ],
      "text/latex": [
       "A tibble: 6 × 4\n",
       "\\begin{tabular}{llll}\n",
       " trait\\_short & requireCisMR & id & ensembl\\_id\\\\\n",
       " <chr> & <lgl> & <chr> & <chr>\\\\\n",
       "\\hline\n",
       "\t SHBG & TRUE & ukb-d-30830\\_irnt & ENSG00000129214\\\\\n",
       "\t GGT  & TRUE & ukb-d-30730\\_irnt & ENSG00000149435\\\\\n",
       "\t GGT  & TRUE & ukb-d-30730\\_irnt & ENSG00000100121\\\\\n",
       "\t GGT  & TRUE & ukb-d-30730\\_irnt & ENSG00000274252\\\\\n",
       "\t GGT  & TRUE & ukb-d-30730\\_irnt & ENSG00000230712\\\\\n",
       "\t GGT  & TRUE & ukb-d-30730\\_irnt & ENSG00000276160\\\\\n",
       "\\end{tabular}\n"
      ],
      "text/markdown": [
       "\n",
       "A tibble: 6 × 4\n",
       "\n",
       "| trait_short &lt;chr&gt; | requireCisMR &lt;lgl&gt; | id &lt;chr&gt; | ensembl_id &lt;chr&gt; |\n",
       "|---|---|---|---|\n",
       "| SHBG | TRUE | ukb-d-30830_irnt | ENSG00000129214 |\n",
       "| GGT  | TRUE | ukb-d-30730_irnt | ENSG00000149435 |\n",
       "| GGT  | TRUE | ukb-d-30730_irnt | ENSG00000100121 |\n",
       "| GGT  | TRUE | ukb-d-30730_irnt | ENSG00000274252 |\n",
       "| GGT  | TRUE | ukb-d-30730_irnt | ENSG00000230712 |\n",
       "| GGT  | TRUE | ukb-d-30730_irnt | ENSG00000276160 |\n",
       "\n"
      ],
      "text/plain": [
       "  trait_short requireCisMR id               ensembl_id     \n",
       "1 SHBG        TRUE         ukb-d-30830_irnt ENSG00000129214\n",
       "2 GGT         TRUE         ukb-d-30730_irnt ENSG00000149435\n",
       "3 GGT         TRUE         ukb-d-30730_irnt ENSG00000100121\n",
       "4 GGT         TRUE         ukb-d-30730_irnt ENSG00000274252\n",
       "5 GGT         TRUE         ukb-d-30730_irnt ENSG00000230712\n",
       "6 GGT         TRUE         ukb-d-30730_irnt ENSG00000276160"
      ]
     },
     "metadata": {},
     "output_type": "display_data"
    }
   ],
   "source": [
    "head(exposures_cismr)"
   ]
  },
  {
   "cell_type": "markdown",
   "id": "8560a7a5-b484-4171-9ceb-83c9b15735ad",
   "metadata": {},
   "source": [
    "- Genomic regions in hg19 build:"
   ]
  },
  {
   "cell_type": "code",
   "execution_count": 11,
   "id": "15b08bbf-3075-47c4-94c7-3a97b2ad77cd",
   "metadata": {},
   "outputs": [
    {
     "data": {
      "text/html": [
       "<table class=\"dataframe\">\n",
       "<caption>A data.frame: 6 × 25</caption>\n",
       "<thead>\n",
       "\t<tr><th></th><th scope=col>seqid</th><th scope=col>source</th><th scope=col>type</th><th scope=col>start</th><th scope=col>end</th><th scope=col>score</th><th scope=col>strand</th><th scope=col>phase</th><th scope=col>gene_id</th><th scope=col>transcript_id</th><th scope=col>⋯</th><th scope=col>transcript_name</th><th scope=col>level</th><th scope=col>havana_gene</th><th scope=col>tag</th><th scope=col>havana_transcript</th><th scope=col>exon_number</th><th scope=col>exon_id</th><th scope=col>ont</th><th scope=col>protein_id</th><th scope=col>ccdsid</th></tr>\n",
       "\t<tr><th></th><th scope=col>&lt;fct&gt;</th><th scope=col>&lt;fct&gt;</th><th scope=col>&lt;fct&gt;</th><th scope=col>&lt;int&gt;</th><th scope=col>&lt;int&gt;</th><th scope=col>&lt;dbl&gt;</th><th scope=col>&lt;chr&gt;</th><th scope=col>&lt;int&gt;</th><th scope=col>&lt;chr&gt;</th><th scope=col>&lt;chr&gt;</th><th scope=col>⋯</th><th scope=col>&lt;chr&gt;</th><th scope=col>&lt;chr&gt;</th><th scope=col>&lt;chr&gt;</th><th scope=col>&lt;chr&gt;</th><th scope=col>&lt;chr&gt;</th><th scope=col>&lt;chr&gt;</th><th scope=col>&lt;chr&gt;</th><th scope=col>&lt;chr&gt;</th><th scope=col>&lt;chr&gt;</th><th scope=col>&lt;chr&gt;</th></tr>\n",
       "</thead>\n",
       "<tbody>\n",
       "\t<tr><th scope=row>1</th><td>chr1</td><td>HAVANA </td><td>gene      </td><td>11869</td><td>14412</td><td>NA</td><td>+</td><td>NA</td><td>ENSG00000223972.4</td><td>ENSG00000223972.4</td><td>⋯</td><td>DDX11L1    </td><td>2</td><td>OTTHUMG00000000961.2</td><td>NA   </td><td>NA                  </td><td>NA</td><td>NA               </td><td>NA</td><td>NA</td><td>NA</td></tr>\n",
       "\t<tr><th scope=row>2</th><td>chr1</td><td>HAVANA </td><td>transcript</td><td>11869</td><td>14409</td><td>NA</td><td>+</td><td>NA</td><td>ENSG00000223972.4</td><td>ENST00000456328.2</td><td>⋯</td><td>DDX11L1-002</td><td>2</td><td>OTTHUMG00000000961.2</td><td>basic</td><td>OTTHUMT00000362751.1</td><td>NA</td><td>NA               </td><td>NA</td><td>NA</td><td>NA</td></tr>\n",
       "\t<tr><th scope=row>3</th><td>chr1</td><td>HAVANA </td><td>exon      </td><td>11869</td><td>12227</td><td>NA</td><td>+</td><td>NA</td><td>ENSG00000223972.4</td><td>ENST00000456328.2</td><td>⋯</td><td>DDX11L1-002</td><td>2</td><td>OTTHUMG00000000961.2</td><td>basic</td><td>OTTHUMT00000362751.1</td><td>1 </td><td>ENSE00002234944.1</td><td>NA</td><td>NA</td><td>NA</td></tr>\n",
       "\t<tr><th scope=row>4</th><td>chr1</td><td>HAVANA </td><td>exon      </td><td>12613</td><td>12721</td><td>NA</td><td>+</td><td>NA</td><td>ENSG00000223972.4</td><td>ENST00000456328.2</td><td>⋯</td><td>DDX11L1-002</td><td>2</td><td>OTTHUMG00000000961.2</td><td>basic</td><td>OTTHUMT00000362751.1</td><td>2 </td><td>ENSE00003582793.1</td><td>NA</td><td>NA</td><td>NA</td></tr>\n",
       "\t<tr><th scope=row>5</th><td>chr1</td><td>HAVANA </td><td>exon      </td><td>13221</td><td>14409</td><td>NA</td><td>+</td><td>NA</td><td>ENSG00000223972.4</td><td>ENST00000456328.2</td><td>⋯</td><td>DDX11L1-002</td><td>2</td><td>OTTHUMG00000000961.2</td><td>basic</td><td>OTTHUMT00000362751.1</td><td>3 </td><td>ENSE00002312635.1</td><td>NA</td><td>NA</td><td>NA</td></tr>\n",
       "\t<tr><th scope=row>6</th><td>chr1</td><td>ENSEMBL</td><td>transcript</td><td>11872</td><td>14412</td><td>NA</td><td>+</td><td>NA</td><td>ENSG00000223972.4</td><td>ENST00000515242.2</td><td>⋯</td><td>DDX11L1-201</td><td>3</td><td>OTTHUMG00000000961.2</td><td>NA   </td><td>NA                  </td><td>NA</td><td>NA               </td><td>NA</td><td>NA</td><td>NA</td></tr>\n",
       "</tbody>\n",
       "</table>\n"
      ],
      "text/latex": [
       "A data.frame: 6 × 25\n",
       "\\begin{tabular}{r|lllllllllllllllllllll}\n",
       "  & seqid & source & type & start & end & score & strand & phase & gene\\_id & transcript\\_id & ⋯ & transcript\\_name & level & havana\\_gene & tag & havana\\_transcript & exon\\_number & exon\\_id & ont & protein\\_id & ccdsid\\\\\n",
       "  & <fct> & <fct> & <fct> & <int> & <int> & <dbl> & <chr> & <int> & <chr> & <chr> & ⋯ & <chr> & <chr> & <chr> & <chr> & <chr> & <chr> & <chr> & <chr> & <chr> & <chr>\\\\\n",
       "\\hline\n",
       "\t1 & chr1 & HAVANA  & gene       & 11869 & 14412 & NA & + & NA & ENSG00000223972.4 & ENSG00000223972.4 & ⋯ & DDX11L1     & 2 & OTTHUMG00000000961.2 & NA    & NA                   & NA & NA                & NA & NA & NA\\\\\n",
       "\t2 & chr1 & HAVANA  & transcript & 11869 & 14409 & NA & + & NA & ENSG00000223972.4 & ENST00000456328.2 & ⋯ & DDX11L1-002 & 2 & OTTHUMG00000000961.2 & basic & OTTHUMT00000362751.1 & NA & NA                & NA & NA & NA\\\\\n",
       "\t3 & chr1 & HAVANA  & exon       & 11869 & 12227 & NA & + & NA & ENSG00000223972.4 & ENST00000456328.2 & ⋯ & DDX11L1-002 & 2 & OTTHUMG00000000961.2 & basic & OTTHUMT00000362751.1 & 1  & ENSE00002234944.1 & NA & NA & NA\\\\\n",
       "\t4 & chr1 & HAVANA  & exon       & 12613 & 12721 & NA & + & NA & ENSG00000223972.4 & ENST00000456328.2 & ⋯ & DDX11L1-002 & 2 & OTTHUMG00000000961.2 & basic & OTTHUMT00000362751.1 & 2  & ENSE00003582793.1 & NA & NA & NA\\\\\n",
       "\t5 & chr1 & HAVANA  & exon       & 13221 & 14409 & NA & + & NA & ENSG00000223972.4 & ENST00000456328.2 & ⋯ & DDX11L1-002 & 2 & OTTHUMG00000000961.2 & basic & OTTHUMT00000362751.1 & 3  & ENSE00002312635.1 & NA & NA & NA\\\\\n",
       "\t6 & chr1 & ENSEMBL & transcript & 11872 & 14412 & NA & + & NA & ENSG00000223972.4 & ENST00000515242.2 & ⋯ & DDX11L1-201 & 3 & OTTHUMG00000000961.2 & NA    & NA                   & NA & NA                & NA & NA & NA\\\\\n",
       "\\end{tabular}\n"
      ],
      "text/markdown": [
       "\n",
       "A data.frame: 6 × 25\n",
       "\n",
       "| <!--/--> | seqid &lt;fct&gt; | source &lt;fct&gt; | type &lt;fct&gt; | start &lt;int&gt; | end &lt;int&gt; | score &lt;dbl&gt; | strand &lt;chr&gt; | phase &lt;int&gt; | gene_id &lt;chr&gt; | transcript_id &lt;chr&gt; | ⋯ ⋯ | transcript_name &lt;chr&gt; | level &lt;chr&gt; | havana_gene &lt;chr&gt; | tag &lt;chr&gt; | havana_transcript &lt;chr&gt; | exon_number &lt;chr&gt; | exon_id &lt;chr&gt; | ont &lt;chr&gt; | protein_id &lt;chr&gt; | ccdsid &lt;chr&gt; |\n",
       "|---|---|---|---|---|---|---|---|---|---|---|---|---|---|---|---|---|---|---|---|---|---|\n",
       "| 1 | chr1 | HAVANA  | gene       | 11869 | 14412 | NA | + | NA | ENSG00000223972.4 | ENSG00000223972.4 | ⋯ | DDX11L1     | 2 | OTTHUMG00000000961.2 | NA    | NA                   | NA | NA                | NA | NA | NA |\n",
       "| 2 | chr1 | HAVANA  | transcript | 11869 | 14409 | NA | + | NA | ENSG00000223972.4 | ENST00000456328.2 | ⋯ | DDX11L1-002 | 2 | OTTHUMG00000000961.2 | basic | OTTHUMT00000362751.1 | NA | NA                | NA | NA | NA |\n",
       "| 3 | chr1 | HAVANA  | exon       | 11869 | 12227 | NA | + | NA | ENSG00000223972.4 | ENST00000456328.2 | ⋯ | DDX11L1-002 | 2 | OTTHUMG00000000961.2 | basic | OTTHUMT00000362751.1 | 1  | ENSE00002234944.1 | NA | NA | NA |\n",
       "| 4 | chr1 | HAVANA  | exon       | 12613 | 12721 | NA | + | NA | ENSG00000223972.4 | ENST00000456328.2 | ⋯ | DDX11L1-002 | 2 | OTTHUMG00000000961.2 | basic | OTTHUMT00000362751.1 | 2  | ENSE00003582793.1 | NA | NA | NA |\n",
       "| 5 | chr1 | HAVANA  | exon       | 13221 | 14409 | NA | + | NA | ENSG00000223972.4 | ENST00000456328.2 | ⋯ | DDX11L1-002 | 2 | OTTHUMG00000000961.2 | basic | OTTHUMT00000362751.1 | 3  | ENSE00002312635.1 | NA | NA | NA |\n",
       "| 6 | chr1 | ENSEMBL | transcript | 11872 | 14412 | NA | + | NA | ENSG00000223972.4 | ENST00000515242.2 | ⋯ | DDX11L1-201 | 3 | OTTHUMG00000000961.2 | NA    | NA                   | NA | NA                | NA | NA | NA |\n",
       "\n"
      ],
      "text/plain": [
       "  seqid source  type       start end   score strand phase gene_id          \n",
       "1 chr1  HAVANA  gene       11869 14412 NA    +      NA    ENSG00000223972.4\n",
       "2 chr1  HAVANA  transcript 11869 14409 NA    +      NA    ENSG00000223972.4\n",
       "3 chr1  HAVANA  exon       11869 12227 NA    +      NA    ENSG00000223972.4\n",
       "4 chr1  HAVANA  exon       12613 12721 NA    +      NA    ENSG00000223972.4\n",
       "5 chr1  HAVANA  exon       13221 14409 NA    +      NA    ENSG00000223972.4\n",
       "6 chr1  ENSEMBL transcript 11872 14412 NA    +      NA    ENSG00000223972.4\n",
       "  transcript_id     <U+22EF>   transcript_name level havana_gene          tag  \n",
       "1 ENSG00000223972.4 <U+22EF> DDX11L1         2     OTTHUMG00000000961.2 NA   \n",
       "2 ENST00000456328.2 <U+22EF> DDX11L1-002     2     OTTHUMG00000000961.2 basic\n",
       "3 ENST00000456328.2 <U+22EF> DDX11L1-002     2     OTTHUMG00000000961.2 basic\n",
       "4 ENST00000456328.2 <U+22EF> DDX11L1-002     2     OTTHUMG00000000961.2 basic\n",
       "5 ENST00000456328.2 <U+22EF> DDX11L1-002     2     OTTHUMG00000000961.2 basic\n",
       "6 ENST00000515242.2 <U+22EF> DDX11L1-201     3     OTTHUMG00000000961.2 NA   \n",
       "  havana_transcript    exon_number exon_id           ont protein_id ccdsid\n",
       "1 NA                   NA          NA                NA  NA         NA    \n",
       "2 OTTHUMT00000362751.1 NA          NA                NA  NA         NA    \n",
       "3 OTTHUMT00000362751.1 1           ENSE00002234944.1 NA  NA         NA    \n",
       "4 OTTHUMT00000362751.1 2           ENSE00003582793.1 NA  NA         NA    \n",
       "5 OTTHUMT00000362751.1 3           ENSE00002312635.1 NA  NA         NA    \n",
       "6 NA                   NA          NA                NA  NA         NA    "
      ]
     },
     "metadata": {},
     "output_type": "display_data"
    }
   ],
   "source": [
    "gencode <- rtracklayer::readGFF(\"~/projects/DVA/Data/ReferenceData/gencode.v19.annotation.gtf\")\n",
    "head(gencode)"
   ]
  },
  {
   "cell_type": "markdown",
   "id": "0912cb5b-6fbc-45f4-a4c5-9e65cc354dab",
   "metadata": {},
   "source": [
    "- Joining exposure IDs with genomic regions:"
   ]
  },
  {
   "cell_type": "code",
   "execution_count": 12,
   "id": "53e874ca-a117-447c-8ffb-fcd2c13ae1ab",
   "metadata": {},
   "outputs": [
    {
     "name": "stderr",
     "output_type": "stream",
     "text": [
      "Warning message in mask$eval_all_mutate(quo):\n",
      "\"NAs introduced by coercion\"\n"
     ]
    },
    {
     "data": {
      "text/html": [
       "<table class=\"dataframe\">\n",
       "<caption>A data.frame: 6 × 7</caption>\n",
       "<thead>\n",
       "\t<tr><th></th><th scope=col>chrom</th><th scope=col>start</th><th scope=col>end</th><th scope=col>ensembl_id</th><th scope=col>trait_short</th><th scope=col>requireCisMR</th><th scope=col>id</th></tr>\n",
       "\t<tr><th></th><th scope=col>&lt;dbl&gt;</th><th scope=col>&lt;int&gt;</th><th scope=col>&lt;int&gt;</th><th scope=col>&lt;chr&gt;</th><th scope=col>&lt;chr&gt;</th><th scope=col>&lt;lgl&gt;</th><th scope=col>&lt;chr&gt;</th></tr>\n",
       "</thead>\n",
       "<tbody>\n",
       "\t<tr><th scope=row>1</th><td> 1</td><td>159682079</td><td>159684379</td><td>ENSG00000132693</td><td>CRP  </td><td>TRUE</td><td>ukb-d-30710_irnt</td></tr>\n",
       "\t<tr><th scope=row>2</th><td> 2</td><td> 91963970</td><td> 91969195</td><td>ENSG00000236969</td><td>GGT  </td><td>TRUE</td><td>ukb-d-30730_irnt</td></tr>\n",
       "\t<tr><th scope=row>3</th><td> 8</td><td>145728356</td><td>145732557</td><td>ENSG00000167701</td><td>ALT  </td><td>TRUE</td><td>ukb-d-30620_irnt</td></tr>\n",
       "\t<tr><th scope=row>4</th><td>11</td><td> 13513602</td><td> 13517728</td><td>ENSG00000152266</td><td>PTH  </td><td>TRUE</td><td>prot-a-2431     </td></tr>\n",
       "\t<tr><th scope=row>5</th><td>11</td><td>116706467</td><td>116708666</td><td>ENSG00000118137</td><td>ApoA1</td><td>TRUE</td><td>ieu-b-107       </td></tr>\n",
       "\t<tr><th scope=row>6</th><td>16</td><td> 46918290</td><td> 46965209</td><td>ENSG00000166123</td><td>ALT  </td><td>TRUE</td><td>ukb-d-30620_irnt</td></tr>\n",
       "</tbody>\n",
       "</table>\n"
      ],
      "text/latex": [
       "A data.frame: 6 × 7\n",
       "\\begin{tabular}{r|lllllll}\n",
       "  & chrom & start & end & ensembl\\_id & trait\\_short & requireCisMR & id\\\\\n",
       "  & <dbl> & <int> & <int> & <chr> & <chr> & <lgl> & <chr>\\\\\n",
       "\\hline\n",
       "\t1 &  1 & 159682079 & 159684379 & ENSG00000132693 & CRP   & TRUE & ukb-d-30710\\_irnt\\\\\n",
       "\t2 &  2 &  91963970 &  91969195 & ENSG00000236969 & GGT   & TRUE & ukb-d-30730\\_irnt\\\\\n",
       "\t3 &  8 & 145728356 & 145732557 & ENSG00000167701 & ALT   & TRUE & ukb-d-30620\\_irnt\\\\\n",
       "\t4 & 11 &  13513602 &  13517728 & ENSG00000152266 & PTH   & TRUE & prot-a-2431     \\\\\n",
       "\t5 & 11 & 116706467 & 116708666 & ENSG00000118137 & ApoA1 & TRUE & ieu-b-107       \\\\\n",
       "\t6 & 16 &  46918290 &  46965209 & ENSG00000166123 & ALT   & TRUE & ukb-d-30620\\_irnt\\\\\n",
       "\\end{tabular}\n"
      ],
      "text/markdown": [
       "\n",
       "A data.frame: 6 × 7\n",
       "\n",
       "| <!--/--> | chrom &lt;dbl&gt; | start &lt;int&gt; | end &lt;int&gt; | ensembl_id &lt;chr&gt; | trait_short &lt;chr&gt; | requireCisMR &lt;lgl&gt; | id &lt;chr&gt; |\n",
       "|---|---|---|---|---|---|---|---|\n",
       "| 1 |  1 | 159682079 | 159684379 | ENSG00000132693 | CRP   | TRUE | ukb-d-30710_irnt |\n",
       "| 2 |  2 |  91963970 |  91969195 | ENSG00000236969 | GGT   | TRUE | ukb-d-30730_irnt |\n",
       "| 3 |  8 | 145728356 | 145732557 | ENSG00000167701 | ALT   | TRUE | ukb-d-30620_irnt |\n",
       "| 4 | 11 |  13513602 |  13517728 | ENSG00000152266 | PTH   | TRUE | prot-a-2431      |\n",
       "| 5 | 11 | 116706467 | 116708666 | ENSG00000118137 | ApoA1 | TRUE | ieu-b-107        |\n",
       "| 6 | 16 |  46918290 |  46965209 | ENSG00000166123 | ALT   | TRUE | ukb-d-30620_irnt |\n",
       "\n"
      ],
      "text/plain": [
       "  chrom start     end       ensembl_id      trait_short requireCisMR\n",
       "1  1    159682079 159684379 ENSG00000132693 CRP         TRUE        \n",
       "2  2     91963970  91969195 ENSG00000236969 GGT         TRUE        \n",
       "3  8    145728356 145732557 ENSG00000167701 ALT         TRUE        \n",
       "4 11     13513602  13517728 ENSG00000152266 PTH         TRUE        \n",
       "5 11    116706467 116708666 ENSG00000118137 ApoA1       TRUE        \n",
       "6 16     46918290  46965209 ENSG00000166123 ALT         TRUE        \n",
       "  id              \n",
       "1 ukb-d-30710_irnt\n",
       "2 ukb-d-30730_irnt\n",
       "3 ukb-d-30620_irnt\n",
       "4 prot-a-2431     \n",
       "5 ieu-b-107       \n",
       "6 ukb-d-30620_irnt"
      ]
     },
     "metadata": {},
     "output_type": "display_data"
    }
   ],
   "source": [
    "exposures <- gencode %>%\n",
    "    filter(type == \"gene\") %>%\n",
    "    transmute(chrom = as.numeric(gsub(\"chr\", \"\", seqid)), start, end, ensembl_id = gsub(\"\\\\..*\", \"\", gene_id)) %>%\n",
    "    inner_join(exposures_cismr, by = \"ensembl_id\")\n",
    "head(exposures)"
   ]
  },
  {
   "cell_type": "markdown",
   "id": "08c53551-2228-4c4a-a401-266a182a53c1",
   "metadata": {},
   "source": [
    "- Now selecting instruments:"
   ]
  },
  {
   "cell_type": "code",
   "execution_count": 32,
   "id": "a703ba67-1c7b-485f-b233-2358b6fb5add",
   "metadata": {},
   "outputs": [
    {
     "name": "stderr",
     "output_type": "stream",
     "text": [
      "\u001b[1m\u001b[22mJoining, by = \"id\"\n",
      "\u001b[1m\u001b[22mJoining, by = c(\"position\", \"chr\", \"rsid\")\n"
     ]
    },
    {
     "data": {
      "text/html": [
       "<table class=\"dataframe\">\n",
       "<caption>A tibble: 6 × 28</caption>\n",
       "<thead>\n",
       "\t<tr><th scope=col>se</th><th scope=col>position</th><th scope=col>p</th><th scope=col>beta</th><th scope=col>chr</th><th scope=col>n</th><th scope=col>id</th><th scope=col>rsid</th><th scope=col>ea</th><th scope=col>nea</th><th scope=col>⋯</th><th scope=col>within_gene</th><th scope=col>dist1</th><th scope=col>dist2</th><th scope=col>ea_bmi</th><th scope=col>nea_bmi</th><th scope=col>eaf_bmi</th><th scope=col>beta_bmi</th><th scope=col>se_bmi</th><th scope=col>pval_bmi</th><th scope=col>n_bmi</th></tr>\n",
       "\t<tr><th scope=col>&lt;dbl&gt;</th><th scope=col>&lt;dbl&gt;</th><th scope=col>&lt;dbl&gt;</th><th scope=col>&lt;dbl&gt;</th><th scope=col>&lt;dbl&gt;</th><th scope=col>&lt;dbl&gt;</th><th scope=col>&lt;chr&gt;</th><th scope=col>&lt;chr&gt;</th><th scope=col>&lt;chr&gt;</th><th scope=col>&lt;chr&gt;</th><th scope=col>⋯</th><th scope=col>&lt;lgl&gt;</th><th scope=col>&lt;dbl&gt;</th><th scope=col>&lt;dbl&gt;</th><th scope=col>&lt;chr&gt;</th><th scope=col>&lt;chr&gt;</th><th scope=col>&lt;dbl&gt;</th><th scope=col>&lt;dbl&gt;</th><th scope=col>&lt;dbl&gt;</th><th scope=col>&lt;dbl&gt;</th><th scope=col>&lt;dbl&gt;</th></tr>\n",
       "</thead>\n",
       "<tbody>\n",
       "\t<tr><td>0.00411185</td><td>116747282</td><td>2.49977e-43</td><td>-0.0567477</td><td>11</td><td>NA</td><td>ieu-b-107</td><td>rs17120119</td><td>G</td><td>C</td><td>⋯</td><td>FALSE</td><td> 40815</td><td> 38616</td><td>C</td><td>G</td><td>0.93832</td><td>-0.0209</td><td>0.0036</td><td>9.8e-09</td><td>680967</td></tr>\n",
       "\t<tr><td>0.00411260</td><td>116748221</td><td>1.80011e-43</td><td>-0.0568493</td><td>11</td><td>NA</td><td>ieu-b-107</td><td>rs12279433</td><td>T</td><td>G</td><td>⋯</td><td>FALSE</td><td> 41754</td><td> 39555</td><td>T</td><td>G</td><td>0.06168</td><td> 0.0209</td><td>0.0036</td><td>8.4e-09</td><td>688386</td></tr>\n",
       "\t<tr><td>0.00412167</td><td>116773318</td><td>4.60045e-43</td><td>-0.0567001</td><td>11</td><td>NA</td><td>ieu-b-107</td><td>rs17120132</td><td>A</td><td>T</td><td>⋯</td><td>FALSE</td><td> 66851</td><td> 64652</td><td>A</td><td>T</td><td>0.06086</td><td> 0.0214</td><td>0.0036</td><td>3.7e-09</td><td>688842</td></tr>\n",
       "\t<tr><td>0.00425460</td><td>116816394</td><td>1.69981e-36</td><td>-0.0536801</td><td>11</td><td>NA</td><td>ieu-b-107</td><td>rs10892050</td><td>A</td><td>C</td><td>⋯</td><td>FALSE</td><td>109927</td><td>107728</td><td>A</td><td>C</td><td>0.05718</td><td> 0.0215</td><td>0.0037</td><td>8.0e-09</td><td>691844</td></tr>\n",
       "\t<tr><td>0.00425965</td><td>116832718</td><td>2.19989e-36</td><td>-0.0536578</td><td>11</td><td>NA</td><td>ieu-b-107</td><td>rs10892051</td><td>A</td><td>C</td><td>⋯</td><td>FALSE</td><td>126251</td><td>124052</td><td>A</td><td>C</td><td>0.05741</td><td> 0.0214</td><td>0.0037</td><td>9.5e-09</td><td>691844</td></tr>\n",
       "\t<tr><td>0.00424763</td><td>116947180</td><td>1.90020e-36</td><td>-0.0535583</td><td>11</td><td>NA</td><td>ieu-b-107</td><td>rs11216265</td><td>C</td><td>T</td><td>⋯</td><td>FALSE</td><td>240713</td><td>238514</td><td>T</td><td>C</td><td>0.94685</td><td>-0.0219</td><td>0.0037</td><td>4.7e-09</td><td>691667</td></tr>\n",
       "</tbody>\n",
       "</table>\n"
      ],
      "text/latex": [
       "A tibble: 6 × 28\n",
       "\\begin{tabular}{lllllllllllllllllllll}\n",
       " se & position & p & beta & chr & n & id & rsid & ea & nea & ⋯ & within\\_gene & dist1 & dist2 & ea\\_bmi & nea\\_bmi & eaf\\_bmi & beta\\_bmi & se\\_bmi & pval\\_bmi & n\\_bmi\\\\\n",
       " <dbl> & <dbl> & <dbl> & <dbl> & <dbl> & <dbl> & <chr> & <chr> & <chr> & <chr> & ⋯ & <lgl> & <dbl> & <dbl> & <chr> & <chr> & <dbl> & <dbl> & <dbl> & <dbl> & <dbl>\\\\\n",
       "\\hline\n",
       "\t 0.00411185 & 116747282 & 2.49977e-43 & -0.0567477 & 11 & NA & ieu-b-107 & rs17120119 & G & C & ⋯ & FALSE &  40815 &  38616 & C & G & 0.93832 & -0.0209 & 0.0036 & 9.8e-09 & 680967\\\\\n",
       "\t 0.00411260 & 116748221 & 1.80011e-43 & -0.0568493 & 11 & NA & ieu-b-107 & rs12279433 & T & G & ⋯ & FALSE &  41754 &  39555 & T & G & 0.06168 &  0.0209 & 0.0036 & 8.4e-09 & 688386\\\\\n",
       "\t 0.00412167 & 116773318 & 4.60045e-43 & -0.0567001 & 11 & NA & ieu-b-107 & rs17120132 & A & T & ⋯ & FALSE &  66851 &  64652 & A & T & 0.06086 &  0.0214 & 0.0036 & 3.7e-09 & 688842\\\\\n",
       "\t 0.00425460 & 116816394 & 1.69981e-36 & -0.0536801 & 11 & NA & ieu-b-107 & rs10892050 & A & C & ⋯ & FALSE & 109927 & 107728 & A & C & 0.05718 &  0.0215 & 0.0037 & 8.0e-09 & 691844\\\\\n",
       "\t 0.00425965 & 116832718 & 2.19989e-36 & -0.0536578 & 11 & NA & ieu-b-107 & rs10892051 & A & C & ⋯ & FALSE & 126251 & 124052 & A & C & 0.05741 &  0.0214 & 0.0037 & 9.5e-09 & 691844\\\\\n",
       "\t 0.00424763 & 116947180 & 1.90020e-36 & -0.0535583 & 11 & NA & ieu-b-107 & rs11216265 & C & T & ⋯ & FALSE & 240713 & 238514 & T & C & 0.94685 & -0.0219 & 0.0037 & 4.7e-09 & 691667\\\\\n",
       "\\end{tabular}\n"
      ],
      "text/markdown": [
       "\n",
       "A tibble: 6 × 28\n",
       "\n",
       "| se &lt;dbl&gt; | position &lt;dbl&gt; | p &lt;dbl&gt; | beta &lt;dbl&gt; | chr &lt;dbl&gt; | n &lt;dbl&gt; | id &lt;chr&gt; | rsid &lt;chr&gt; | ea &lt;chr&gt; | nea &lt;chr&gt; | ⋯ ⋯ | within_gene &lt;lgl&gt; | dist1 &lt;dbl&gt; | dist2 &lt;dbl&gt; | ea_bmi &lt;chr&gt; | nea_bmi &lt;chr&gt; | eaf_bmi &lt;dbl&gt; | beta_bmi &lt;dbl&gt; | se_bmi &lt;dbl&gt; | pval_bmi &lt;dbl&gt; | n_bmi &lt;dbl&gt; |\n",
       "|---|---|---|---|---|---|---|---|---|---|---|---|---|---|---|---|---|---|---|---|---|\n",
       "| 0.00411185 | 116747282 | 2.49977e-43 | -0.0567477 | 11 | NA | ieu-b-107 | rs17120119 | G | C | ⋯ | FALSE |  40815 |  38616 | C | G | 0.93832 | -0.0209 | 0.0036 | 9.8e-09 | 680967 |\n",
       "| 0.00411260 | 116748221 | 1.80011e-43 | -0.0568493 | 11 | NA | ieu-b-107 | rs12279433 | T | G | ⋯ | FALSE |  41754 |  39555 | T | G | 0.06168 |  0.0209 | 0.0036 | 8.4e-09 | 688386 |\n",
       "| 0.00412167 | 116773318 | 4.60045e-43 | -0.0567001 | 11 | NA | ieu-b-107 | rs17120132 | A | T | ⋯ | FALSE |  66851 |  64652 | A | T | 0.06086 |  0.0214 | 0.0036 | 3.7e-09 | 688842 |\n",
       "| 0.00425460 | 116816394 | 1.69981e-36 | -0.0536801 | 11 | NA | ieu-b-107 | rs10892050 | A | C | ⋯ | FALSE | 109927 | 107728 | A | C | 0.05718 |  0.0215 | 0.0037 | 8.0e-09 | 691844 |\n",
       "| 0.00425965 | 116832718 | 2.19989e-36 | -0.0536578 | 11 | NA | ieu-b-107 | rs10892051 | A | C | ⋯ | FALSE | 126251 | 124052 | A | C | 0.05741 |  0.0214 | 0.0037 | 9.5e-09 | 691844 |\n",
       "| 0.00424763 | 116947180 | 1.90020e-36 | -0.0535583 | 11 | NA | ieu-b-107 | rs11216265 | C | T | ⋯ | FALSE | 240713 | 238514 | T | C | 0.94685 | -0.0219 | 0.0037 | 4.7e-09 | 691667 |\n",
       "\n"
      ],
      "text/plain": [
       "  se         position  p           beta       chr n  id        rsid       ea\n",
       "1 0.00411185 116747282 2.49977e-43 -0.0567477 11  NA ieu-b-107 rs17120119 G \n",
       "2 0.00411260 116748221 1.80011e-43 -0.0568493 11  NA ieu-b-107 rs12279433 T \n",
       "3 0.00412167 116773318 4.60045e-43 -0.0567001 11  NA ieu-b-107 rs17120132 A \n",
       "4 0.00425460 116816394 1.69981e-36 -0.0536801 11  NA ieu-b-107 rs10892050 A \n",
       "5 0.00425965 116832718 2.19989e-36 -0.0536578 11  NA ieu-b-107 rs10892051 A \n",
       "6 0.00424763 116947180 1.90020e-36 -0.0535583 11  NA ieu-b-107 rs11216265 C \n",
       "  nea <U+22EF>   within_gene dist1  dist2  ea_bmi nea_bmi eaf_bmi beta_bmi se_bmi\n",
       "1 C   <U+22EF> FALSE        40815  38616 C      G       0.93832 -0.0209  0.0036\n",
       "2 G   <U+22EF> FALSE        41754  39555 T      G       0.06168  0.0209  0.0036\n",
       "3 T   <U+22EF> FALSE        66851  64652 A      T       0.06086  0.0214  0.0036\n",
       "4 C   <U+22EF> FALSE       109927 107728 A      C       0.05718  0.0215  0.0037\n",
       "5 C   <U+22EF> FALSE       126251 124052 A      C       0.05741  0.0214  0.0037\n",
       "6 T   <U+22EF> FALSE       240713 238514 T      C       0.94685 -0.0219  0.0037\n",
       "  pval_bmi n_bmi \n",
       "1 9.8e-09  680967\n",
       "2 8.4e-09  688386\n",
       "3 3.7e-09  688842\n",
       "4 8.0e-09  691844\n",
       "5 9.5e-09  691844\n",
       "6 4.7e-09  691667"
      ]
     },
     "metadata": {},
     "output_type": "display_data"
    }
   ],
   "source": [
    "sigins_cis <- sigins %>%\n",
    "    inner_join(exposures) %>%\n",
    "    filter(chrom == chr) %>%\n",
    "    mutate(within_gene = position > start & position < end,\n",
    "           dist1 = abs(position - start),\n",
    "           dist2 = abs(position - end)) %>%\n",
    "    filter(within_gene | dist1 < 5e5 | dist2 < 5e5) %>%\n",
    "    inner_join(bmi) %>%\n",
    "    filter(pval_bmi < 5e-8)\n",
    "head(sigins_cis)"
   ]
  },
  {
   "cell_type": "code",
   "execution_count": 33,
   "id": "e3bebe03-cd90-418a-bb96-ae9ac788bf3d",
   "metadata": {},
   "outputs": [
    {
     "data": {
      "text/html": [
       "<style>\n",
       ".list-inline {list-style: none; margin:0; padding: 0}\n",
       ".list-inline>li {display: inline-block}\n",
       ".list-inline>li:not(:last-child)::after {content: \"\\00b7\"; padding: 0 .5ex}\n",
       "</style>\n",
       "<ol class=list-inline><li>'ApoA1'</li><li>'SHBG'</li></ol>\n"
      ],
      "text/latex": [
       "\\begin{enumerate*}\n",
       "\\item 'ApoA1'\n",
       "\\item 'SHBG'\n",
       "\\end{enumerate*}\n"
      ],
      "text/markdown": [
       "1. 'ApoA1'\n",
       "2. 'SHBG'\n",
       "\n",
       "\n"
      ],
      "text/plain": [
       "[1] \"ApoA1\" \"SHBG\" "
      ]
     },
     "metadata": {},
     "output_type": "display_data"
    }
   ],
   "source": [
    "sigins_cis$trait_short %>% unique"
   ]
  },
  {
   "cell_type": "markdown",
   "id": "812b79e3-a761-4a28-8654-3ea1de364dcb",
   "metadata": {},
   "source": [
    "- Selecting instruments with strong effects on BMI and harmonizing:"
   ]
  },
  {
   "cell_type": "code",
   "execution_count": 26,
   "id": "9fd59f53-99b3-46e0-a14f-3fc8a7834c51",
   "metadata": {},
   "outputs": [
    {
     "name": "stderr",
     "output_type": "stream",
     "text": [
      "\u001b[1m\u001b[22mJoining, by = c(\"position\", \"chr\", \"rsid\")\n"
     ]
    },
    {
     "data": {
      "text/html": [
       "<table class=\"dataframe\">\n",
       "<caption>A tibble: 6 × 35</caption>\n",
       "<thead>\n",
       "\t<tr><th scope=col>se_exp</th><th scope=col>position</th><th scope=col>p_exp</th><th scope=col>beta_exp</th><th scope=col>chr</th><th scope=col>n</th><th scope=col>id</th><th scope=col>rsid</th><th scope=col>ea_exp</th><th scope=col>nea_exp</th><th scope=col>⋯</th><th scope=col>ea_t2d</th><th scope=col>nea_t2d</th><th scope=col>beta_t2d</th><th scope=col>se_t2d</th><th scope=col>p_t2d</th><th scope=col>n_t2d</th><th scope=col>maf_1kg</th><th scope=col>maf_bmi</th><th scope=col>ea</th><th scope=col>nea</th></tr>\n",
       "\t<tr><th scope=col>&lt;dbl&gt;</th><th scope=col>&lt;dbl&gt;</th><th scope=col>&lt;dbl&gt;</th><th scope=col>&lt;dbl&gt;</th><th scope=col>&lt;dbl&gt;</th><th scope=col>&lt;dbl&gt;</th><th scope=col>&lt;chr&gt;</th><th scope=col>&lt;chr&gt;</th><th scope=col>&lt;chr&gt;</th><th scope=col>&lt;chr&gt;</th><th scope=col>⋯</th><th scope=col>&lt;chr&gt;</th><th scope=col>&lt;chr&gt;</th><th scope=col>&lt;dbl&gt;</th><th scope=col>&lt;dbl&gt;</th><th scope=col>&lt;dbl&gt;</th><th scope=col>&lt;dbl&gt;</th><th scope=col>&lt;dbl&gt;</th><th scope=col>&lt;dbl&gt;</th><th scope=col>&lt;chr&gt;</th><th scope=col>&lt;chr&gt;</th></tr>\n",
       "</thead>\n",
       "<tbody>\n",
       "\t<tr><td>0.00411185</td><td>116747282</td><td>2.49977e-43</td><td>-0.0567477</td><td>11</td><td>NA</td><td>ieu-b-107</td><td>rs17120119</td><td>G</td><td>C</td><td>⋯</td><td>C</td><td>G</td><td> 0.031</td><td>0.025</td><td>0.23</td><td>152598</td><td>0.0646123</td><td>0.06168</td><td>G</td><td>C</td></tr>\n",
       "\t<tr><td>0.00411260</td><td>116748221</td><td>1.80011e-43</td><td>-0.0568493</td><td>11</td><td>NA</td><td>ieu-b-107</td><td>rs12279433</td><td>T</td><td>G</td><td>⋯</td><td>T</td><td>G</td><td>-0.032</td><td>0.025</td><td>0.20</td><td>152598</td><td>0.0646123</td><td>0.06168</td><td>T</td><td>G</td></tr>\n",
       "\t<tr><td>0.00412167</td><td>116773318</td><td>4.60045e-43</td><td>-0.0567001</td><td>11</td><td>NA</td><td>ieu-b-107</td><td>rs17120132</td><td>A</td><td>T</td><td>⋯</td><td>A</td><td>T</td><td>-0.035</td><td>0.025</td><td>0.15</td><td>158185</td><td>0.0646123</td><td>0.06086</td><td>A</td><td>T</td></tr>\n",
       "\t<tr><td>0.00425460</td><td>116816394</td><td>1.69981e-36</td><td>-0.0536801</td><td>11</td><td>NA</td><td>ieu-b-107</td><td>rs10892050</td><td>A</td><td>C</td><td>⋯</td><td>A</td><td>C</td><td>-0.030</td><td>0.025</td><td>0.23</td><td>158185</td><td>0.0626243</td><td>0.05718</td><td>A</td><td>C</td></tr>\n",
       "\t<tr><td>0.00425965</td><td>116832718</td><td>2.19989e-36</td><td>-0.0536578</td><td>11</td><td>NA</td><td>ieu-b-107</td><td>rs10892051</td><td>A</td><td>C</td><td>⋯</td><td>A</td><td>C</td><td>-0.030</td><td>0.025</td><td>0.23</td><td>158185</td><td>0.0626243</td><td>0.05741</td><td>A</td><td>C</td></tr>\n",
       "\t<tr><td>0.00424763</td><td>116947180</td><td>1.90020e-36</td><td>-0.0535583</td><td>11</td><td>NA</td><td>ieu-b-107</td><td>rs11216265</td><td>C</td><td>T</td><td>⋯</td><td>T</td><td>C</td><td> 0.037</td><td>0.027</td><td>0.16</td><td>158185</td><td>0.0626243</td><td>0.05315</td><td>C</td><td>T</td></tr>\n",
       "</tbody>\n",
       "</table>\n"
      ],
      "text/latex": [
       "A tibble: 6 × 35\n",
       "\\begin{tabular}{lllllllllllllllllllll}\n",
       " se\\_exp & position & p\\_exp & beta\\_exp & chr & n & id & rsid & ea\\_exp & nea\\_exp & ⋯ & ea\\_t2d & nea\\_t2d & beta\\_t2d & se\\_t2d & p\\_t2d & n\\_t2d & maf\\_1kg & maf\\_bmi & ea & nea\\\\\n",
       " <dbl> & <dbl> & <dbl> & <dbl> & <dbl> & <dbl> & <chr> & <chr> & <chr> & <chr> & ⋯ & <chr> & <chr> & <dbl> & <dbl> & <dbl> & <dbl> & <dbl> & <dbl> & <chr> & <chr>\\\\\n",
       "\\hline\n",
       "\t 0.00411185 & 116747282 & 2.49977e-43 & -0.0567477 & 11 & NA & ieu-b-107 & rs17120119 & G & C & ⋯ & C & G &  0.031 & 0.025 & 0.23 & 152598 & 0.0646123 & 0.06168 & G & C\\\\\n",
       "\t 0.00411260 & 116748221 & 1.80011e-43 & -0.0568493 & 11 & NA & ieu-b-107 & rs12279433 & T & G & ⋯ & T & G & -0.032 & 0.025 & 0.20 & 152598 & 0.0646123 & 0.06168 & T & G\\\\\n",
       "\t 0.00412167 & 116773318 & 4.60045e-43 & -0.0567001 & 11 & NA & ieu-b-107 & rs17120132 & A & T & ⋯ & A & T & -0.035 & 0.025 & 0.15 & 158185 & 0.0646123 & 0.06086 & A & T\\\\\n",
       "\t 0.00425460 & 116816394 & 1.69981e-36 & -0.0536801 & 11 & NA & ieu-b-107 & rs10892050 & A & C & ⋯ & A & C & -0.030 & 0.025 & 0.23 & 158185 & 0.0626243 & 0.05718 & A & C\\\\\n",
       "\t 0.00425965 & 116832718 & 2.19989e-36 & -0.0536578 & 11 & NA & ieu-b-107 & rs10892051 & A & C & ⋯ & A & C & -0.030 & 0.025 & 0.23 & 158185 & 0.0626243 & 0.05741 & A & C\\\\\n",
       "\t 0.00424763 & 116947180 & 1.90020e-36 & -0.0535583 & 11 & NA & ieu-b-107 & rs11216265 & C & T & ⋯ & T & C &  0.037 & 0.027 & 0.16 & 158185 & 0.0626243 & 0.05315 & C & T\\\\\n",
       "\\end{tabular}\n"
      ],
      "text/markdown": [
       "\n",
       "A tibble: 6 × 35\n",
       "\n",
       "| se_exp &lt;dbl&gt; | position &lt;dbl&gt; | p_exp &lt;dbl&gt; | beta_exp &lt;dbl&gt; | chr &lt;dbl&gt; | n &lt;dbl&gt; | id &lt;chr&gt; | rsid &lt;chr&gt; | ea_exp &lt;chr&gt; | nea_exp &lt;chr&gt; | ⋯ ⋯ | ea_t2d &lt;chr&gt; | nea_t2d &lt;chr&gt; | beta_t2d &lt;dbl&gt; | se_t2d &lt;dbl&gt; | p_t2d &lt;dbl&gt; | n_t2d &lt;dbl&gt; | maf_1kg &lt;dbl&gt; | maf_bmi &lt;dbl&gt; | ea &lt;chr&gt; | nea &lt;chr&gt; |\n",
       "|---|---|---|---|---|---|---|---|---|---|---|---|---|---|---|---|---|---|---|---|---|\n",
       "| 0.00411185 | 116747282 | 2.49977e-43 | -0.0567477 | 11 | NA | ieu-b-107 | rs17120119 | G | C | ⋯ | C | G |  0.031 | 0.025 | 0.23 | 152598 | 0.0646123 | 0.06168 | G | C |\n",
       "| 0.00411260 | 116748221 | 1.80011e-43 | -0.0568493 | 11 | NA | ieu-b-107 | rs12279433 | T | G | ⋯ | T | G | -0.032 | 0.025 | 0.20 | 152598 | 0.0646123 | 0.06168 | T | G |\n",
       "| 0.00412167 | 116773318 | 4.60045e-43 | -0.0567001 | 11 | NA | ieu-b-107 | rs17120132 | A | T | ⋯ | A | T | -0.035 | 0.025 | 0.15 | 158185 | 0.0646123 | 0.06086 | A | T |\n",
       "| 0.00425460 | 116816394 | 1.69981e-36 | -0.0536801 | 11 | NA | ieu-b-107 | rs10892050 | A | C | ⋯ | A | C | -0.030 | 0.025 | 0.23 | 158185 | 0.0626243 | 0.05718 | A | C |\n",
       "| 0.00425965 | 116832718 | 2.19989e-36 | -0.0536578 | 11 | NA | ieu-b-107 | rs10892051 | A | C | ⋯ | A | C | -0.030 | 0.025 | 0.23 | 158185 | 0.0626243 | 0.05741 | A | C |\n",
       "| 0.00424763 | 116947180 | 1.90020e-36 | -0.0535583 | 11 | NA | ieu-b-107 | rs11216265 | C | T | ⋯ | T | C |  0.037 | 0.027 | 0.16 | 158185 | 0.0626243 | 0.05315 | C | T |\n",
       "\n"
      ],
      "text/plain": [
       "  se_exp     position  p_exp       beta_exp   chr n  id        rsid      \n",
       "1 0.00411185 116747282 2.49977e-43 -0.0567477 11  NA ieu-b-107 rs17120119\n",
       "2 0.00411260 116748221 1.80011e-43 -0.0568493 11  NA ieu-b-107 rs12279433\n",
       "3 0.00412167 116773318 4.60045e-43 -0.0567001 11  NA ieu-b-107 rs17120132\n",
       "4 0.00425460 116816394 1.69981e-36 -0.0536801 11  NA ieu-b-107 rs10892050\n",
       "5 0.00425965 116832718 2.19989e-36 -0.0536578 11  NA ieu-b-107 rs10892051\n",
       "6 0.00424763 116947180 1.90020e-36 -0.0535583 11  NA ieu-b-107 rs11216265\n",
       "  ea_exp nea_exp <U+22EF>   ea_t2d nea_t2d beta_t2d se_t2d p_t2d n_t2d  maf_1kg  \n",
       "1 G      C       <U+22EF> C      G        0.031   0.025  0.23  152598 0.0646123\n",
       "2 T      G       <U+22EF> T      G       -0.032   0.025  0.20  152598 0.0646123\n",
       "3 A      T       <U+22EF> A      T       -0.035   0.025  0.15  158185 0.0646123\n",
       "4 A      C       <U+22EF> A      C       -0.030   0.025  0.23  158185 0.0626243\n",
       "5 A      C       <U+22EF> A      C       -0.030   0.025  0.23  158185 0.0626243\n",
       "6 C      T       <U+22EF> T      C        0.037   0.027  0.16  158185 0.0626243\n",
       "  maf_bmi ea nea\n",
       "1 0.06168 G  C  \n",
       "2 0.06168 T  G  \n",
       "3 0.06086 A  T  \n",
       "4 0.05718 A  C  \n",
       "5 0.05741 A  C  \n",
       "6 0.05315 C  T  "
      ]
     },
     "metadata": {},
     "output_type": "display_data"
    }
   ],
   "source": [
    "validins_bmi <- sigins_cis %>%\n",
    "    rename_with(~paste0(.x, \"_exp\"), c(ea, nea, eaf, beta, se, p)) %>%\n",
    "    inner_join(outcome_data) %>%\n",
    "    mutate(maf_bmi = ifelse(eaf_bmi < .5, eaf_bmi, 1 - eaf_bmi),\n",
    "           new_ea = ifelse(beta_bmi > 0, ea_bmi, nea_bmi),\n",
    "           new_nea = ifelse(beta_bmi > 0, nea_bmi, ea_bmi),\n",
    "           eaf_bmi = ifelse(beta_bmi > 0, eaf_bmi, 1 - eaf_bmi),\n",
    "           beta_bmi = abs(beta_bmi)) %>%\n",
    "    select(-c(ea_bmi, nea_bmi)) %>%\n",
    "    filter(abs(maf_bmi - maf_1kg) < .2) %>%\n",
    "    ## Aligning to the BMI increasing allele\n",
    "    mutate(\n",
    "        ea_flip = toupper(stringr::str_replace_all(new_ea, c(\"A\" = \"t\", \"T\" = \"a\", \"C\" = \"g\", \"G\" = \"c\"))),\n",
    "        nea_flip = toupper(stringr::str_replace_all(new_nea, c(\"A\" = \"t\", \"T\" = \"a\", \"C\" = \"g\", \"G\" = \"c\"))),\n",
    "        harmon = case_when(ea_exp == new_ea & nea_exp == new_nea ~ 1,\n",
    "                           ea_exp == new_nea & nea_exp == new_ea ~ -1,\n",
    "                           ea_flip == new_ea & nea_flip == new_nea ~ 1,\n",
    "                           ea_flip == new_nea & nea_flip == new_ea ~ -1,\n",
    "                           TRUE ~ 0),\n",
    "        beta_exp = beta_exp * harmon,\n",
    "        beta_t2d = beta_t2d * harmon,\n",
    "        ea = new_ea, nea = new_nea\n",
    "    ) %>%\n",
    "    ## Removing SNPs with allele mismatch\n",
    "    filter(harmon != 0, abs(maf_bmi - maf_1kg) < .2) %>%\n",
    "    select(-c(harmon, new_ea, new_nea, ea_flip, nea_flip))\n",
    "head(validins_bmi)"
   ]
  },
  {
   "cell_type": "code",
   "execution_count": null,
   "id": "1455093b-b181-454c-921d-c3e5deec8092",
   "metadata": {},
   "outputs": [],
   "source": [
    "validins_bmi %>%\n",
    "    "
   ]
  },
  {
   "cell_type": "markdown",
   "id": "3ee68f81-b337-4730-949c-6987b0486cce",
   "metadata": {},
   "source": [
    "- Clumping to obtain independent SNPs:"
   ]
  },
  {
   "cell_type": "code",
   "execution_count": 15,
   "id": "add9613b-82a5-46a0-8872-7c56744dd208",
   "metadata": {},
   "outputs": [],
   "source": [
    "clump_fx <- function(rsid, pval, \n",
    "                     plink = \"/ludc/Tools/Software/Plink/v1.90b5.2/plink\", \n",
    "                     bfile = \"/ludc/Home/daniel_c/projects/DVA/Data/ReferenceData/1kg_ref/EUR\",\n",
    "                     clump_p = 5e-8, clump_kb = 500, clump_r2 = 0.01){\n",
    "    fn <- tempfile()\n",
    "    dat <- data.frame(SNP = rsid, P = pval)\n",
    "    write_tsv(dat, fn)\n",
    "    plink_cmd <- paste0(plink,\n",
    "                        \" --bfile \", bfile,\n",
    "                        \" --clump \", fn, \n",
    "                        \" --clump-p1 \", clump_p, \n",
    "                        \" --clump-r2 \", clump_r2,\n",
    "                        \" --clump-kb \", clump_kb, \n",
    "                        \" --out \", fn)\n",
    "    system(plink_cmd)\n",
    "    clumped_snps <- paste(\"awk '{print $3}'\", paste(fn, \"clumped\", sep = \".\")) %>%\n",
    "        pipe %>%\n",
    "        readLines\n",
    "    unlink(paste0(fn, \"*\"))\n",
    "    return(clumped_snps)\n",
    "}"
   ]
  },
  {
   "cell_type": "code",
   "execution_count": 30,
   "id": "ff052906-8fff-4e86-b3a6-b80e95fc09c9",
   "metadata": {},
   "outputs": [
    {
     "data": {
      "text/html": [
       "<table class=\"dataframe\">\n",
       "<caption>A tibble: 2 × 35</caption>\n",
       "<thead>\n",
       "\t<tr><th scope=col>trait_short</th><th scope=col>se_exp</th><th scope=col>position</th><th scope=col>p_exp</th><th scope=col>beta_exp</th><th scope=col>chr</th><th scope=col>n</th><th scope=col>id</th><th scope=col>rsid</th><th scope=col>ea_exp</th><th scope=col>⋯</th><th scope=col>ea_t2d</th><th scope=col>nea_t2d</th><th scope=col>beta_t2d</th><th scope=col>se_t2d</th><th scope=col>p_t2d</th><th scope=col>n_t2d</th><th scope=col>maf_1kg</th><th scope=col>maf_bmi</th><th scope=col>ea</th><th scope=col>nea</th></tr>\n",
       "\t<tr><th scope=col>&lt;chr&gt;</th><th scope=col>&lt;dbl&gt;</th><th scope=col>&lt;dbl&gt;</th><th scope=col>&lt;dbl&gt;</th><th scope=col>&lt;dbl&gt;</th><th scope=col>&lt;dbl&gt;</th><th scope=col>&lt;dbl&gt;</th><th scope=col>&lt;chr&gt;</th><th scope=col>&lt;chr&gt;</th><th scope=col>&lt;chr&gt;</th><th scope=col>⋯</th><th scope=col>&lt;chr&gt;</th><th scope=col>&lt;chr&gt;</th><th scope=col>&lt;dbl&gt;</th><th scope=col>&lt;dbl&gt;</th><th scope=col>&lt;dbl&gt;</th><th scope=col>&lt;dbl&gt;</th><th scope=col>&lt;dbl&gt;</th><th scope=col>&lt;dbl&gt;</th><th scope=col>&lt;chr&gt;</th><th scope=col>&lt;chr&gt;</th></tr>\n",
       "</thead>\n",
       "<tbody>\n",
       "\t<tr><td>ApoA1</td><td>0.00410692</td><td>116753552</td><td>6.89922e-44</td><td>-0.0570592</td><td>11</td><td>    NA</td><td>ieu-b-107       </td><td>rs12275565</td><td>G</td><td>⋯</td><td>A</td><td>G</td><td>0.0330</td><td>0.025</td><td>0.17</td><td>158185</td><td>0.0646123</td><td>0.06303</td><td>G</td><td>A</td></tr>\n",
       "\t<tr><td>SHBG </td><td>0.00358100</td><td>  7792465</td><td>3.84061e-26</td><td> 0.0378770</td><td>17</td><td>312215</td><td>ukb-d-30830_irnt</td><td>rs2279620 </td><td>C</td><td>⋯</td><td>C</td><td>G</td><td>0.0043</td><td>0.022</td><td>0.84</td><td>158182</td><td>0.1053680</td><td>0.10390</td><td>C</td><td>G</td></tr>\n",
       "</tbody>\n",
       "</table>\n"
      ],
      "text/latex": [
       "A tibble: 2 × 35\n",
       "\\begin{tabular}{lllllllllllllllllllll}\n",
       " trait\\_short & se\\_exp & position & p\\_exp & beta\\_exp & chr & n & id & rsid & ea\\_exp & ⋯ & ea\\_t2d & nea\\_t2d & beta\\_t2d & se\\_t2d & p\\_t2d & n\\_t2d & maf\\_1kg & maf\\_bmi & ea & nea\\\\\n",
       " <chr> & <dbl> & <dbl> & <dbl> & <dbl> & <dbl> & <dbl> & <chr> & <chr> & <chr> & ⋯ & <chr> & <chr> & <dbl> & <dbl> & <dbl> & <dbl> & <dbl> & <dbl> & <chr> & <chr>\\\\\n",
       "\\hline\n",
       "\t ApoA1 & 0.00410692 & 116753552 & 6.89922e-44 & -0.0570592 & 11 &     NA & ieu-b-107        & rs12275565 & G & ⋯ & A & G & 0.0330 & 0.025 & 0.17 & 158185 & 0.0646123 & 0.06303 & G & A\\\\\n",
       "\t SHBG  & 0.00358100 &   7792465 & 3.84061e-26 &  0.0378770 & 17 & 312215 & ukb-d-30830\\_irnt & rs2279620  & C & ⋯ & C & G & 0.0043 & 0.022 & 0.84 & 158182 & 0.1053680 & 0.10390 & C & G\\\\\n",
       "\\end{tabular}\n"
      ],
      "text/markdown": [
       "\n",
       "A tibble: 2 × 35\n",
       "\n",
       "| trait_short &lt;chr&gt; | se_exp &lt;dbl&gt; | position &lt;dbl&gt; | p_exp &lt;dbl&gt; | beta_exp &lt;dbl&gt; | chr &lt;dbl&gt; | n &lt;dbl&gt; | id &lt;chr&gt; | rsid &lt;chr&gt; | ea_exp &lt;chr&gt; | ⋯ ⋯ | ea_t2d &lt;chr&gt; | nea_t2d &lt;chr&gt; | beta_t2d &lt;dbl&gt; | se_t2d &lt;dbl&gt; | p_t2d &lt;dbl&gt; | n_t2d &lt;dbl&gt; | maf_1kg &lt;dbl&gt; | maf_bmi &lt;dbl&gt; | ea &lt;chr&gt; | nea &lt;chr&gt; |\n",
       "|---|---|---|---|---|---|---|---|---|---|---|---|---|---|---|---|---|---|---|---|---|\n",
       "| ApoA1 | 0.00410692 | 116753552 | 6.89922e-44 | -0.0570592 | 11 |     NA | ieu-b-107        | rs12275565 | G | ⋯ | A | G | 0.0330 | 0.025 | 0.17 | 158185 | 0.0646123 | 0.06303 | G | A |\n",
       "| SHBG  | 0.00358100 |   7792465 | 3.84061e-26 |  0.0378770 | 17 | 312215 | ukb-d-30830_irnt | rs2279620  | C | ⋯ | C | G | 0.0043 | 0.022 | 0.84 | 158182 | 0.1053680 | 0.10390 | C | G |\n",
       "\n"
      ],
      "text/plain": [
       "  trait_short se_exp     position  p_exp       beta_exp   chr n     \n",
       "1 ApoA1       0.00410692 116753552 6.89922e-44 -0.0570592 11      NA\n",
       "2 SHBG        0.00358100   7792465 3.84061e-26  0.0378770 17  312215\n",
       "  id               rsid       ea_exp <U+22EF>   ea_t2d nea_t2d beta_t2d se_t2d\n",
       "1 ieu-b-107        rs12275565 G      <U+22EF> A      G       0.0330   0.025 \n",
       "2 ukb-d-30830_irnt rs2279620  C      <U+22EF> C      G       0.0043   0.022 \n",
       "  p_t2d n_t2d  maf_1kg   maf_bmi ea nea\n",
       "1 0.17  158185 0.0646123 0.06303 G  A  \n",
       "2 0.84  158182 0.1053680 0.10390 C  G  "
      ]
     },
     "metadata": {},
     "output_type": "display_data"
    }
   ],
   "source": [
    "cis_ins_dat <- validins_bmi %>%\n",
    "    group_by(trait_short) %>%\n",
    "    group_modify(~{\n",
    "        snps_to_retain <- clump_fx(.x$rsid, .x$p_exp)\n",
    "        clumped_dat <- filter(.x, rsid %in% snps_to_retain)\n",
    "    }) %>%\n",
    "    ungroup\n",
    "cis_ins_dat"
   ]
  },
  {
   "cell_type": "code",
   "execution_count": 35,
   "id": "da863b40-6f03-4992-a692-e49ca036d99d",
   "metadata": {},
   "outputs": [],
   "source": [
    "write_tsv(cis_ins_dat, \"../data/cis_ins_dat.tsv\")"
   ]
  },
  {
   "cell_type": "code",
   "execution_count": 36,
   "id": "b77f3b49-655e-44ca-ac75-bef5a85b39a0",
   "metadata": {},
   "outputs": [
    {
     "name": "stdout",
     "output_type": "stream",
     "text": [
      "  trait_short     se_exp  position       p_exp   beta_exp chr      n\n",
      "1       ApoA1 0.00410692 116753552 6.89922e-44 -0.0570592  11     NA\n",
      "2        SHBG 0.00358100   7792465 3.84061e-26  0.0378770  17 312215\n",
      "                id       rsid ea_exp nea_exp  eaf_exp              trait\n",
      "1        ieu-b-107 rs12275565      G       A 0.060807 apolipoprotein A-I\n",
      "2 ukb-d-30830_irnt  rs2279620      C       G 0.113780               SHBG\n",
      "      start       end      ensembl_id requireCisMR within_gene  dist1  dist2\n",
      "1 116706467 116708666 ENSG00000118137         TRUE       FALSE  47085  44886\n",
      "2   7517382   7536700 ENSG00000129214         TRUE       FALSE 275083 255765\n",
      "  eaf_bmi beta_bmi se_bmi pval_bmi  n_bmi ea_t2d nea_t2d beta_t2d se_t2d p_t2d\n",
      "1 0.06303   0.0206 0.0036  1.3e-08 688457      A       G   0.0330  0.025  0.17\n",
      "2 0.10390   0.0170 0.0028  1.6e-09 674410      C       G   0.0043  0.022  0.84\n",
      "   n_t2d   maf_1kg maf_bmi ea nea\n",
      "1 158185 0.0646123 0.06303  G   A\n",
      "2 158182 0.1053680 0.10390  C   G\n"
     ]
    }
   ],
   "source": [
    "cis_ins_dat %>%\n",
    "    data.frame %>%\n",
    "    print"
   ]
  }
 ],
 "metadata": {
  "citation-manager": {
   "items": {}
  },
  "kernelspec": {
   "display_name": "R",
   "language": "R",
   "name": "ir"
  },
  "language_info": {
   "codemirror_mode": "r",
   "file_extension": ".r",
   "mimetype": "text/x-r-source",
   "name": "R",
   "pygments_lexer": "r",
   "version": "4.1.2"
  }
 },
 "nbformat": 4,
 "nbformat_minor": 5
}
